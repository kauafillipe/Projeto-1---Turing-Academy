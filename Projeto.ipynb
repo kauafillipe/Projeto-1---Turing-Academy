{
 "cells": [
  {
   "cell_type": "markdown",
   "source": [
    "PROJETO 1 - TURING ACADEMY"
   ],
   "metadata": {}
  },
  {
   "cell_type": "code",
   "execution_count": 182,
   "source": [
    "#importação das bibliotecas\r\n",
    "import pandas as pd\r\n",
    "import matplotlib.pyplot as plt\r\n",
    "import seaborn as sns\r\n",
    "import numpy as np"
   ],
   "outputs": [],
   "metadata": {}
  },
  {
   "cell_type": "code",
   "execution_count": 2,
   "source": [
    "#importando o dataframe\r\n",
    "df = pd.read_csv(\"df_athlete_events.csv\")"
   ],
   "outputs": [],
   "metadata": {}
  },
  {
   "cell_type": "code",
   "execution_count": 12,
   "source": [
    "df.head()"
   ],
   "outputs": [
    {
     "output_type": "execute_result",
     "data": {
      "text/html": [
       "<div>\n",
       "<style scoped>\n",
       "    .dataframe tbody tr th:only-of-type {\n",
       "        vertical-align: middle;\n",
       "    }\n",
       "\n",
       "    .dataframe tbody tr th {\n",
       "        vertical-align: top;\n",
       "    }\n",
       "\n",
       "    .dataframe thead th {\n",
       "        text-align: right;\n",
       "    }\n",
       "</style>\n",
       "<table border=\"1\" class=\"dataframe\">\n",
       "  <thead>\n",
       "    <tr style=\"text-align: right;\">\n",
       "      <th></th>\n",
       "      <th>Athlete_ID</th>\n",
       "      <th>Name</th>\n",
       "      <th>Sex</th>\n",
       "      <th>Age</th>\n",
       "      <th>Height</th>\n",
       "      <th>Weight</th>\n",
       "      <th>Team</th>\n",
       "      <th>NOC</th>\n",
       "      <th>Games</th>\n",
       "      <th>Year</th>\n",
       "      <th>Season</th>\n",
       "      <th>City</th>\n",
       "      <th>Sport</th>\n",
       "      <th>Event</th>\n",
       "      <th>Medal</th>\n",
       "    </tr>\n",
       "  </thead>\n",
       "  <tbody>\n",
       "    <tr>\n",
       "      <th>0</th>\n",
       "      <td>4</td>\n",
       "      <td>Edgar Lindenau Aabye</td>\n",
       "      <td>M</td>\n",
       "      <td>34.0</td>\n",
       "      <td>NaN</td>\n",
       "      <td>NaN</td>\n",
       "      <td>Denmark/Sweden</td>\n",
       "      <td>DEN</td>\n",
       "      <td>1900 Summer</td>\n",
       "      <td>1900</td>\n",
       "      <td>Summer</td>\n",
       "      <td>Paris</td>\n",
       "      <td>Tug-Of-War</td>\n",
       "      <td>Tug-Of-War Men's Tug-Of-War</td>\n",
       "      <td>Gold</td>\n",
       "    </tr>\n",
       "    <tr>\n",
       "      <th>1</th>\n",
       "      <td>6</td>\n",
       "      <td>Per Knut Aaland</td>\n",
       "      <td>M</td>\n",
       "      <td>31.0</td>\n",
       "      <td>188.0</td>\n",
       "      <td>75.0</td>\n",
       "      <td>United States</td>\n",
       "      <td>USA</td>\n",
       "      <td>1992 Winter</td>\n",
       "      <td>1992</td>\n",
       "      <td>Winter</td>\n",
       "      <td>Albertville</td>\n",
       "      <td>Cross Country Skiing</td>\n",
       "      <td>Cross Country Skiing Men's 10/15 kilometres Pu...</td>\n",
       "      <td>NaN</td>\n",
       "    </tr>\n",
       "    <tr>\n",
       "      <th>2</th>\n",
       "      <td>15</td>\n",
       "      <td>Arvo Ossian Aaltonen</td>\n",
       "      <td>M</td>\n",
       "      <td>30.0</td>\n",
       "      <td>NaN</td>\n",
       "      <td>NaN</td>\n",
       "      <td>Finland</td>\n",
       "      <td>FIN</td>\n",
       "      <td>1920 Summer</td>\n",
       "      <td>1920</td>\n",
       "      <td>Summer</td>\n",
       "      <td>Antwerpen</td>\n",
       "      <td>Swimming</td>\n",
       "      <td>Swimming Men's 200 metres Breaststroke</td>\n",
       "      <td>Bronze</td>\n",
       "    </tr>\n",
       "    <tr>\n",
       "      <th>3</th>\n",
       "      <td>15</td>\n",
       "      <td>Arvo Ossian Aaltonen</td>\n",
       "      <td>M</td>\n",
       "      <td>30.0</td>\n",
       "      <td>NaN</td>\n",
       "      <td>NaN</td>\n",
       "      <td>Finland</td>\n",
       "      <td>FIN</td>\n",
       "      <td>1920 Summer</td>\n",
       "      <td>1920</td>\n",
       "      <td>Summer</td>\n",
       "      <td>Antwerpen</td>\n",
       "      <td>Swimming</td>\n",
       "      <td>Swimming Men's 400 metres Breaststroke</td>\n",
       "      <td>Bronze</td>\n",
       "    </tr>\n",
       "    <tr>\n",
       "      <th>4</th>\n",
       "      <td>16</td>\n",
       "      <td>Juhamatti Tapio Aaltonen</td>\n",
       "      <td>M</td>\n",
       "      <td>28.0</td>\n",
       "      <td>184.0</td>\n",
       "      <td>85.0</td>\n",
       "      <td>Finland</td>\n",
       "      <td>FIN</td>\n",
       "      <td>2014 Winter</td>\n",
       "      <td>2014</td>\n",
       "      <td>Winter</td>\n",
       "      <td>Sochi</td>\n",
       "      <td>Ice Hockey</td>\n",
       "      <td>Ice Hockey Men's Ice Hockey</td>\n",
       "      <td>Bronze</td>\n",
       "    </tr>\n",
       "  </tbody>\n",
       "</table>\n",
       "</div>"
      ],
      "text/plain": [
       "   Athlete_ID                      Name Sex   Age  Height Weight  \\\n",
       "0           4      Edgar Lindenau Aabye   M  34.0     NaN    NaN   \n",
       "1           6           Per Knut Aaland   M  31.0   188.0   75.0   \n",
       "2          15      Arvo Ossian Aaltonen   M  30.0     NaN    NaN   \n",
       "3          15      Arvo Ossian Aaltonen   M  30.0     NaN    NaN   \n",
       "4          16  Juhamatti Tapio Aaltonen   M  28.0   184.0   85.0   \n",
       "\n",
       "             Team  NOC        Games  Year  Season         City  \\\n",
       "0  Denmark/Sweden  DEN  1900 Summer  1900  Summer        Paris   \n",
       "1   United States  USA  1992 Winter  1992  Winter  Albertville   \n",
       "2         Finland  FIN  1920 Summer  1920  Summer    Antwerpen   \n",
       "3         Finland  FIN  1920 Summer  1920  Summer    Antwerpen   \n",
       "4         Finland  FIN  2014 Winter  2014  Winter        Sochi   \n",
       "\n",
       "                  Sport                                              Event  \\\n",
       "0            Tug-Of-War                        Tug-Of-War Men's Tug-Of-War   \n",
       "1  Cross Country Skiing  Cross Country Skiing Men's 10/15 kilometres Pu...   \n",
       "2              Swimming             Swimming Men's 200 metres Breaststroke   \n",
       "3              Swimming             Swimming Men's 400 metres Breaststroke   \n",
       "4            Ice Hockey                        Ice Hockey Men's Ice Hockey   \n",
       "\n",
       "    Medal  \n",
       "0    Gold  \n",
       "1     NaN  \n",
       "2  Bronze  \n",
       "3  Bronze  \n",
       "4  Bronze  "
      ]
     },
     "metadata": {},
     "execution_count": 12
    }
   ],
   "metadata": {}
  },
  {
   "cell_type": "code",
   "execution_count": 14,
   "source": [
    "#indexação do ID\r\n",
    "df.set_index(\"Athlete_ID\", inplace=True)"
   ],
   "outputs": [],
   "metadata": {}
  },
  {
   "cell_type": "code",
   "execution_count": 18,
   "source": [
    "df.info()"
   ],
   "outputs": [
    {
     "output_type": "stream",
     "name": "stdout",
     "text": [
      "<class 'pandas.core.frame.DataFrame'>\n",
      "Int64Index: 45567 entries, 4 to 135563\n",
      "Data columns (total 14 columns):\n",
      " #   Column  Non-Null Count  Dtype  \n",
      "---  ------  --------------  -----  \n",
      " 0   Name    45567 non-null  object \n",
      " 1   Sex     45567 non-null  object \n",
      " 2   Age     44594 non-null  float64\n",
      " 3   Height  35547 non-null  float64\n",
      " 4   Weight  34926 non-null  object \n",
      " 5   Team    45567 non-null  object \n",
      " 6   NOC     45567 non-null  object \n",
      " 7   Games   45567 non-null  object \n",
      " 8   Year    45567 non-null  int64  \n",
      " 9   Season  45567 non-null  object \n",
      " 10  City    45567 non-null  object \n",
      " 11  Sport   45567 non-null  object \n",
      " 12  Event   45567 non-null  object \n",
      " 13  Medal   39804 non-null  object \n",
      "dtypes: float64(2), int64(1), object(11)\n",
      "memory usage: 5.2+ MB\n"
     ]
    }
   ],
   "metadata": {}
  },
  {
   "cell_type": "markdown",
   "source": [
    "Notamos que:\r\n",
    "1) Age está como float (deve ser int);\r\n",
    "2) Weight está como object (deve ser float);\r\n",
    "3) Dados faltantes para Age, Height, Weight e Medal;\r\n",
    "4) Sex - problema com unique values (M/Male e F/Female);\r\n"
   ],
   "metadata": {}
  },
  {
   "cell_type": "code",
   "execution_count": 55,
   "source": [
    "#Vamos dar uma conferida melhor na categoria Sex\r\n",
    "print(pd.Series(df[\"Sex\"].unique()), end='\\n\\n') #categoria atualizada com as alterações em M e F"
   ],
   "outputs": [
    {
     "output_type": "stream",
     "name": "stdout",
     "text": [
      "0                       MALE\n",
      "1                     FEMALE\n",
      "2    Vic vai te dar um socao\n",
      "3          P&D >> Comunidade\n",
      "dtype: object\n",
      "\n"
     ]
    }
   ],
   "metadata": {}
  },
  {
   "cell_type": "markdown",
   "source": [
    "Podemos perceber que, para Sex, são atribuídos 6 valores únicos, o que indica que foram consideradas 6 possibilidades de sexo.\r\n",
    "Dentre elas, podemos destacar algumas bem curiosas: 'Vic vai te dar um socao' e 'P&D >> Comunidade'. Sabemos que isso não condiz com a realidade, em especial a última.\r\n",
    "Vamos, então, considerar apenas as opções 'MALE' e 'FEMALAE'."
   ],
   "metadata": {}
  },
  {
   "cell_type": "code",
   "execution_count": 53,
   "source": [
    "# Troca \"M\" por \"MALE\"\r\n",
    "df[\"Sex\"].replace(\"M\", \"MALE\", inplace=True)\r\n",
    "\r\n",
    "# Troca \"F\" e \"FEMALE\"\r\n",
    "df[\"Sex\"].replace(\"F\", \"FEMALE\", inplace=True)"
   ],
   "outputs": [],
   "metadata": {}
  },
  {
   "cell_type": "code",
   "execution_count": 59,
   "source": [
    "#Vamos analisar o perfil dos atletas cujo sexo é Vic vai te dar um socao\r\n",
    "df[df[\"Sex\"] == \"Vic vai te dar um socao\"]"
   ],
   "outputs": [
    {
     "output_type": "execute_result",
     "data": {
      "text/html": [
       "<div>\n",
       "<style scoped>\n",
       "    .dataframe tbody tr th:only-of-type {\n",
       "        vertical-align: middle;\n",
       "    }\n",
       "\n",
       "    .dataframe tbody tr th {\n",
       "        vertical-align: top;\n",
       "    }\n",
       "\n",
       "    .dataframe thead th {\n",
       "        text-align: right;\n",
       "    }\n",
       "</style>\n",
       "<table border=\"1\" class=\"dataframe\">\n",
       "  <thead>\n",
       "    <tr style=\"text-align: right;\">\n",
       "      <th></th>\n",
       "      <th>Name</th>\n",
       "      <th>Sex</th>\n",
       "      <th>Age</th>\n",
       "      <th>Height</th>\n",
       "      <th>Weight</th>\n",
       "      <th>Team</th>\n",
       "      <th>NOC</th>\n",
       "      <th>Games</th>\n",
       "      <th>Year</th>\n",
       "      <th>Season</th>\n",
       "      <th>City</th>\n",
       "      <th>Sport</th>\n",
       "      <th>Event</th>\n",
       "      <th>Medal</th>\n",
       "    </tr>\n",
       "    <tr>\n",
       "      <th>Athlete_ID</th>\n",
       "      <th></th>\n",
       "      <th></th>\n",
       "      <th></th>\n",
       "      <th></th>\n",
       "      <th></th>\n",
       "      <th></th>\n",
       "      <th></th>\n",
       "      <th></th>\n",
       "      <th></th>\n",
       "      <th></th>\n",
       "      <th></th>\n",
       "      <th></th>\n",
       "      <th></th>\n",
       "      <th></th>\n",
       "    </tr>\n",
       "  </thead>\n",
       "  <tbody>\n",
       "    <tr>\n",
       "      <th>30</th>\n",
       "      <td>Pepijn Aardewijn</td>\n",
       "      <td>Vic vai te dar um socao</td>\n",
       "      <td>26.0</td>\n",
       "      <td>189.0</td>\n",
       "      <td>72.0</td>\n",
       "      <td>Netherlands</td>\n",
       "      <td>NED</td>\n",
       "      <td>1996 Summer</td>\n",
       "      <td>-765</td>\n",
       "      <td>Summer</td>\n",
       "      <td>Atlanta</td>\n",
       "      <td>Rowing</td>\n",
       "      <td>Rowing Men's Lightweight Double Sculls</td>\n",
       "      <td>Silver</td>\n",
       "    </tr>\n",
       "    <tr>\n",
       "      <th>562</th>\n",
       "      <td>Pawe Abratkiewicz</td>\n",
       "      <td>Vic vai te dar um socao</td>\n",
       "      <td>27.0</td>\n",
       "      <td>183.0</td>\n",
       "      <td>84.0</td>\n",
       "      <td>Poland</td>\n",
       "      <td>POL</td>\n",
       "      <td>1998 Winter</td>\n",
       "      <td>1998</td>\n",
       "      <td>Winter</td>\n",
       "      <td>Nagano</td>\n",
       "      <td>Speed Skating</td>\n",
       "      <td>Speed Skating Men's 500 metres</td>\n",
       "      <td>NaN</td>\n",
       "    </tr>\n",
       "    <tr>\n",
       "      <th>963</th>\n",
       "      <td>Derrick Ralph Adkins</td>\n",
       "      <td>Vic vai te dar um socao</td>\n",
       "      <td>26.0</td>\n",
       "      <td>188.0</td>\n",
       "      <td>80.0</td>\n",
       "      <td>United States</td>\n",
       "      <td>USA</td>\n",
       "      <td>1996 Summer</td>\n",
       "      <td>1996</td>\n",
       "      <td>Summer</td>\n",
       "      <td>Atlanta</td>\n",
       "      <td>Athletics</td>\n",
       "      <td>Athletics Men's 400 metres Hurdles</td>\n",
       "      <td>Gold</td>\n",
       "    </tr>\n",
       "    <tr>\n",
       "      <th>1435</th>\n",
       "      <td>Janne Petteri Ahonen</td>\n",
       "      <td>Vic vai te dar um socao</td>\n",
       "      <td>28.0</td>\n",
       "      <td>184.0</td>\n",
       "      <td>66.0</td>\n",
       "      <td>Finland</td>\n",
       "      <td>FIN</td>\n",
       "      <td>2006 Winter</td>\n",
       "      <td>2006</td>\n",
       "      <td>Winter</td>\n",
       "      <td>Torino</td>\n",
       "      <td>Ski Jumping</td>\n",
       "      <td>Ski Jumping Men's Large Hill, Team</td>\n",
       "      <td>Silver</td>\n",
       "    </tr>\n",
       "    <tr>\n",
       "      <th>1555</th>\n",
       "      <td>Geard Ajetovi</td>\n",
       "      <td>Vic vai te dar um socao</td>\n",
       "      <td>19.0</td>\n",
       "      <td>170.0</td>\n",
       "      <td>67.0</td>\n",
       "      <td>Serbia and Montenegro</td>\n",
       "      <td>SCG</td>\n",
       "      <td>2000 Summer</td>\n",
       "      <td>2000</td>\n",
       "      <td>Summer</td>\n",
       "      <td>Sydney</td>\n",
       "      <td>Boxing</td>\n",
       "      <td>Boxing Men's Welterweight</td>\n",
       "      <td>NaN</td>\n",
       "    </tr>\n",
       "    <tr>\n",
       "      <th>...</th>\n",
       "      <td>...</td>\n",
       "      <td>...</td>\n",
       "      <td>...</td>\n",
       "      <td>...</td>\n",
       "      <td>...</td>\n",
       "      <td>...</td>\n",
       "      <td>...</td>\n",
       "      <td>...</td>\n",
       "      <td>...</td>\n",
       "      <td>...</td>\n",
       "      <td>...</td>\n",
       "      <td>...</td>\n",
       "      <td>...</td>\n",
       "      <td>...</td>\n",
       "    </tr>\n",
       "    <tr>\n",
       "      <th>132195</th>\n",
       "      <td>Yury Aleksandrovich Yakimov</td>\n",
       "      <td>Vic vai te dar um socao</td>\n",
       "      <td>23.0</td>\n",
       "      <td>186.0</td>\n",
       "      <td>80.0</td>\n",
       "      <td>Soviet Union</td>\n",
       "      <td>URS</td>\n",
       "      <td>1976 Summer</td>\n",
       "      <td>1976</td>\n",
       "      <td>Summer</td>\n",
       "      <td>Montreal</td>\n",
       "      <td>Rowing</td>\n",
       "      <td>Rowing Men's Quadruple Sculls</td>\n",
       "      <td>Silver</td>\n",
       "    </tr>\n",
       "    <tr>\n",
       "      <th>132638</th>\n",
       "      <td>Dmitry Semyonovich Yaparov</td>\n",
       "      <td>Vic vai te dar um socao</td>\n",
       "      <td>28.0</td>\n",
       "      <td>186.0</td>\n",
       "      <td>86.0</td>\n",
       "      <td>Russia</td>\n",
       "      <td>RUS</td>\n",
       "      <td>2014 Winter</td>\n",
       "      <td>2014</td>\n",
       "      <td>Winter</td>\n",
       "      <td>Sochi</td>\n",
       "      <td>Cross Country Skiing</td>\n",
       "      <td>Cross Country Skiing Men's 4 x 10 kilometres R...</td>\n",
       "      <td>Silver</td>\n",
       "    </tr>\n",
       "    <tr>\n",
       "      <th>133136</th>\n",
       "      <td>Yoshikatsu Yoshida</td>\n",
       "      <td>Vic vai te dar um socao</td>\n",
       "      <td>22.0</td>\n",
       "      <td>161.0</td>\n",
       "      <td>56.0</td>\n",
       "      <td>Japan</td>\n",
       "      <td>JPN</td>\n",
       "      <td>1964 Summer</td>\n",
       "      <td>1964</td>\n",
       "      <td>Summer</td>\n",
       "      <td>Tokyo</td>\n",
       "      <td>Wrestling</td>\n",
       "      <td>Wrestling Men's Flyweight, Freestyle</td>\n",
       "      <td>Gold</td>\n",
       "    </tr>\n",
       "    <tr>\n",
       "      <th>133512</th>\n",
       "      <td>Denys Serhiyovych Yurchenko</td>\n",
       "      <td>Vic vai te dar um socao</td>\n",
       "      <td>30.0</td>\n",
       "      <td>175.0</td>\n",
       "      <td>75.0</td>\n",
       "      <td>Ukraine</td>\n",
       "      <td>UKR</td>\n",
       "      <td>2008 Summer</td>\n",
       "      <td>2008</td>\n",
       "      <td>Summer</td>\n",
       "      <td>Beijing</td>\n",
       "      <td>Athletics</td>\n",
       "      <td>Athletics Men's Pole Vault</td>\n",
       "      <td>Bronze</td>\n",
       "    </tr>\n",
       "    <tr>\n",
       "      <th>133933</th>\n",
       "      <td>Javier Adelmar Zanetti</td>\n",
       "      <td>Vic vai te dar um socao</td>\n",
       "      <td>22.0</td>\n",
       "      <td>178.0</td>\n",
       "      <td>73.0</td>\n",
       "      <td>Argentina</td>\n",
       "      <td>ARG</td>\n",
       "      <td>1996 Summer</td>\n",
       "      <td>1996</td>\n",
       "      <td>Summer</td>\n",
       "      <td>Atlanta</td>\n",
       "      <td>Football</td>\n",
       "      <td>Football Men's Football</td>\n",
       "      <td>Silver</td>\n",
       "    </tr>\n",
       "  </tbody>\n",
       "</table>\n",
       "<p>312 rows × 14 columns</p>\n",
       "</div>"
      ],
      "text/plain": [
       "                                   Name                      Sex   Age  \\\n",
       "Athlete_ID                                                               \n",
       "30                     Pepijn Aardewijn  Vic vai te dar um socao  26.0   \n",
       "562                   Pawe Abratkiewicz  Vic vai te dar um socao  27.0   \n",
       "963                Derrick Ralph Adkins  Vic vai te dar um socao  26.0   \n",
       "1435               Janne Petteri Ahonen  Vic vai te dar um socao  28.0   \n",
       "1555                      Geard Ajetovi  Vic vai te dar um socao  19.0   \n",
       "...                                 ...                      ...   ...   \n",
       "132195      Yury Aleksandrovich Yakimov  Vic vai te dar um socao  23.0   \n",
       "132638       Dmitry Semyonovich Yaparov  Vic vai te dar um socao  28.0   \n",
       "133136               Yoshikatsu Yoshida  Vic vai te dar um socao  22.0   \n",
       "133512      Denys Serhiyovych Yurchenko  Vic vai te dar um socao  30.0   \n",
       "133933           Javier Adelmar Zanetti  Vic vai te dar um socao  22.0   \n",
       "\n",
       "            Height Weight                   Team  NOC        Games  Year  \\\n",
       "Athlete_ID                                                                 \n",
       "30           189.0   72.0            Netherlands  NED  1996 Summer  -765   \n",
       "562          183.0   84.0                 Poland  POL  1998 Winter  1998   \n",
       "963          188.0   80.0          United States  USA  1996 Summer  1996   \n",
       "1435         184.0   66.0                Finland  FIN  2006 Winter  2006   \n",
       "1555         170.0   67.0  Serbia and Montenegro  SCG  2000 Summer  2000   \n",
       "...            ...    ...                    ...  ...          ...   ...   \n",
       "132195       186.0   80.0           Soviet Union  URS  1976 Summer  1976   \n",
       "132638       186.0   86.0                 Russia  RUS  2014 Winter  2014   \n",
       "133136       161.0   56.0                  Japan  JPN  1964 Summer  1964   \n",
       "133512       175.0   75.0                Ukraine  UKR  2008 Summer  2008   \n",
       "133933       178.0   73.0              Argentina  ARG  1996 Summer  1996   \n",
       "\n",
       "            Season      City                 Sport  \\\n",
       "Athlete_ID                                           \n",
       "30          Summer   Atlanta                Rowing   \n",
       "562         Winter    Nagano         Speed Skating   \n",
       "963         Summer   Atlanta             Athletics   \n",
       "1435        Winter    Torino           Ski Jumping   \n",
       "1555        Summer    Sydney                Boxing   \n",
       "...            ...       ...                   ...   \n",
       "132195      Summer  Montreal                Rowing   \n",
       "132638      Winter     Sochi  Cross Country Skiing   \n",
       "133136      Summer     Tokyo             Wrestling   \n",
       "133512      Summer   Beijing             Athletics   \n",
       "133933      Summer   Atlanta              Football   \n",
       "\n",
       "                                                        Event   Medal  \n",
       "Athlete_ID                                                             \n",
       "30                     Rowing Men's Lightweight Double Sculls  Silver  \n",
       "562                            Speed Skating Men's 500 metres     NaN  \n",
       "963                        Athletics Men's 400 metres Hurdles    Gold  \n",
       "1435                       Ski Jumping Men's Large Hill, Team  Silver  \n",
       "1555                                Boxing Men's Welterweight     NaN  \n",
       "...                                                       ...     ...  \n",
       "132195                          Rowing Men's Quadruple Sculls  Silver  \n",
       "132638      Cross Country Skiing Men's 4 x 10 kilometres R...  Silver  \n",
       "133136                   Wrestling Men's Flyweight, Freestyle    Gold  \n",
       "133512                             Athletics Men's Pole Vault  Bronze  \n",
       "133933                                Football Men's Football  Silver  \n",
       "\n",
       "[312 rows x 14 columns]"
      ]
     },
     "metadata": {},
     "execution_count": 59
    }
   ],
   "metadata": {}
  },
  {
   "cell_type": "code",
   "execution_count": 77,
   "source": [
    "#Vamos nos atentar à categoria Events dos atletas que possuem o sexo Vic vai te dar um socao\r\n",
    "pd.Series(df[df[\"Sex\"] == \"Vic vai te dar um socao\"][\"Event\"])"
   ],
   "outputs": [
    {
     "output_type": "execute_result",
     "data": {
      "text/plain": [
       "Athlete_ID\n",
       "30                   Rowing Men's Lightweight Double Sculls\n",
       "562                          Speed Skating Men's 500 metres\n",
       "963                      Athletics Men's 400 metres Hurdles\n",
       "1435                     Ski Jumping Men's Large Hill, Team\n",
       "1555                              Boxing Men's Welterweight\n",
       "                                ...                        \n",
       "132195                        Rowing Men's Quadruple Sculls\n",
       "132638    Cross Country Skiing Men's 4 x 10 kilometres R...\n",
       "133136                 Wrestling Men's Flyweight, Freestyle\n",
       "133512                           Athletics Men's Pole Vault\n",
       "133933                              Football Men's Football\n",
       "Name: Event, Length: 312, dtype: object"
      ]
     },
     "metadata": {},
     "execution_count": 77
    }
   ],
   "metadata": {}
  },
  {
   "cell_type": "markdown",
   "source": [
    "Perceba um padrão: a maioria dos atletas que a série nos mostra jogaram em eventos masculinos. Sabemos disso pois todos os eventos contém a palavra \"Men's\". \r\n",
    "É importante ressaltar que são 312 atletas que possuem o sexo Vic vai te dar um socao.\r\n",
    "Vamos garantir que todos eles são, de fato, homens?"
   ],
   "metadata": {}
  },
  {
   "cell_type": "code",
   "execution_count": 78,
   "source": [
    "#Contagem de quantos dos eventos cujos atletas posseum o sexo Vic vai te dar um socao contêm a palavra \"Men's\"\r\n",
    "pd.Series(df[df[\"Sex\"] == \"Vic vai te dar um socao\"][\"Event\"].str.contains(\"Men's\")).count()"
   ],
   "outputs": [
    {
     "output_type": "execute_result",
     "data": {
      "text/plain": [
       "312"
      ]
     },
     "metadata": {},
     "execution_count": 78
    }
   ],
   "metadata": {}
  },
  {
   "cell_type": "markdown",
   "source": [
    "Match total! Agora sim temos a certeza de que todos esses atletas são, na verdade, do sexo MALE e não do sexo Vic vai te dar um socao. Vamos fazer a troca correta?"
   ],
   "metadata": {}
  },
  {
   "cell_type": "code",
   "execution_count": 79,
   "source": [
    "# Troca \"Vic vai te dar um socao\" por \"MALE\"\r\n",
    "df[\"Sex\"].replace(\"Vic vai te dar um socao\", \"MALE\", inplace=True)"
   ],
   "outputs": [],
   "metadata": {}
  },
  {
   "cell_type": "code",
   "execution_count": 80,
   "source": [
    "print(pd.Series(df[\"Sex\"].unique()), end='\\n\\n')"
   ],
   "outputs": [
    {
     "output_type": "stream",
     "name": "stdout",
     "text": [
      "0                 MALE\n",
      "1               FEMALE\n",
      "2    P&D >> Comunidade\n",
      "dtype: object\n",
      "\n"
     ]
    }
   ],
   "metadata": {}
  },
  {
   "cell_type": "code",
   "execution_count": 81,
   "source": [
    "#Vamos analisar o perfil dos atletas cujo sexo é P&D >> Comunidade\r\n",
    "df[df[\"Sex\"] == \"P&D >> Comunidade\"]"
   ],
   "outputs": [
    {
     "output_type": "execute_result",
     "data": {
      "text/html": [
       "<div>\n",
       "<style scoped>\n",
       "    .dataframe tbody tr th:only-of-type {\n",
       "        vertical-align: middle;\n",
       "    }\n",
       "\n",
       "    .dataframe tbody tr th {\n",
       "        vertical-align: top;\n",
       "    }\n",
       "\n",
       "    .dataframe thead th {\n",
       "        text-align: right;\n",
       "    }\n",
       "</style>\n",
       "<table border=\"1\" class=\"dataframe\">\n",
       "  <thead>\n",
       "    <tr style=\"text-align: right;\">\n",
       "      <th></th>\n",
       "      <th>Name</th>\n",
       "      <th>Sex</th>\n",
       "      <th>Age</th>\n",
       "      <th>Height</th>\n",
       "      <th>Weight</th>\n",
       "      <th>Team</th>\n",
       "      <th>NOC</th>\n",
       "      <th>Games</th>\n",
       "      <th>Year</th>\n",
       "      <th>Season</th>\n",
       "      <th>City</th>\n",
       "      <th>Sport</th>\n",
       "      <th>Event</th>\n",
       "      <th>Medal</th>\n",
       "    </tr>\n",
       "    <tr>\n",
       "      <th>Athlete_ID</th>\n",
       "      <th></th>\n",
       "      <th></th>\n",
       "      <th></th>\n",
       "      <th></th>\n",
       "      <th></th>\n",
       "      <th></th>\n",
       "      <th></th>\n",
       "      <th></th>\n",
       "      <th></th>\n",
       "      <th></th>\n",
       "      <th></th>\n",
       "      <th></th>\n",
       "      <th></th>\n",
       "      <th></th>\n",
       "    </tr>\n",
       "  </thead>\n",
       "  <tbody>\n",
       "    <tr>\n",
       "      <th>1467</th>\n",
       "      <td>Mara Magdalena Aicega Amicarelli</td>\n",
       "      <td>P&amp;D &gt;&gt; Comunidade</td>\n",
       "      <td>34.0</td>\n",
       "      <td>165.0</td>\n",
       "      <td>60.0</td>\n",
       "      <td>Argentina</td>\n",
       "      <td>ARG</td>\n",
       "      <td>2008 Summer</td>\n",
       "      <td>2008</td>\n",
       "      <td>Summer</td>\n",
       "      <td>Beijing</td>\n",
       "      <td>Hockey</td>\n",
       "      <td>Hockey Women's Hockey</td>\n",
       "      <td>Bronze</td>\n",
       "    </tr>\n",
       "    <tr>\n",
       "      <th>1546</th>\n",
       "      <td>Eirini Andili</td>\n",
       "      <td>P&amp;D &gt;&gt; Comunidade</td>\n",
       "      <td>17.0</td>\n",
       "      <td>167.0</td>\n",
       "      <td>45.0</td>\n",
       "      <td>Greece</td>\n",
       "      <td>GRE</td>\n",
       "      <td>2000 Summer</td>\n",
       "      <td>2000</td>\n",
       "      <td>Summer</td>\n",
       "      <td>Sydney</td>\n",
       "      <td>Rhythmic Gymnastics</td>\n",
       "      <td>Rhythmic Gymnastics Women's Group</td>\n",
       "      <td>Bronze</td>\n",
       "    </tr>\n",
       "    <tr>\n",
       "      <th>1639</th>\n",
       "      <td>Albina Khamitovna Akhatova</td>\n",
       "      <td>P&amp;D &gt;&gt; Comunidade</td>\n",
       "      <td>29.0</td>\n",
       "      <td>160.0</td>\n",
       "      <td>55.0</td>\n",
       "      <td>Russia</td>\n",
       "      <td>RUS</td>\n",
       "      <td>2006 Winter</td>\n",
       "      <td>2006</td>\n",
       "      <td>Winter</td>\n",
       "      <td>Torino</td>\n",
       "      <td>Biathlon</td>\n",
       "      <td>Biathlon Women's 4 x 6 kilometres Relay</td>\n",
       "      <td>Gold</td>\n",
       "    </tr>\n",
       "    <tr>\n",
       "      <th>2210</th>\n",
       "      <td>Marina Alabau Neira</td>\n",
       "      <td>P&amp;D &gt;&gt; Comunidade</td>\n",
       "      <td>26.0</td>\n",
       "      <td>164.0</td>\n",
       "      <td>55.0</td>\n",
       "      <td>Spain</td>\n",
       "      <td>ESP</td>\n",
       "      <td>2012 Summer</td>\n",
       "      <td>2012</td>\n",
       "      <td>Summer</td>\n",
       "      <td>London</td>\n",
       "      <td>Sailing</td>\n",
       "      <td>Sailing Women's Windsurfer</td>\n",
       "      <td>Gold</td>\n",
       "    </tr>\n",
       "    <tr>\n",
       "      <th>2464</th>\n",
       "      <td>Jo Qesem Ayela Aleh</td>\n",
       "      <td>P&amp;D &gt;&gt; Comunidade</td>\n",
       "      <td>30.0</td>\n",
       "      <td>171.0</td>\n",
       "      <td>58.0</td>\n",
       "      <td>New Zealand</td>\n",
       "      <td>NZL</td>\n",
       "      <td>2016 Summer</td>\n",
       "      <td>2016</td>\n",
       "      <td>Summer</td>\n",
       "      <td>Rio de Janeiro</td>\n",
       "      <td>Sailing</td>\n",
       "      <td>Sailing Women's Two Person Dinghy</td>\n",
       "      <td>Silver</td>\n",
       "    </tr>\n",
       "    <tr>\n",
       "      <th>...</th>\n",
       "      <td>...</td>\n",
       "      <td>...</td>\n",
       "      <td>...</td>\n",
       "      <td>...</td>\n",
       "      <td>...</td>\n",
       "      <td>...</td>\n",
       "      <td>...</td>\n",
       "      <td>...</td>\n",
       "      <td>...</td>\n",
       "      <td>...</td>\n",
       "      <td>...</td>\n",
       "      <td>...</td>\n",
       "      <td>...</td>\n",
       "      <td>...</td>\n",
       "    </tr>\n",
       "    <tr>\n",
       "      <th>133635</th>\n",
       "      <td>Claudia Hildegard Zaczkiewicz (Reidick-, -Reid...</td>\n",
       "      <td>P&amp;D &gt;&gt; Comunidade</td>\n",
       "      <td>26.0</td>\n",
       "      <td>170.0</td>\n",
       "      <td>57.0</td>\n",
       "      <td>West Germany</td>\n",
       "      <td>FRG</td>\n",
       "      <td>1988 Summer</td>\n",
       "      <td>1988</td>\n",
       "      <td>Summer</td>\n",
       "      <td>Seoul</td>\n",
       "      <td>Athletics</td>\n",
       "      <td>Athletics Women's 100 metres Hurdles</td>\n",
       "      <td>Bronze</td>\n",
       "    </tr>\n",
       "    <tr>\n",
       "      <th>134077</th>\n",
       "      <td>Nataliya Borisovna Zasulskaya</td>\n",
       "      <td>P&amp;D &gt;&gt; Comunidade</td>\n",
       "      <td>23.0</td>\n",
       "      <td>190.0</td>\n",
       "      <td>95.0</td>\n",
       "      <td>Unified Team</td>\n",
       "      <td>EUN</td>\n",
       "      <td>1992 Summer</td>\n",
       "      <td>1992</td>\n",
       "      <td>Summer</td>\n",
       "      <td>Barcelona</td>\n",
       "      <td>Basketball</td>\n",
       "      <td>Basketball Women's Basketball</td>\n",
       "      <td>Gold</td>\n",
       "    </tr>\n",
       "    <tr>\n",
       "      <th>134294</th>\n",
       "      <td>Martina Zellner (-Seidl)</td>\n",
       "      <td>P&amp;D &gt;&gt; Comunidade</td>\n",
       "      <td>23.0</td>\n",
       "      <td>169.0</td>\n",
       "      <td>62.0</td>\n",
       "      <td>Germany</td>\n",
       "      <td>GER</td>\n",
       "      <td>1998 Winter</td>\n",
       "      <td>1998</td>\n",
       "      <td>Winter</td>\n",
       "      <td>Nagano</td>\n",
       "      <td>Biathlon</td>\n",
       "      <td>Biathlon Women's 4 x 7.5 kilometres Relay</td>\n",
       "      <td>Gold</td>\n",
       "    </tr>\n",
       "    <tr>\n",
       "      <th>134531</th>\n",
       "      <td>Zhang Ping</td>\n",
       "      <td>P&amp;D &gt;&gt; Comunidade</td>\n",
       "      <td>22.0</td>\n",
       "      <td>187.0</td>\n",
       "      <td>73.0</td>\n",
       "      <td>China</td>\n",
       "      <td>CHN</td>\n",
       "      <td>2004 Summer</td>\n",
       "      <td>2004</td>\n",
       "      <td>Summer</td>\n",
       "      <td>Athina</td>\n",
       "      <td>Volleyball</td>\n",
       "      <td>Volleyball Women's Volleyball</td>\n",
       "      <td>Gold</td>\n",
       "    </tr>\n",
       "    <tr>\n",
       "      <th>134800</th>\n",
       "      <td>Zhou Lulu</td>\n",
       "      <td>P&amp;D &gt;&gt; Comunidade</td>\n",
       "      <td>24.0</td>\n",
       "      <td>175.0</td>\n",
       "      <td>133.0</td>\n",
       "      <td>China</td>\n",
       "      <td>CHN</td>\n",
       "      <td>2012 Summer</td>\n",
       "      <td>2012</td>\n",
       "      <td>Summer</td>\n",
       "      <td>London</td>\n",
       "      <td>Weightlifting</td>\n",
       "      <td>Weightlifting Women's Super-Heavyweight</td>\n",
       "      <td>Gold</td>\n",
       "    </tr>\n",
       "  </tbody>\n",
       "</table>\n",
       "<p>333 rows × 14 columns</p>\n",
       "</div>"
      ],
      "text/plain": [
       "                                                         Name  \\\n",
       "Athlete_ID                                                      \n",
       "1467                         Mara Magdalena Aicega Amicarelli   \n",
       "1546                                            Eirini Andili   \n",
       "1639                               Albina Khamitovna Akhatova   \n",
       "2210                                      Marina Alabau Neira   \n",
       "2464                                      Jo Qesem Ayela Aleh   \n",
       "...                                                       ...   \n",
       "133635      Claudia Hildegard Zaczkiewicz (Reidick-, -Reid...   \n",
       "134077                          Nataliya Borisovna Zasulskaya   \n",
       "134294                               Martina Zellner (-Seidl)   \n",
       "134531                                             Zhang Ping   \n",
       "134800                                              Zhou Lulu   \n",
       "\n",
       "                          Sex   Age  Height Weight          Team  NOC  \\\n",
       "Athlete_ID                                                              \n",
       "1467        P&D >> Comunidade  34.0   165.0   60.0     Argentina  ARG   \n",
       "1546        P&D >> Comunidade  17.0   167.0   45.0        Greece  GRE   \n",
       "1639        P&D >> Comunidade  29.0   160.0   55.0        Russia  RUS   \n",
       "2210        P&D >> Comunidade  26.0   164.0   55.0         Spain  ESP   \n",
       "2464        P&D >> Comunidade  30.0   171.0   58.0   New Zealand  NZL   \n",
       "...                       ...   ...     ...    ...           ...  ...   \n",
       "133635      P&D >> Comunidade  26.0   170.0   57.0  West Germany  FRG   \n",
       "134077      P&D >> Comunidade  23.0   190.0   95.0  Unified Team  EUN   \n",
       "134294      P&D >> Comunidade  23.0   169.0   62.0       Germany  GER   \n",
       "134531      P&D >> Comunidade  22.0   187.0   73.0         China  CHN   \n",
       "134800      P&D >> Comunidade  24.0   175.0  133.0         China  CHN   \n",
       "\n",
       "                  Games  Year  Season            City                Sport  \\\n",
       "Athlete_ID                                                                   \n",
       "1467        2008 Summer  2008  Summer         Beijing               Hockey   \n",
       "1546        2000 Summer  2000  Summer          Sydney  Rhythmic Gymnastics   \n",
       "1639        2006 Winter  2006  Winter          Torino             Biathlon   \n",
       "2210        2012 Summer  2012  Summer          London              Sailing   \n",
       "2464        2016 Summer  2016  Summer  Rio de Janeiro              Sailing   \n",
       "...                 ...   ...     ...             ...                  ...   \n",
       "133635      1988 Summer  1988  Summer           Seoul            Athletics   \n",
       "134077      1992 Summer  1992  Summer       Barcelona           Basketball   \n",
       "134294      1998 Winter  1998  Winter          Nagano             Biathlon   \n",
       "134531      2004 Summer  2004  Summer          Athina           Volleyball   \n",
       "134800      2012 Summer  2012  Summer          London        Weightlifting   \n",
       "\n",
       "                                                Event   Medal  \n",
       "Athlete_ID                                                     \n",
       "1467                            Hockey Women's Hockey  Bronze  \n",
       "1546                Rhythmic Gymnastics Women's Group  Bronze  \n",
       "1639          Biathlon Women's 4 x 6 kilometres Relay    Gold  \n",
       "2210                       Sailing Women's Windsurfer    Gold  \n",
       "2464                Sailing Women's Two Person Dinghy  Silver  \n",
       "...                                               ...     ...  \n",
       "133635           Athletics Women's 100 metres Hurdles  Bronze  \n",
       "134077                  Basketball Women's Basketball    Gold  \n",
       "134294      Biathlon Women's 4 x 7.5 kilometres Relay    Gold  \n",
       "134531                  Volleyball Women's Volleyball    Gold  \n",
       "134800        Weightlifting Women's Super-Heavyweight    Gold  \n",
       "\n",
       "[333 rows x 14 columns]"
      ]
     },
     "metadata": {},
     "execution_count": 81
    }
   ],
   "metadata": {}
  },
  {
   "cell_type": "markdown",
   "source": [
    "Veja o padrão: repete-se a palavra \"Women's\" em Event para esses atletas. Vamos confirmar nosso palpite de forma análoga ao que fizemos anteriormente:"
   ],
   "metadata": {}
  },
  {
   "cell_type": "code",
   "execution_count": 93,
   "source": [
    "#Contagem de quantos eventos cujos  atletas possuem o sexo P&D >> Comunidade\r\n",
    "pd.Series(df[df[\"Sex\"] == \"P&D >> Comunidade\"][\"Event\"]).count()\r\n"
   ],
   "outputs": [
    {
     "output_type": "execute_result",
     "data": {
      "text/plain": [
       "333"
      ]
     },
     "metadata": {},
     "execution_count": 93
    }
   ],
   "metadata": {}
  },
  {
   "cell_type": "code",
   "execution_count": 92,
   "source": [
    "#Contagem de quantos dos eventos cujos atletas posseum o sexo P&D >> Comunidade contêm a palavra \"Women's\"\r\n",
    "pd.Series(df[df[\"Sex\"] == \"P&D >> Comunidade\"][\"Event\"].str.contains(\"Women's\")).count()"
   ],
   "outputs": [
    {
     "output_type": "execute_result",
     "data": {
      "text/plain": [
       "333"
      ]
     },
     "metadata": {},
     "execution_count": 92
    }
   ],
   "metadata": {}
  },
  {
   "cell_type": "markdown",
   "source": [
    "Isso prova por A + B que P&D não é maior que Comunidade e que o sexo que estamos investigando, nesse caso, é FEMALE. Vamos aos ajustes?"
   ],
   "metadata": {}
  },
  {
   "cell_type": "code",
   "execution_count": 94,
   "source": [
    "# Troca \"P&D >> Comunidade\" por \"FEMALE\"\r\n",
    "df[\"Sex\"].replace(\"P&D >> Comunidade\", \"FEMALE\", inplace=True)"
   ],
   "outputs": [],
   "metadata": {}
  },
  {
   "cell_type": "code",
   "execution_count": 98,
   "source": [
    "print(pd.Series(df[\"Sex\"].unique()), end='\\n\\n')"
   ],
   "outputs": [
    {
     "output_type": "stream",
     "name": "stdout",
     "text": [
      "0      MALE\n",
      "1    FEMALE\n",
      "dtype: object\n",
      "\n"
     ]
    }
   ],
   "metadata": {}
  },
  {
   "cell_type": "code",
   "execution_count": 115,
   "source": [
    "df.head()"
   ],
   "outputs": [
    {
     "output_type": "execute_result",
     "data": {
      "text/html": [
       "<div>\n",
       "<style scoped>\n",
       "    .dataframe tbody tr th:only-of-type {\n",
       "        vertical-align: middle;\n",
       "    }\n",
       "\n",
       "    .dataframe tbody tr th {\n",
       "        vertical-align: top;\n",
       "    }\n",
       "\n",
       "    .dataframe thead th {\n",
       "        text-align: right;\n",
       "    }\n",
       "</style>\n",
       "<table border=\"1\" class=\"dataframe\">\n",
       "  <thead>\n",
       "    <tr style=\"text-align: right;\">\n",
       "      <th></th>\n",
       "      <th>Name</th>\n",
       "      <th>Sex</th>\n",
       "      <th>Age</th>\n",
       "      <th>Height</th>\n",
       "      <th>Weight</th>\n",
       "      <th>Team</th>\n",
       "      <th>NOC</th>\n",
       "      <th>Games</th>\n",
       "      <th>Year</th>\n",
       "      <th>Season</th>\n",
       "      <th>City</th>\n",
       "      <th>Sport</th>\n",
       "      <th>Event</th>\n",
       "      <th>Medal</th>\n",
       "    </tr>\n",
       "    <tr>\n",
       "      <th>Athlete_ID</th>\n",
       "      <th></th>\n",
       "      <th></th>\n",
       "      <th></th>\n",
       "      <th></th>\n",
       "      <th></th>\n",
       "      <th></th>\n",
       "      <th></th>\n",
       "      <th></th>\n",
       "      <th></th>\n",
       "      <th></th>\n",
       "      <th></th>\n",
       "      <th></th>\n",
       "      <th></th>\n",
       "      <th></th>\n",
       "    </tr>\n",
       "  </thead>\n",
       "  <tbody>\n",
       "    <tr>\n",
       "      <th>4</th>\n",
       "      <td>Edgar Lindenau Aabye</td>\n",
       "      <td>MALE</td>\n",
       "      <td>34.0</td>\n",
       "      <td>NaN</td>\n",
       "      <td>NaN</td>\n",
       "      <td>Denmark/Sweden</td>\n",
       "      <td>DEN</td>\n",
       "      <td>1900 Summer</td>\n",
       "      <td>1900</td>\n",
       "      <td>Summer</td>\n",
       "      <td>Paris</td>\n",
       "      <td>Tug-Of-War</td>\n",
       "      <td>Tug-Of-War Men's Tug-Of-War</td>\n",
       "      <td>Gold</td>\n",
       "    </tr>\n",
       "    <tr>\n",
       "      <th>6</th>\n",
       "      <td>Per Knut Aaland</td>\n",
       "      <td>MALE</td>\n",
       "      <td>31.0</td>\n",
       "      <td>188.0</td>\n",
       "      <td>75.0</td>\n",
       "      <td>United States</td>\n",
       "      <td>USA</td>\n",
       "      <td>1992 Winter</td>\n",
       "      <td>1992</td>\n",
       "      <td>Winter</td>\n",
       "      <td>Albertville</td>\n",
       "      <td>Cross Country Skiing</td>\n",
       "      <td>Cross Country Skiing Men's 10/15 kilometres Pu...</td>\n",
       "      <td>NaN</td>\n",
       "    </tr>\n",
       "    <tr>\n",
       "      <th>15</th>\n",
       "      <td>Arvo Ossian Aaltonen</td>\n",
       "      <td>MALE</td>\n",
       "      <td>30.0</td>\n",
       "      <td>NaN</td>\n",
       "      <td>NaN</td>\n",
       "      <td>Finland</td>\n",
       "      <td>FIN</td>\n",
       "      <td>1920 Summer</td>\n",
       "      <td>1920</td>\n",
       "      <td>Summer</td>\n",
       "      <td>Antwerpen</td>\n",
       "      <td>Swimming</td>\n",
       "      <td>Swimming Men's 200 metres Breaststroke</td>\n",
       "      <td>Bronze</td>\n",
       "    </tr>\n",
       "    <tr>\n",
       "      <th>15</th>\n",
       "      <td>Arvo Ossian Aaltonen</td>\n",
       "      <td>MALE</td>\n",
       "      <td>30.0</td>\n",
       "      <td>NaN</td>\n",
       "      <td>NaN</td>\n",
       "      <td>Finland</td>\n",
       "      <td>FIN</td>\n",
       "      <td>1920 Summer</td>\n",
       "      <td>1920</td>\n",
       "      <td>Summer</td>\n",
       "      <td>Antwerpen</td>\n",
       "      <td>Swimming</td>\n",
       "      <td>Swimming Men's 400 metres Breaststroke</td>\n",
       "      <td>Bronze</td>\n",
       "    </tr>\n",
       "    <tr>\n",
       "      <th>16</th>\n",
       "      <td>Juhamatti Tapio Aaltonen</td>\n",
       "      <td>MALE</td>\n",
       "      <td>28.0</td>\n",
       "      <td>184.0</td>\n",
       "      <td>85.0</td>\n",
       "      <td>Finland</td>\n",
       "      <td>FIN</td>\n",
       "      <td>2014 Winter</td>\n",
       "      <td>2014</td>\n",
       "      <td>Winter</td>\n",
       "      <td>Sochi</td>\n",
       "      <td>Ice Hockey</td>\n",
       "      <td>Ice Hockey Men's Ice Hockey</td>\n",
       "      <td>Bronze</td>\n",
       "    </tr>\n",
       "  </tbody>\n",
       "</table>\n",
       "</div>"
      ],
      "text/plain": [
       "                                Name   Sex   Age  Height Weight  \\\n",
       "Athlete_ID                                                        \n",
       "4               Edgar Lindenau Aabye  MALE  34.0     NaN    NaN   \n",
       "6                    Per Knut Aaland  MALE  31.0   188.0   75.0   \n",
       "15              Arvo Ossian Aaltonen  MALE  30.0     NaN    NaN   \n",
       "15              Arvo Ossian Aaltonen  MALE  30.0     NaN    NaN   \n",
       "16          Juhamatti Tapio Aaltonen  MALE  28.0   184.0   85.0   \n",
       "\n",
       "                      Team  NOC        Games  Year  Season         City  \\\n",
       "Athlete_ID                                                                \n",
       "4           Denmark/Sweden  DEN  1900 Summer  1900  Summer        Paris   \n",
       "6            United States  USA  1992 Winter  1992  Winter  Albertville   \n",
       "15                 Finland  FIN  1920 Summer  1920  Summer    Antwerpen   \n",
       "15                 Finland  FIN  1920 Summer  1920  Summer    Antwerpen   \n",
       "16                 Finland  FIN  2014 Winter  2014  Winter        Sochi   \n",
       "\n",
       "                           Sport  \\\n",
       "Athlete_ID                         \n",
       "4                     Tug-Of-War   \n",
       "6           Cross Country Skiing   \n",
       "15                      Swimming   \n",
       "15                      Swimming   \n",
       "16                    Ice Hockey   \n",
       "\n",
       "                                                        Event   Medal  \n",
       "Athlete_ID                                                             \n",
       "4                                 Tug-Of-War Men's Tug-Of-War    Gold  \n",
       "6           Cross Country Skiing Men's 10/15 kilometres Pu...     NaN  \n",
       "15                     Swimming Men's 200 metres Breaststroke  Bronze  \n",
       "15                     Swimming Men's 400 metres Breaststroke  Bronze  \n",
       "16                                Ice Hockey Men's Ice Hockey  Bronze  "
      ]
     },
     "metadata": {},
     "execution_count": 115
    }
   ],
   "metadata": {}
  },
  {
   "cell_type": "markdown",
   "source": [
    "Vamos investigar os dados faltantes!"
   ],
   "metadata": {}
  },
  {
   "cell_type": "code",
   "execution_count": 120,
   "source": [
    "print(pd.Series(df[\"Medal\"].unique()), end = \"\\n\\n\")"
   ],
   "outputs": [
    {
     "output_type": "stream",
     "name": "stdout",
     "text": [
      "0      Gold\n",
      "1       NaN\n",
      "2    Bronze\n",
      "3    Silver\n",
      "4    Nelson\n",
      "dtype: object\n",
      "\n"
     ]
    }
   ],
   "metadata": {}
  },
  {
   "cell_type": "markdown",
   "source": [
    "Geralmente, as medalhas são Gold, Silver ou Bronze. Nelson é um pouco estranho, não? Vamos tratar esse caso e os valores inválidos."
   ],
   "metadata": {}
  },
  {
   "cell_type": "code",
   "execution_count": 135,
   "source": [
    "df[\"Medal\"].describe()"
   ],
   "outputs": [
    {
     "output_type": "execute_result",
     "data": {
      "text/plain": [
       "count     39804\n",
       "unique        4\n",
       "top        Gold\n",
       "freq      13320\n",
       "Name: Medal, dtype: object"
      ]
     },
     "metadata": {},
     "execution_count": 135
    }
   ],
   "metadata": {}
  },
  {
   "cell_type": "code",
   "execution_count": 143,
   "source": [
    "df.groupby(\"Medal\").count()"
   ],
   "outputs": [
    {
     "output_type": "execute_result",
     "data": {
      "text/html": [
       "<div>\n",
       "<style scoped>\n",
       "    .dataframe tbody tr th:only-of-type {\n",
       "        vertical-align: middle;\n",
       "    }\n",
       "\n",
       "    .dataframe tbody tr th {\n",
       "        vertical-align: top;\n",
       "    }\n",
       "\n",
       "    .dataframe thead th {\n",
       "        text-align: right;\n",
       "    }\n",
       "</style>\n",
       "<table border=\"1\" class=\"dataframe\">\n",
       "  <thead>\n",
       "    <tr style=\"text-align: right;\">\n",
       "      <th></th>\n",
       "      <th>Name</th>\n",
       "      <th>Sex</th>\n",
       "      <th>Age</th>\n",
       "      <th>Height</th>\n",
       "      <th>Weight</th>\n",
       "      <th>Team</th>\n",
       "      <th>NOC</th>\n",
       "      <th>Games</th>\n",
       "      <th>Year</th>\n",
       "      <th>Season</th>\n",
       "      <th>City</th>\n",
       "      <th>Sport</th>\n",
       "      <th>Event</th>\n",
       "    </tr>\n",
       "    <tr>\n",
       "      <th>Medal</th>\n",
       "      <th></th>\n",
       "      <th></th>\n",
       "      <th></th>\n",
       "      <th></th>\n",
       "      <th></th>\n",
       "      <th></th>\n",
       "      <th></th>\n",
       "      <th></th>\n",
       "      <th></th>\n",
       "      <th></th>\n",
       "      <th></th>\n",
       "      <th></th>\n",
       "      <th></th>\n",
       "    </tr>\n",
       "  </thead>\n",
       "  <tbody>\n",
       "    <tr>\n",
       "      <th>Bronze</th>\n",
       "      <td>13255</td>\n",
       "      <td>13255</td>\n",
       "      <td>12966</td>\n",
       "      <td>10328</td>\n",
       "      <td>10203</td>\n",
       "      <td>13255</td>\n",
       "      <td>13255</td>\n",
       "      <td>13255</td>\n",
       "      <td>13255</td>\n",
       "      <td>13255</td>\n",
       "      <td>13255</td>\n",
       "      <td>13255</td>\n",
       "      <td>13255</td>\n",
       "    </tr>\n",
       "    <tr>\n",
       "      <th>Gold</th>\n",
       "      <td>13320</td>\n",
       "      <td>13320</td>\n",
       "      <td>13172</td>\n",
       "      <td>10491</td>\n",
       "      <td>10215</td>\n",
       "      <td>13320</td>\n",
       "      <td>13320</td>\n",
       "      <td>13320</td>\n",
       "      <td>13320</td>\n",
       "      <td>13320</td>\n",
       "      <td>13320</td>\n",
       "      <td>13320</td>\n",
       "      <td>13320</td>\n",
       "    </tr>\n",
       "    <tr>\n",
       "      <th>Nelson</th>\n",
       "      <td>166</td>\n",
       "      <td>166</td>\n",
       "      <td>166</td>\n",
       "      <td>153</td>\n",
       "      <td>151</td>\n",
       "      <td>166</td>\n",
       "      <td>166</td>\n",
       "      <td>166</td>\n",
       "      <td>166</td>\n",
       "      <td>166</td>\n",
       "      <td>166</td>\n",
       "      <td>166</td>\n",
       "      <td>166</td>\n",
       "    </tr>\n",
       "    <tr>\n",
       "      <th>Silver</th>\n",
       "      <td>13063</td>\n",
       "      <td>13063</td>\n",
       "      <td>12768</td>\n",
       "      <td>10118</td>\n",
       "      <td>9939</td>\n",
       "      <td>13063</td>\n",
       "      <td>13063</td>\n",
       "      <td>13063</td>\n",
       "      <td>13063</td>\n",
       "      <td>13063</td>\n",
       "      <td>13063</td>\n",
       "      <td>13063</td>\n",
       "      <td>13063</td>\n",
       "    </tr>\n",
       "  </tbody>\n",
       "</table>\n",
       "</div>"
      ],
      "text/plain": [
       "         Name    Sex    Age  Height  Weight   Team    NOC  Games   Year  \\\n",
       "Medal                                                                     \n",
       "Bronze  13255  13255  12966   10328   10203  13255  13255  13255  13255   \n",
       "Gold    13320  13320  13172   10491   10215  13320  13320  13320  13320   \n",
       "Nelson    166    166    166     153     151    166    166    166    166   \n",
       "Silver  13063  13063  12768   10118    9939  13063  13063  13063  13063   \n",
       "\n",
       "        Season   City  Sport  Event  \n",
       "Medal                                \n",
       "Bronze   13255  13255  13255  13255  \n",
       "Gold     13320  13320  13320  13320  \n",
       "Nelson     166    166    166    166  \n",
       "Silver   13063  13063  13063  13063  "
      ]
     },
     "metadata": {},
     "execution_count": 143
    }
   ],
   "metadata": {}
  },
  {
   "cell_type": "markdown",
   "source": [
    "Veja que Gold é a medalha que mais se repete.\r\n",
    "\r\n",
    "Nelson, por outro lado, é a que menos se repete e sua participação no grupo total de medalhas é ínfima (166 medalhas de 39804), representando menos de 0.5% das medalhas.\r\n",
    "\r\n",
    "Uma maneira de atacar esse problema é: Nelson representa medalhas reais, que foram atribuídas a atletas reais. É provável que Nelson seja uma medalha Gold, Silver ou Bronze, mas que, por algum erro, tenha sido digitada de forma incorreta. \r\n",
    "\r\n",
    "Para alterar Nelson, é razoável considerarmos o valor que mais se repete (moda): Gold."
   ],
   "metadata": {}
  },
  {
   "cell_type": "code",
   "execution_count": 149,
   "source": [
    "#Troca Nelson por Gold\r\n",
    "\r\n",
    "df[\"Medal\"].replace(\"Nelson\", df[\"Medal\"].mode()[0], inplace = True)"
   ],
   "outputs": [],
   "metadata": {}
  },
  {
   "cell_type": "code",
   "execution_count": 150,
   "source": [
    "df[\"Medal\"].isnull().sum()"
   ],
   "outputs": [
    {
     "output_type": "execute_result",
     "data": {
      "text/plain": [
       "5763"
      ]
     },
     "metadata": {},
     "execution_count": 150
    }
   ],
   "metadata": {}
  },
  {
   "cell_type": "markdown",
   "source": [
    "De forma semelhante, podemos substituir os valores nulos pela moda."
   ],
   "metadata": {}
  },
  {
   "cell_type": "code",
   "execution_count": 156,
   "source": [
    "df[\"Medal\"].fillna(df[\"Medal\"].mode()[0], inplace = True)\r\n"
   ],
   "outputs": [],
   "metadata": {}
  },
  {
   "cell_type": "code",
   "execution_count": 161,
   "source": [
    "df[\"Medal\"].isnull().sum()"
   ],
   "outputs": [
    {
     "output_type": "execute_result",
     "data": {
      "text/plain": [
       "0"
      ]
     },
     "metadata": {},
     "execution_count": 161
    }
   ],
   "metadata": {}
  },
  {
   "cell_type": "code",
   "execution_count": 166,
   "source": [
    "df.describe().T"
   ],
   "outputs": [
    {
     "output_type": "execute_result",
     "data": {
      "text/html": [
       "<div>\n",
       "<style scoped>\n",
       "    .dataframe tbody tr th:only-of-type {\n",
       "        vertical-align: middle;\n",
       "    }\n",
       "\n",
       "    .dataframe tbody tr th {\n",
       "        vertical-align: top;\n",
       "    }\n",
       "\n",
       "    .dataframe thead th {\n",
       "        text-align: right;\n",
       "    }\n",
       "</style>\n",
       "<table border=\"1\" class=\"dataframe\">\n",
       "  <thead>\n",
       "    <tr style=\"text-align: right;\">\n",
       "      <th></th>\n",
       "      <th>count</th>\n",
       "      <th>mean</th>\n",
       "      <th>std</th>\n",
       "      <th>min</th>\n",
       "      <th>25%</th>\n",
       "      <th>50%</th>\n",
       "      <th>75%</th>\n",
       "      <th>max</th>\n",
       "    </tr>\n",
       "  </thead>\n",
       "  <tbody>\n",
       "    <tr>\n",
       "      <th>Age</th>\n",
       "      <td>44594.0</td>\n",
       "      <td>25.851348</td>\n",
       "      <td>5.966053</td>\n",
       "      <td>10.0</td>\n",
       "      <td>22.0</td>\n",
       "      <td>25.0</td>\n",
       "      <td>29.0</td>\n",
       "      <td>73.0</td>\n",
       "    </tr>\n",
       "    <tr>\n",
       "      <th>Height</th>\n",
       "      <td>35547.0</td>\n",
       "      <td>972.993867</td>\n",
       "      <td>34467.807030</td>\n",
       "      <td>132.0</td>\n",
       "      <td>170.0</td>\n",
       "      <td>178.0</td>\n",
       "      <td>185.0</td>\n",
       "      <td>1976779.0</td>\n",
       "    </tr>\n",
       "    <tr>\n",
       "      <th>Year</th>\n",
       "      <td>45567.0</td>\n",
       "      <td>1972.391094</td>\n",
       "      <td>94.200678</td>\n",
       "      <td>-2992.0</td>\n",
       "      <td>1952.0</td>\n",
       "      <td>1984.0</td>\n",
       "      <td>2002.0</td>\n",
       "      <td>2016.0</td>\n",
       "    </tr>\n",
       "  </tbody>\n",
       "</table>\n",
       "</div>"
      ],
      "text/plain": [
       "          count         mean           std     min     25%     50%     75%  \\\n",
       "Age     44594.0    25.851348      5.966053    10.0    22.0    25.0    29.0   \n",
       "Height  35547.0   972.993867  34467.807030   132.0   170.0   178.0   185.0   \n",
       "Year    45567.0  1972.391094     94.200678 -2992.0  1952.0  1984.0  2002.0   \n",
       "\n",
       "              max  \n",
       "Age          73.0  \n",
       "Height  1976779.0  \n",
       "Year       2016.0  "
      ]
     },
     "metadata": {},
     "execution_count": 166
    }
   ],
   "metadata": {}
  },
  {
   "cell_type": "markdown",
   "source": [
    "Para Year, destaca-se o valor mínimo negativo. Não faz sentido um ano ser negativo. Mas, antes de mais nada, vamos entender qual o papel deles no nosso dataset."
   ],
   "metadata": {}
  },
  {
   "cell_type": "code",
   "execution_count": 207,
   "source": [
    "#Vamos plotar um gráfico que ilustre a situação dos valores negativos atribuídos ao ano\r\n",
    "plt.figure(figsize=(18,4))\r\n",
    "sns.boxplot(x = df[\"Year\"], palette = \"Set3\")\r\n",
    "plt.title(\"Boxplot da coluna YEAR\")\r\n",
    "plt.show()"
   ],
   "outputs": [
    {
     "output_type": "display_data",
     "data": {
      "image/png": "[encoded data removed]",
      "text/plain": [
       "<Figure size 1296x288 with 1 Axes>"
      ]
     },
     "metadata": {}
    }
   ],
   "metadata": {}
  },
  {
   "cell_type": "markdown",
   "source": [
    "O gráfico acima nos mostra muito bem que esses valores negativos são outliers e, nesse caso, podemos ver que também distorcem os valores das idades. Para resolver isso, vamos descartar esses valores."
   ],
   "metadata": {}
  },
  {
   "cell_type": "code",
   "execution_count": 218,
   "source": [
    "#Descartando os outliers\r\n",
    "df = df[df[\"Year\"] > 0]"
   ],
   "outputs": [],
   "metadata": {}
  },
  {
   "cell_type": "code",
   "execution_count": 220,
   "source": [
    "#Novo gráfico boxplot\r\n",
    "plt.figure(figsize=(18,4))\r\n",
    "sns.boxplot(x = df[\"Year\"], palette = \"Set3\")\r\n",
    "plt.title(\"Boxplot da coluna YEAR\")\r\n",
    "plt.show()"
   ],
   "outputs": [
    {
     "output_type": "display_data",
     "data": {
      "image/png": "[encoded data removed]",
      "text/plain": [
       "<Figure size 1296x288 with 1 Axes>"
      ]
     },
     "metadata": {}
    }
   ],
   "metadata": {}
  },
  {
   "cell_type": "markdown",
   "source": [
    "Acabamos nosso tratamento de dados em Year. Vamos para Age. Do describe anterior, não pudemos identificar nenhum problema. Vamos ver se há valores nulos, então."
   ],
   "metadata": {}
  },
  {
   "cell_type": "code",
   "execution_count": 233,
   "source": [
    "df[\"Age\"].isnull().sum()"
   ],
   "outputs": [
    {
     "output_type": "execute_result",
     "data": {
      "text/plain": [
       "971"
      ]
     },
     "metadata": {},
     "execution_count": 233
    }
   ],
   "metadata": {}
  },
  {
   "cell_type": "markdown",
   "source": [
    "Vamos substituir os valores faltantes para Age. Mas pelo quê? Utilizar a mediana dos valores, nesse caso, é uma solução razoável. Vamos a ela!"
   ],
   "metadata": {}
  },
  {
   "cell_type": "code",
   "execution_count": 257,
   "source": [
    "df[\"Age\"].fillna(df[\"Age\"].median())"
   ],
   "outputs": [
    {
     "output_type": "execute_result",
     "data": {
      "text/plain": [
       "Athlete_ID\n",
       "4         34.0\n",
       "6         31.0\n",
       "15        30.0\n",
       "15        30.0\n",
       "16        28.0\n",
       "          ... \n",
       "135553    25.0\n",
       "135553    33.0\n",
       "135554    28.0\n",
       "135563    19.0\n",
       "135563    23.0\n",
       "Name: Age, Length: 45537, dtype: float64"
      ]
     },
     "metadata": {},
     "execution_count": 257
    }
   ],
   "metadata": {}
  },
  {
   "cell_type": "code",
   "execution_count": 256,
   "source": [
    "df[\"Age\"].isnull().sum()"
   ],
   "outputs": [
    {
     "output_type": "execute_result",
     "data": {
      "text/plain": [
       "0"
      ]
     },
     "metadata": {},
     "execution_count": 256
    }
   ],
   "metadata": {}
  },
  {
   "cell_type": "markdown",
   "source": [
    "Vamos tratar da coluna Height. \r\n",
    "\r\n",
    "Consideremos que o maior atleta do mundo tem 2,46m de altura. \r\n",
    "\r\n",
    "Veja, abaixo, que dentro desse intervalo, a altura maior é 2.23m. É razoável, portanto, que a tomemos como o limite das alturas dos nossos atletas, pois é o máximo valor menor ou igual a real altura máxima de um atleta.\r\n",
    "\r\n",
    "Qualquer valor acima disso, deverá ser reajustado corretamente."
   ],
   "metadata": {}
  },
  {
   "cell_type": "code",
   "execution_count": 306,
   "source": [
    "df[df[\"Height\"] <= 246][\"Height\"].max()\r\n"
   ],
   "outputs": [
    {
     "output_type": "execute_result",
     "data": {
      "text/plain": [
       "223.0"
      ]
     },
     "metadata": {},
     "execution_count": 306
    }
   ],
   "metadata": {}
  },
  {
   "cell_type": "code",
   "execution_count": 312,
   "source": [
    "#Contagem da quantidade de alturas maiores que a altura máxima 246cm\r\n",
    "df.groupby(df[\"Height\"] > 246).count()"
   ],
   "outputs": [
    {
     "output_type": "execute_result",
     "data": {
      "text/html": [
       "<div>\n",
       "<style scoped>\n",
       "    .dataframe tbody tr th:only-of-type {\n",
       "        vertical-align: middle;\n",
       "    }\n",
       "\n",
       "    .dataframe tbody tr th {\n",
       "        vertical-align: top;\n",
       "    }\n",
       "\n",
       "    .dataframe thead th {\n",
       "        text-align: right;\n",
       "    }\n",
       "</style>\n",
       "<table border=\"1\" class=\"dataframe\">\n",
       "  <thead>\n",
       "    <tr style=\"text-align: right;\">\n",
       "      <th></th>\n",
       "      <th>Name</th>\n",
       "      <th>Sex</th>\n",
       "      <th>Age</th>\n",
       "      <th>Height</th>\n",
       "      <th>Weight</th>\n",
       "      <th>Team</th>\n",
       "      <th>NOC</th>\n",
       "      <th>Games</th>\n",
       "      <th>Year</th>\n",
       "      <th>Season</th>\n",
       "      <th>City</th>\n",
       "      <th>Sport</th>\n",
       "      <th>Event</th>\n",
       "      <th>Medal</th>\n",
       "    </tr>\n",
       "    <tr>\n",
       "      <th>Height</th>\n",
       "      <th></th>\n",
       "      <th></th>\n",
       "      <th></th>\n",
       "      <th></th>\n",
       "      <th></th>\n",
       "      <th></th>\n",
       "      <th></th>\n",
       "      <th></th>\n",
       "      <th></th>\n",
       "      <th></th>\n",
       "      <th></th>\n",
       "      <th></th>\n",
       "      <th></th>\n",
       "      <th></th>\n",
       "    </tr>\n",
       "  </thead>\n",
       "  <tbody>\n",
       "    <tr>\n",
       "      <th>False</th>\n",
       "      <td>45513</td>\n",
       "      <td>45513</td>\n",
       "      <td>45513</td>\n",
       "      <td>35500</td>\n",
       "      <td>34879</td>\n",
       "      <td>45513</td>\n",
       "      <td>45513</td>\n",
       "      <td>45513</td>\n",
       "      <td>45513</td>\n",
       "      <td>45513</td>\n",
       "      <td>45513</td>\n",
       "      <td>45513</td>\n",
       "      <td>45513</td>\n",
       "      <td>45513</td>\n",
       "    </tr>\n",
       "    <tr>\n",
       "      <th>True</th>\n",
       "      <td>24</td>\n",
       "      <td>24</td>\n",
       "      <td>24</td>\n",
       "      <td>24</td>\n",
       "      <td>24</td>\n",
       "      <td>24</td>\n",
       "      <td>24</td>\n",
       "      <td>24</td>\n",
       "      <td>24</td>\n",
       "      <td>24</td>\n",
       "      <td>24</td>\n",
       "      <td>24</td>\n",
       "      <td>24</td>\n",
       "      <td>24</td>\n",
       "    </tr>\n",
       "  </tbody>\n",
       "</table>\n",
       "</div>"
      ],
      "text/plain": [
       "         Name    Sex    Age  Height  Weight   Team    NOC  Games   Year  \\\n",
       "Height                                                                    \n",
       "False   45513  45513  45513   35500   34879  45513  45513  45513  45513   \n",
       "True       24     24     24      24      24     24     24     24     24   \n",
       "\n",
       "        Season   City  Sport  Event  Medal  \n",
       "Height                                      \n",
       "False    45513  45513  45513  45513  45513  \n",
       "True        24     24     24     24     24  "
      ]
     },
     "metadata": {},
     "execution_count": 312
    }
   ],
   "metadata": {}
  },
  {
   "cell_type": "code",
   "execution_count": 313,
   "source": [
    "#Contagem da quantidade de alturas com dados nulos\r\n",
    "df[\"Height\"].isnull().sum()"
   ],
   "outputs": [
    {
     "output_type": "execute_result",
     "data": {
      "text/plain": [
       "10013"
      ]
     },
     "metadata": {},
     "execution_count": 313
    }
   ],
   "metadata": {}
  },
  {
   "cell_type": "markdown",
   "source": [
    "Vamos tratar os casos nulos e excedentes das nossas alturas!"
   ],
   "metadata": {}
  },
  {
   "cell_type": "markdown",
   "source": [
    "Agora, tratemos a coluna Weight. Como visto anteriormente, precisamos transformá-la em float.\r\n",
    "\r\n",
    "Mas antes disso, vejamos abaixo que, dentre os valores possíveis, há uma string: 'hsuahusahu'.\r\n",
    "\r\n",
    "Primeiro, ela deve ser transformada em um número e, após isso, podemos alterar o tipo da nosssa."
   ],
   "metadata": {}
  },
  {
   "cell_type": "code",
   "execution_count": 316,
   "source": [
    "df[\"Weight\"].describe()"
   ],
   "outputs": [
    {
     "output_type": "execute_result",
     "data": {
      "text/plain": [
       "count     34903\n",
       "unique      188\n",
       "top        70.0\n",
       "freq       1439\n",
       "Name: Weight, dtype: object"
      ]
     },
     "metadata": {},
     "execution_count": 316
    }
   ],
   "metadata": {}
  },
  {
   "cell_type": "code",
   "execution_count": 317,
   "source": [
    "df[\"Weight\"].unique()"
   ],
   "outputs": [
    {
     "output_type": "execute_result",
     "data": {
      "text/plain": [
       "array([nan, '75.0', '85.0', '64.0', '90.0', '87.0', '49.0', 'hsuahusahu',\n",
       "       '76.0', '83.0', '86.0', '82.0', '55.0', '67.0', '60.0', '79.0',\n",
       "       '96.0', '97.0', '70.0', '88.0', '56.0', '80.0', '59.0', '91.0',\n",
       "       '72.0', '62.0', '63.0', '130.0', '104.0', '73.0', '84.0', '125.0',\n",
       "       '50.0', '102.0', '48.0', '58.0', '78.0', '40.0', '68.0', '92.0',\n",
       "       '61.0', '95.0', '89.0', '65.0', '93.0', '77.0', '46.0', '81.0',\n",
       "       '52.0', '54.0', '57.0', '69.0', '99.0', '69.5', '51.0', '120.0',\n",
       "       '74.0', '110.0', '100.0', '66.0', '47.0', '116.0', '107.0', '53.0',\n",
       "       '45.0', '105.0', '109.0', '156.0', '71.0', '98.0', '160.0',\n",
       "       '106.0', '146.0', '44.0', '138.0', '141.0', '94.0', '118.0',\n",
       "       '101.0', '39.0', '32.0', '112.0', '115.0', '74.5', '121.0',\n",
       "       '135.0', '111.0', '43.0', '36.0', '67.5', '114.0', '132.0', '65.5',\n",
       "       '42.0', '59.5', '127.5', '108.0', '35.0', '117.0', '103.0', '58.5',\n",
       "       '214.0', '113.0', '146.5', '116.5', '140.0', '38.0', '101.5',\n",
       "       '154.0', '57.5', '136.0', '127.0', '102.5', '170.0', '126.0',\n",
       "       '77.3333333333333', '122.0', '55.5', '41.0', '123.0', '34.0',\n",
       "       '150.0', '109.5', '37.0', '70.5', '71.5', '30.0', '76.5', '64.5',\n",
       "       '33.0', '129.0', '137.0', '128.0', '73.5', '54.5', '56.5', '63.5',\n",
       "       '134.0', '147.0', '100.5', '78.5', '82.5', '61.5', '83.5', '77.5',\n",
       "       '53.5', '87.5', '124.0', '72.5', '88.5', '68.5', '81.5', '89.5',\n",
       "       '167.0', '91.5', '79.5', '66.5', '85.5', '108.5', '142.0', '86.5',\n",
       "       '106.5', '60.5', '135.5', '31.0', '148.0', '93.5', '97.5', '103.5',\n",
       "       '175.0', '90.5', '131.0', '145.0', '119.0', '155.0', '139.0',\n",
       "       '52.5', '104.5', '143.0', '105.5', '75.5', '84.5', '92.5', '182.0',\n",
       "       '62.5', '130.5', '28.0', '163.0', '133.0'], dtype=object)"
      ]
     },
     "metadata": {},
     "execution_count": 317
    }
   ],
   "metadata": {}
  }
 ],
 "metadata": {
  "orig_nbformat": 4,
  "language_info": {
   "name": "python",
   "version": "3.9.6",
   "mimetype": "text/x-python",
   "codemirror_mode": {
    "name": "ipython",
    "version": 3
   },
   "pygments_lexer": "ipython3",
   "nbconvert_exporter": "python",
   "file_extension": ".py"
  },
  "kernelspec": {
   "name": "python3",
   "display_name": "Python 3.9.6 64-bit"
  },
  "interpreter": {
   "hash": "f9a665eed82786d1db64405b5cfd0f8037f4571b806793cb1072a84e044fc7ff"
  }
 },
 "nbformat": 4,
 "nbformat_minor": 2
}