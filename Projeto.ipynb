{
 "cells": [
  {
   "cell_type": "markdown",
   "source": [
    "# **PROJETO 1 - TURING ACADEMY**"
   ],
   "metadata": {}
  },
  {
   "cell_type": "markdown",
   "source": [
    "## **PRIMEIROS PASSOS E ANÁLISE INICIAL**"
   ],
   "metadata": {}
  },
  {
   "cell_type": "code",
   "execution_count": 1,
   "source": [
    "#importação das bibliotecas\r\n",
    "import pandas as pd\r\n",
    "import matplotlib.pyplot as plt\r\n",
    "import seaborn as sns\r\n",
    "import numpy as np"
   ],
   "outputs": [],
   "metadata": {}
  },
  {
   "cell_type": "code",
   "execution_count": 2,
   "source": [
    "#importando o dataframe\r\n",
    "df = pd.read_csv(\"df_athlete_events.csv\")"
   ],
   "outputs": [],
   "metadata": {}
  },
  {
   "cell_type": "code",
   "execution_count": 3,
   "source": [
    "#primeira visualização dos dados\r\n",
    "df.head()"
   ],
   "outputs": [
    {
     "output_type": "execute_result",
     "data": {
      "text/html": [
       "<div>\n",
       "<style scoped>\n",
       "    .dataframe tbody tr th:only-of-type {\n",
       "        vertical-align: middle;\n",
       "    }\n",
       "\n",
       "    .dataframe tbody tr th {\n",
       "        vertical-align: top;\n",
       "    }\n",
       "\n",
       "    .dataframe thead th {\n",
       "        text-align: right;\n",
       "    }\n",
       "</style>\n",
       "<table border=\"1\" class=\"dataframe\">\n",
       "  <thead>\n",
       "    <tr style=\"text-align: right;\">\n",
       "      <th></th>\n",
       "      <th>Athlete_ID</th>\n",
       "      <th>Name</th>\n",
       "      <th>Sex</th>\n",
       "      <th>Age</th>\n",
       "      <th>Height</th>\n",
       "      <th>Weight</th>\n",
       "      <th>Team</th>\n",
       "      <th>NOC</th>\n",
       "      <th>Games</th>\n",
       "      <th>Year</th>\n",
       "      <th>Season</th>\n",
       "      <th>City</th>\n",
       "      <th>Sport</th>\n",
       "      <th>Event</th>\n",
       "      <th>Medal</th>\n",
       "    </tr>\n",
       "  </thead>\n",
       "  <tbody>\n",
       "    <tr>\n",
       "      <th>0</th>\n",
       "      <td>4</td>\n",
       "      <td>Edgar Lindenau Aabye</td>\n",
       "      <td>M</td>\n",
       "      <td>34.0</td>\n",
       "      <td>NaN</td>\n",
       "      <td>NaN</td>\n",
       "      <td>Denmark/Sweden</td>\n",
       "      <td>DEN</td>\n",
       "      <td>1900 Summer</td>\n",
       "      <td>1900</td>\n",
       "      <td>Summer</td>\n",
       "      <td>Paris</td>\n",
       "      <td>Tug-Of-War</td>\n",
       "      <td>Tug-Of-War Men's Tug-Of-War</td>\n",
       "      <td>Gold</td>\n",
       "    </tr>\n",
       "    <tr>\n",
       "      <th>1</th>\n",
       "      <td>6</td>\n",
       "      <td>Per Knut Aaland</td>\n",
       "      <td>M</td>\n",
       "      <td>31.0</td>\n",
       "      <td>188.0</td>\n",
       "      <td>75.0</td>\n",
       "      <td>United States</td>\n",
       "      <td>USA</td>\n",
       "      <td>1992 Winter</td>\n",
       "      <td>1992</td>\n",
       "      <td>Winter</td>\n",
       "      <td>Albertville</td>\n",
       "      <td>Cross Country Skiing</td>\n",
       "      <td>Cross Country Skiing Men's 10/15 kilometres Pu...</td>\n",
       "      <td>NaN</td>\n",
       "    </tr>\n",
       "    <tr>\n",
       "      <th>2</th>\n",
       "      <td>15</td>\n",
       "      <td>Arvo Ossian Aaltonen</td>\n",
       "      <td>M</td>\n",
       "      <td>30.0</td>\n",
       "      <td>NaN</td>\n",
       "      <td>NaN</td>\n",
       "      <td>Finland</td>\n",
       "      <td>FIN</td>\n",
       "      <td>1920 Summer</td>\n",
       "      <td>1920</td>\n",
       "      <td>Summer</td>\n",
       "      <td>Antwerpen</td>\n",
       "      <td>Swimming</td>\n",
       "      <td>Swimming Men's 200 metres Breaststroke</td>\n",
       "      <td>Bronze</td>\n",
       "    </tr>\n",
       "    <tr>\n",
       "      <th>3</th>\n",
       "      <td>15</td>\n",
       "      <td>Arvo Ossian Aaltonen</td>\n",
       "      <td>M</td>\n",
       "      <td>30.0</td>\n",
       "      <td>NaN</td>\n",
       "      <td>NaN</td>\n",
       "      <td>Finland</td>\n",
       "      <td>FIN</td>\n",
       "      <td>1920 Summer</td>\n",
       "      <td>1920</td>\n",
       "      <td>Summer</td>\n",
       "      <td>Antwerpen</td>\n",
       "      <td>Swimming</td>\n",
       "      <td>Swimming Men's 400 metres Breaststroke</td>\n",
       "      <td>Bronze</td>\n",
       "    </tr>\n",
       "    <tr>\n",
       "      <th>4</th>\n",
       "      <td>16</td>\n",
       "      <td>Juhamatti Tapio Aaltonen</td>\n",
       "      <td>M</td>\n",
       "      <td>28.0</td>\n",
       "      <td>184.0</td>\n",
       "      <td>85.0</td>\n",
       "      <td>Finland</td>\n",
       "      <td>FIN</td>\n",
       "      <td>2014 Winter</td>\n",
       "      <td>2014</td>\n",
       "      <td>Winter</td>\n",
       "      <td>Sochi</td>\n",
       "      <td>Ice Hockey</td>\n",
       "      <td>Ice Hockey Men's Ice Hockey</td>\n",
       "      <td>Bronze</td>\n",
       "    </tr>\n",
       "  </tbody>\n",
       "</table>\n",
       "</div>"
      ],
      "text/plain": [
       "   Athlete_ID                      Name Sex   Age  Height Weight  \\\n",
       "0           4      Edgar Lindenau Aabye   M  34.0     NaN    NaN   \n",
       "1           6           Per Knut Aaland   M  31.0   188.0   75.0   \n",
       "2          15      Arvo Ossian Aaltonen   M  30.0     NaN    NaN   \n",
       "3          15      Arvo Ossian Aaltonen   M  30.0     NaN    NaN   \n",
       "4          16  Juhamatti Tapio Aaltonen   M  28.0   184.0   85.0   \n",
       "\n",
       "             Team  NOC        Games  Year  Season         City  \\\n",
       "0  Denmark/Sweden  DEN  1900 Summer  1900  Summer        Paris   \n",
       "1   United States  USA  1992 Winter  1992  Winter  Albertville   \n",
       "2         Finland  FIN  1920 Summer  1920  Summer    Antwerpen   \n",
       "3         Finland  FIN  1920 Summer  1920  Summer    Antwerpen   \n",
       "4         Finland  FIN  2014 Winter  2014  Winter        Sochi   \n",
       "\n",
       "                  Sport                                              Event  \\\n",
       "0            Tug-Of-War                        Tug-Of-War Men's Tug-Of-War   \n",
       "1  Cross Country Skiing  Cross Country Skiing Men's 10/15 kilometres Pu...   \n",
       "2              Swimming             Swimming Men's 200 metres Breaststroke   \n",
       "3              Swimming             Swimming Men's 400 metres Breaststroke   \n",
       "4            Ice Hockey                        Ice Hockey Men's Ice Hockey   \n",
       "\n",
       "    Medal  \n",
       "0    Gold  \n",
       "1     NaN  \n",
       "2  Bronze  \n",
       "3  Bronze  \n",
       "4  Bronze  "
      ]
     },
     "metadata": {},
     "execution_count": 3
    }
   ],
   "metadata": {}
  },
  {
   "cell_type": "markdown",
   "source": [
    "Vamos, então, tornar o ID nosso index, para uma abordagem mais clara da solução do problema."
   ],
   "metadata": {}
  },
  {
   "cell_type": "code",
   "execution_count": 4,
   "source": [
    "#indexação do ID\r\n",
    "df.set_index(\"Athlete_ID\", inplace=True)"
   ],
   "outputs": [],
   "metadata": {}
  },
  {
   "cell_type": "code",
   "execution_count": 5,
   "source": [
    "#a partir das informações gerais do df, vamos tirar algumas conclusões\r\n",
    "df.info()"
   ],
   "outputs": [
    {
     "output_type": "stream",
     "name": "stdout",
     "text": [
      "<class 'pandas.core.frame.DataFrame'>\n",
      "Int64Index: 45567 entries, 4 to 135563\n",
      "Data columns (total 14 columns):\n",
      " #   Column  Non-Null Count  Dtype  \n",
      "---  ------  --------------  -----  \n",
      " 0   Name    45567 non-null  object \n",
      " 1   Sex     45567 non-null  object \n",
      " 2   Age     44594 non-null  float64\n",
      " 3   Height  35547 non-null  float64\n",
      " 4   Weight  34926 non-null  object \n",
      " 5   Team    45567 non-null  object \n",
      " 6   NOC     45567 non-null  object \n",
      " 7   Games   45567 non-null  object \n",
      " 8   Year    45567 non-null  int64  \n",
      " 9   Season  45567 non-null  object \n",
      " 10  City    45567 non-null  object \n",
      " 11  Sport   45567 non-null  object \n",
      " 12  Event   45567 non-null  object \n",
      " 13  Medal   39804 non-null  object \n",
      "dtypes: float64(2), int64(1), object(11)\n",
      "memory usage: 5.2+ MB\n"
     ]
    }
   ],
   "metadata": {}
  },
  {
   "cell_type": "markdown",
   "source": [
    "### Notamos que:\r\n",
    "***\r\n",
    "### `1) Sex - problema com unique values (M/Male e F/Female).`\r\n",
    "### `2) Dados faltantes para Age, Height, Weight e Medal;`\r\n",
    "### `3) Weight está como object (deve ser float);`\r\n",
    "***\r\n"
   ],
   "metadata": {}
  },
  {
   "cell_type": "markdown",
   "source": [
    "Em vista disso, vamos pautar nossa análise em cada uma dessas colunas - 1) a 5). \r\n",
    "\r\n",
    "Feito isso, seguiremos para outras colunas que possam despertar suspeita ao longo do processo e finalizar com um tratamento das duplicatas."
   ],
   "metadata": {}
  },
  {
   "cell_type": "markdown",
   "source": [
    "## **1) SEXO (SEX)**"
   ],
   "metadata": {}
  },
  {
   "cell_type": "code",
   "execution_count": 6,
   "source": [
    "#Vamos dar uma conferida melhor na categoria Sex\r\n",
    "print(pd.Series(df[\"Sex\"].unique()), end='\\n\\n') #categoria atualizada com as alterações em M e F"
   ],
   "outputs": [
    {
     "output_type": "stream",
     "name": "stdout",
     "text": [
      "0                          M\n",
      "1                       MALE\n",
      "2                     FEMALE\n",
      "3                          F\n",
      "4    Vic vai te dar um socao\n",
      "5          P&D >> Comunidade\n",
      "dtype: object\n",
      "\n"
     ]
    }
   ],
   "metadata": {}
  },
  {
   "cell_type": "markdown",
   "source": [
    "Podemos perceber que, para Sex, são atribuídos 6 valores únicos, o que indica que foram consideradas 6 possibilidades de sexo.\r\n",
    "Dentre elas, podemos destacar algumas bem curiosas: 'Vic vai te dar um socao' e 'P&D >> Comunidade'. Sabemos que isso não condiz com a realidade, em especial a última.\r\n",
    "**Vamos, então, considerar apenas as opções 'MALE' e 'FEMALE'.**"
   ],
   "metadata": {}
  },
  {
   "cell_type": "code",
   "execution_count": 7,
   "source": [
    "# Troca \"M\" por \"MALE\"\r\n",
    "df[\"Sex\"].replace(\"M\", \"MALE\", inplace=True)\r\n",
    "\r\n",
    "# Troca \"F\" e \"FEMALE\"\r\n",
    "df[\"Sex\"].replace(\"F\", \"FEMALE\", inplace=True)"
   ],
   "outputs": [],
   "metadata": {}
  },
  {
   "cell_type": "code",
   "execution_count": 8,
   "source": [
    "#Vamos analisar o perfil dos atletas cujo sexo é Vic vai te dar um socao\r\n",
    "df[df[\"Sex\"] == \"Vic vai te dar um socao\"]"
   ],
   "outputs": [
    {
     "output_type": "execute_result",
     "data": {
      "text/html": [
       "<div>\n",
       "<style scoped>\n",
       "    .dataframe tbody tr th:only-of-type {\n",
       "        vertical-align: middle;\n",
       "    }\n",
       "\n",
       "    .dataframe tbody tr th {\n",
       "        vertical-align: top;\n",
       "    }\n",
       "\n",
       "    .dataframe thead th {\n",
       "        text-align: right;\n",
       "    }\n",
       "</style>\n",
       "<table border=\"1\" class=\"dataframe\">\n",
       "  <thead>\n",
       "    <tr style=\"text-align: right;\">\n",
       "      <th></th>\n",
       "      <th>Name</th>\n",
       "      <th>Sex</th>\n",
       "      <th>Age</th>\n",
       "      <th>Height</th>\n",
       "      <th>Weight</th>\n",
       "      <th>Team</th>\n",
       "      <th>NOC</th>\n",
       "      <th>Games</th>\n",
       "      <th>Year</th>\n",
       "      <th>Season</th>\n",
       "      <th>City</th>\n",
       "      <th>Sport</th>\n",
       "      <th>Event</th>\n",
       "      <th>Medal</th>\n",
       "    </tr>\n",
       "    <tr>\n",
       "      <th>Athlete_ID</th>\n",
       "      <th></th>\n",
       "      <th></th>\n",
       "      <th></th>\n",
       "      <th></th>\n",
       "      <th></th>\n",
       "      <th></th>\n",
       "      <th></th>\n",
       "      <th></th>\n",
       "      <th></th>\n",
       "      <th></th>\n",
       "      <th></th>\n",
       "      <th></th>\n",
       "      <th></th>\n",
       "      <th></th>\n",
       "    </tr>\n",
       "  </thead>\n",
       "  <tbody>\n",
       "    <tr>\n",
       "      <th>30</th>\n",
       "      <td>Pepijn Aardewijn</td>\n",
       "      <td>Vic vai te dar um socao</td>\n",
       "      <td>26.0</td>\n",
       "      <td>189.0</td>\n",
       "      <td>72.0</td>\n",
       "      <td>Netherlands</td>\n",
       "      <td>NED</td>\n",
       "      <td>1996 Summer</td>\n",
       "      <td>-765</td>\n",
       "      <td>Summer</td>\n",
       "      <td>Atlanta</td>\n",
       "      <td>Rowing</td>\n",
       "      <td>Rowing Men's Lightweight Double Sculls</td>\n",
       "      <td>Silver</td>\n",
       "    </tr>\n",
       "    <tr>\n",
       "      <th>562</th>\n",
       "      <td>Pawe Abratkiewicz</td>\n",
       "      <td>Vic vai te dar um socao</td>\n",
       "      <td>27.0</td>\n",
       "      <td>183.0</td>\n",
       "      <td>84.0</td>\n",
       "      <td>Poland</td>\n",
       "      <td>POL</td>\n",
       "      <td>1998 Winter</td>\n",
       "      <td>1998</td>\n",
       "      <td>Winter</td>\n",
       "      <td>Nagano</td>\n",
       "      <td>Speed Skating</td>\n",
       "      <td>Speed Skating Men's 500 metres</td>\n",
       "      <td>NaN</td>\n",
       "    </tr>\n",
       "    <tr>\n",
       "      <th>963</th>\n",
       "      <td>Derrick Ralph Adkins</td>\n",
       "      <td>Vic vai te dar um socao</td>\n",
       "      <td>26.0</td>\n",
       "      <td>188.0</td>\n",
       "      <td>80.0</td>\n",
       "      <td>United States</td>\n",
       "      <td>USA</td>\n",
       "      <td>1996 Summer</td>\n",
       "      <td>1996</td>\n",
       "      <td>Summer</td>\n",
       "      <td>Atlanta</td>\n",
       "      <td>Athletics</td>\n",
       "      <td>Athletics Men's 400 metres Hurdles</td>\n",
       "      <td>Gold</td>\n",
       "    </tr>\n",
       "    <tr>\n",
       "      <th>1435</th>\n",
       "      <td>Janne Petteri Ahonen</td>\n",
       "      <td>Vic vai te dar um socao</td>\n",
       "      <td>28.0</td>\n",
       "      <td>184.0</td>\n",
       "      <td>66.0</td>\n",
       "      <td>Finland</td>\n",
       "      <td>FIN</td>\n",
       "      <td>2006 Winter</td>\n",
       "      <td>2006</td>\n",
       "      <td>Winter</td>\n",
       "      <td>Torino</td>\n",
       "      <td>Ski Jumping</td>\n",
       "      <td>Ski Jumping Men's Large Hill, Team</td>\n",
       "      <td>Silver</td>\n",
       "    </tr>\n",
       "    <tr>\n",
       "      <th>1555</th>\n",
       "      <td>Geard Ajetovi</td>\n",
       "      <td>Vic vai te dar um socao</td>\n",
       "      <td>19.0</td>\n",
       "      <td>170.0</td>\n",
       "      <td>67.0</td>\n",
       "      <td>Serbia and Montenegro</td>\n",
       "      <td>SCG</td>\n",
       "      <td>2000 Summer</td>\n",
       "      <td>2000</td>\n",
       "      <td>Summer</td>\n",
       "      <td>Sydney</td>\n",
       "      <td>Boxing</td>\n",
       "      <td>Boxing Men's Welterweight</td>\n",
       "      <td>NaN</td>\n",
       "    </tr>\n",
       "    <tr>\n",
       "      <th>...</th>\n",
       "      <td>...</td>\n",
       "      <td>...</td>\n",
       "      <td>...</td>\n",
       "      <td>...</td>\n",
       "      <td>...</td>\n",
       "      <td>...</td>\n",
       "      <td>...</td>\n",
       "      <td>...</td>\n",
       "      <td>...</td>\n",
       "      <td>...</td>\n",
       "      <td>...</td>\n",
       "      <td>...</td>\n",
       "      <td>...</td>\n",
       "      <td>...</td>\n",
       "    </tr>\n",
       "    <tr>\n",
       "      <th>132195</th>\n",
       "      <td>Yury Aleksandrovich Yakimov</td>\n",
       "      <td>Vic vai te dar um socao</td>\n",
       "      <td>23.0</td>\n",
       "      <td>186.0</td>\n",
       "      <td>80.0</td>\n",
       "      <td>Soviet Union</td>\n",
       "      <td>URS</td>\n",
       "      <td>1976 Summer</td>\n",
       "      <td>1976</td>\n",
       "      <td>Summer</td>\n",
       "      <td>Montreal</td>\n",
       "      <td>Rowing</td>\n",
       "      <td>Rowing Men's Quadruple Sculls</td>\n",
       "      <td>Silver</td>\n",
       "    </tr>\n",
       "    <tr>\n",
       "      <th>132638</th>\n",
       "      <td>Dmitry Semyonovich Yaparov</td>\n",
       "      <td>Vic vai te dar um socao</td>\n",
       "      <td>28.0</td>\n",
       "      <td>186.0</td>\n",
       "      <td>86.0</td>\n",
       "      <td>Russia</td>\n",
       "      <td>RUS</td>\n",
       "      <td>2014 Winter</td>\n",
       "      <td>2014</td>\n",
       "      <td>Winter</td>\n",
       "      <td>Sochi</td>\n",
       "      <td>Cross Country Skiing</td>\n",
       "      <td>Cross Country Skiing Men's 4 x 10 kilometres R...</td>\n",
       "      <td>Silver</td>\n",
       "    </tr>\n",
       "    <tr>\n",
       "      <th>133136</th>\n",
       "      <td>Yoshikatsu Yoshida</td>\n",
       "      <td>Vic vai te dar um socao</td>\n",
       "      <td>22.0</td>\n",
       "      <td>161.0</td>\n",
       "      <td>56.0</td>\n",
       "      <td>Japan</td>\n",
       "      <td>JPN</td>\n",
       "      <td>1964 Summer</td>\n",
       "      <td>1964</td>\n",
       "      <td>Summer</td>\n",
       "      <td>Tokyo</td>\n",
       "      <td>Wrestling</td>\n",
       "      <td>Wrestling Men's Flyweight, Freestyle</td>\n",
       "      <td>Gold</td>\n",
       "    </tr>\n",
       "    <tr>\n",
       "      <th>133512</th>\n",
       "      <td>Denys Serhiyovych Yurchenko</td>\n",
       "      <td>Vic vai te dar um socao</td>\n",
       "      <td>30.0</td>\n",
       "      <td>175.0</td>\n",
       "      <td>75.0</td>\n",
       "      <td>Ukraine</td>\n",
       "      <td>UKR</td>\n",
       "      <td>2008 Summer</td>\n",
       "      <td>2008</td>\n",
       "      <td>Summer</td>\n",
       "      <td>Beijing</td>\n",
       "      <td>Athletics</td>\n",
       "      <td>Athletics Men's Pole Vault</td>\n",
       "      <td>Bronze</td>\n",
       "    </tr>\n",
       "    <tr>\n",
       "      <th>133933</th>\n",
       "      <td>Javier Adelmar Zanetti</td>\n",
       "      <td>Vic vai te dar um socao</td>\n",
       "      <td>22.0</td>\n",
       "      <td>178.0</td>\n",
       "      <td>73.0</td>\n",
       "      <td>Argentina</td>\n",
       "      <td>ARG</td>\n",
       "      <td>1996 Summer</td>\n",
       "      <td>1996</td>\n",
       "      <td>Summer</td>\n",
       "      <td>Atlanta</td>\n",
       "      <td>Football</td>\n",
       "      <td>Football Men's Football</td>\n",
       "      <td>Silver</td>\n",
       "    </tr>\n",
       "  </tbody>\n",
       "</table>\n",
       "<p>312 rows × 14 columns</p>\n",
       "</div>"
      ],
      "text/plain": [
       "                                   Name                      Sex   Age  \\\n",
       "Athlete_ID                                                               \n",
       "30                     Pepijn Aardewijn  Vic vai te dar um socao  26.0   \n",
       "562                   Pawe Abratkiewicz  Vic vai te dar um socao  27.0   \n",
       "963                Derrick Ralph Adkins  Vic vai te dar um socao  26.0   \n",
       "1435               Janne Petteri Ahonen  Vic vai te dar um socao  28.0   \n",
       "1555                      Geard Ajetovi  Vic vai te dar um socao  19.0   \n",
       "...                                 ...                      ...   ...   \n",
       "132195      Yury Aleksandrovich Yakimov  Vic vai te dar um socao  23.0   \n",
       "132638       Dmitry Semyonovich Yaparov  Vic vai te dar um socao  28.0   \n",
       "133136               Yoshikatsu Yoshida  Vic vai te dar um socao  22.0   \n",
       "133512      Denys Serhiyovych Yurchenko  Vic vai te dar um socao  30.0   \n",
       "133933           Javier Adelmar Zanetti  Vic vai te dar um socao  22.0   \n",
       "\n",
       "            Height Weight                   Team  NOC        Games  Year  \\\n",
       "Athlete_ID                                                                 \n",
       "30           189.0   72.0            Netherlands  NED  1996 Summer  -765   \n",
       "562          183.0   84.0                 Poland  POL  1998 Winter  1998   \n",
       "963          188.0   80.0          United States  USA  1996 Summer  1996   \n",
       "1435         184.0   66.0                Finland  FIN  2006 Winter  2006   \n",
       "1555         170.0   67.0  Serbia and Montenegro  SCG  2000 Summer  2000   \n",
       "...            ...    ...                    ...  ...          ...   ...   \n",
       "132195       186.0   80.0           Soviet Union  URS  1976 Summer  1976   \n",
       "132638       186.0   86.0                 Russia  RUS  2014 Winter  2014   \n",
       "133136       161.0   56.0                  Japan  JPN  1964 Summer  1964   \n",
       "133512       175.0   75.0                Ukraine  UKR  2008 Summer  2008   \n",
       "133933       178.0   73.0              Argentina  ARG  1996 Summer  1996   \n",
       "\n",
       "            Season      City                 Sport  \\\n",
       "Athlete_ID                                           \n",
       "30          Summer   Atlanta                Rowing   \n",
       "562         Winter    Nagano         Speed Skating   \n",
       "963         Summer   Atlanta             Athletics   \n",
       "1435        Winter    Torino           Ski Jumping   \n",
       "1555        Summer    Sydney                Boxing   \n",
       "...            ...       ...                   ...   \n",
       "132195      Summer  Montreal                Rowing   \n",
       "132638      Winter     Sochi  Cross Country Skiing   \n",
       "133136      Summer     Tokyo             Wrestling   \n",
       "133512      Summer   Beijing             Athletics   \n",
       "133933      Summer   Atlanta              Football   \n",
       "\n",
       "                                                        Event   Medal  \n",
       "Athlete_ID                                                             \n",
       "30                     Rowing Men's Lightweight Double Sculls  Silver  \n",
       "562                            Speed Skating Men's 500 metres     NaN  \n",
       "963                        Athletics Men's 400 metres Hurdles    Gold  \n",
       "1435                       Ski Jumping Men's Large Hill, Team  Silver  \n",
       "1555                                Boxing Men's Welterweight     NaN  \n",
       "...                                                       ...     ...  \n",
       "132195                          Rowing Men's Quadruple Sculls  Silver  \n",
       "132638      Cross Country Skiing Men's 4 x 10 kilometres R...  Silver  \n",
       "133136                   Wrestling Men's Flyweight, Freestyle    Gold  \n",
       "133512                             Athletics Men's Pole Vault  Bronze  \n",
       "133933                                Football Men's Football  Silver  \n",
       "\n",
       "[312 rows x 14 columns]"
      ]
     },
     "metadata": {},
     "execution_count": 8
    }
   ],
   "metadata": {}
  },
  {
   "cell_type": "code",
   "execution_count": 9,
   "source": [
    "#Vamos nos atentar à categoria Events dos atletas que possuem o sexo Vic vai te dar um socao\r\n",
    "pd.Series(df[df[\"Sex\"] == \"Vic vai te dar um socao\"][\"Event\"])"
   ],
   "outputs": [
    {
     "output_type": "execute_result",
     "data": {
      "text/plain": [
       "Athlete_ID\n",
       "30                   Rowing Men's Lightweight Double Sculls\n",
       "562                          Speed Skating Men's 500 metres\n",
       "963                      Athletics Men's 400 metres Hurdles\n",
       "1435                     Ski Jumping Men's Large Hill, Team\n",
       "1555                              Boxing Men's Welterweight\n",
       "                                ...                        \n",
       "132195                        Rowing Men's Quadruple Sculls\n",
       "132638    Cross Country Skiing Men's 4 x 10 kilometres R...\n",
       "133136                 Wrestling Men's Flyweight, Freestyle\n",
       "133512                           Athletics Men's Pole Vault\n",
       "133933                              Football Men's Football\n",
       "Name: Event, Length: 312, dtype: object"
      ]
     },
     "metadata": {},
     "execution_count": 9
    }
   ],
   "metadata": {}
  },
  {
   "cell_type": "markdown",
   "source": [
    "Perceba um padrão: a maioria dos atletas que a série nos mostra jogaram em eventos masculinos. Sabemos disso pois todos os eventos contém a palavra \"Men's\". \r\n",
    "É importante ressaltar que são 312 atletas que possuem o sexo Vic vai te dar um socao.\r\n",
    "Vamos garantir que todos eles são, de fato, homens?"
   ],
   "metadata": {}
  },
  {
   "cell_type": "code",
   "execution_count": 10,
   "source": [
    "#Contagem de quantos dos eventos cujos atletas posseum o sexo Vic vai te dar um socao contêm a palavra \"Men's\"\r\n",
    "pd.Series(df[df[\"Sex\"] == \"Vic vai te dar um socao\"][\"Event\"].str.contains(\"Men's\")).count()"
   ],
   "outputs": [
    {
     "output_type": "execute_result",
     "data": {
      "text/plain": [
       "312"
      ]
     },
     "metadata": {},
     "execution_count": 10
    }
   ],
   "metadata": {}
  },
  {
   "cell_type": "markdown",
   "source": [
    "Match total! Agora sim temos a certeza de que todos esses atletas são, na verdade, do sexo **MALE** e não do sexo Vic vai te dar um socao. Vamos fazer a troca correta?"
   ],
   "metadata": {}
  },
  {
   "cell_type": "code",
   "execution_count": 11,
   "source": [
    "# Troca \"Vic vai te dar um socao\" por \"MALE\"\r\n",
    "df[\"Sex\"].replace(\"Vic vai te dar um socao\", \"MALE\", inplace=True)"
   ],
   "outputs": [],
   "metadata": {}
  },
  {
   "cell_type": "code",
   "execution_count": 12,
   "source": [
    "print(pd.Series(df[\"Sex\"].unique()), end='\\n\\n')"
   ],
   "outputs": [
    {
     "output_type": "stream",
     "name": "stdout",
     "text": [
      "0                 MALE\n",
      "1               FEMALE\n",
      "2    P&D >> Comunidade\n",
      "dtype: object\n",
      "\n"
     ]
    }
   ],
   "metadata": {}
  },
  {
   "cell_type": "code",
   "execution_count": 13,
   "source": [
    "#Vamos analisar o perfil dos atletas cujo sexo é P&D >> Comunidade\r\n",
    "df[df[\"Sex\"] == \"P&D >> Comunidade\"]"
   ],
   "outputs": [
    {
     "output_type": "execute_result",
     "data": {
      "text/html": [
       "<div>\n",
       "<style scoped>\n",
       "    .dataframe tbody tr th:only-of-type {\n",
       "        vertical-align: middle;\n",
       "    }\n",
       "\n",
       "    .dataframe tbody tr th {\n",
       "        vertical-align: top;\n",
       "    }\n",
       "\n",
       "    .dataframe thead th {\n",
       "        text-align: right;\n",
       "    }\n",
       "</style>\n",
       "<table border=\"1\" class=\"dataframe\">\n",
       "  <thead>\n",
       "    <tr style=\"text-align: right;\">\n",
       "      <th></th>\n",
       "      <th>Name</th>\n",
       "      <th>Sex</th>\n",
       "      <th>Age</th>\n",
       "      <th>Height</th>\n",
       "      <th>Weight</th>\n",
       "      <th>Team</th>\n",
       "      <th>NOC</th>\n",
       "      <th>Games</th>\n",
       "      <th>Year</th>\n",
       "      <th>Season</th>\n",
       "      <th>City</th>\n",
       "      <th>Sport</th>\n",
       "      <th>Event</th>\n",
       "      <th>Medal</th>\n",
       "    </tr>\n",
       "    <tr>\n",
       "      <th>Athlete_ID</th>\n",
       "      <th></th>\n",
       "      <th></th>\n",
       "      <th></th>\n",
       "      <th></th>\n",
       "      <th></th>\n",
       "      <th></th>\n",
       "      <th></th>\n",
       "      <th></th>\n",
       "      <th></th>\n",
       "      <th></th>\n",
       "      <th></th>\n",
       "      <th></th>\n",
       "      <th></th>\n",
       "      <th></th>\n",
       "    </tr>\n",
       "  </thead>\n",
       "  <tbody>\n",
       "    <tr>\n",
       "      <th>1467</th>\n",
       "      <td>Mara Magdalena Aicega Amicarelli</td>\n",
       "      <td>P&amp;D &gt;&gt; Comunidade</td>\n",
       "      <td>34.0</td>\n",
       "      <td>165.0</td>\n",
       "      <td>60.0</td>\n",
       "      <td>Argentina</td>\n",
       "      <td>ARG</td>\n",
       "      <td>2008 Summer</td>\n",
       "      <td>2008</td>\n",
       "      <td>Summer</td>\n",
       "      <td>Beijing</td>\n",
       "      <td>Hockey</td>\n",
       "      <td>Hockey Women's Hockey</td>\n",
       "      <td>Bronze</td>\n",
       "    </tr>\n",
       "    <tr>\n",
       "      <th>1546</th>\n",
       "      <td>Eirini Andili</td>\n",
       "      <td>P&amp;D &gt;&gt; Comunidade</td>\n",
       "      <td>17.0</td>\n",
       "      <td>167.0</td>\n",
       "      <td>45.0</td>\n",
       "      <td>Greece</td>\n",
       "      <td>GRE</td>\n",
       "      <td>2000 Summer</td>\n",
       "      <td>2000</td>\n",
       "      <td>Summer</td>\n",
       "      <td>Sydney</td>\n",
       "      <td>Rhythmic Gymnastics</td>\n",
       "      <td>Rhythmic Gymnastics Women's Group</td>\n",
       "      <td>Bronze</td>\n",
       "    </tr>\n",
       "    <tr>\n",
       "      <th>1639</th>\n",
       "      <td>Albina Khamitovna Akhatova</td>\n",
       "      <td>P&amp;D &gt;&gt; Comunidade</td>\n",
       "      <td>29.0</td>\n",
       "      <td>160.0</td>\n",
       "      <td>55.0</td>\n",
       "      <td>Russia</td>\n",
       "      <td>RUS</td>\n",
       "      <td>2006 Winter</td>\n",
       "      <td>2006</td>\n",
       "      <td>Winter</td>\n",
       "      <td>Torino</td>\n",
       "      <td>Biathlon</td>\n",
       "      <td>Biathlon Women's 4 x 6 kilometres Relay</td>\n",
       "      <td>Gold</td>\n",
       "    </tr>\n",
       "    <tr>\n",
       "      <th>2210</th>\n",
       "      <td>Marina Alabau Neira</td>\n",
       "      <td>P&amp;D &gt;&gt; Comunidade</td>\n",
       "      <td>26.0</td>\n",
       "      <td>164.0</td>\n",
       "      <td>55.0</td>\n",
       "      <td>Spain</td>\n",
       "      <td>ESP</td>\n",
       "      <td>2012 Summer</td>\n",
       "      <td>2012</td>\n",
       "      <td>Summer</td>\n",
       "      <td>London</td>\n",
       "      <td>Sailing</td>\n",
       "      <td>Sailing Women's Windsurfer</td>\n",
       "      <td>Gold</td>\n",
       "    </tr>\n",
       "    <tr>\n",
       "      <th>2464</th>\n",
       "      <td>Jo Qesem Ayela Aleh</td>\n",
       "      <td>P&amp;D &gt;&gt; Comunidade</td>\n",
       "      <td>30.0</td>\n",
       "      <td>171.0</td>\n",
       "      <td>58.0</td>\n",
       "      <td>New Zealand</td>\n",
       "      <td>NZL</td>\n",
       "      <td>2016 Summer</td>\n",
       "      <td>2016</td>\n",
       "      <td>Summer</td>\n",
       "      <td>Rio de Janeiro</td>\n",
       "      <td>Sailing</td>\n",
       "      <td>Sailing Women's Two Person Dinghy</td>\n",
       "      <td>Silver</td>\n",
       "    </tr>\n",
       "    <tr>\n",
       "      <th>...</th>\n",
       "      <td>...</td>\n",
       "      <td>...</td>\n",
       "      <td>...</td>\n",
       "      <td>...</td>\n",
       "      <td>...</td>\n",
       "      <td>...</td>\n",
       "      <td>...</td>\n",
       "      <td>...</td>\n",
       "      <td>...</td>\n",
       "      <td>...</td>\n",
       "      <td>...</td>\n",
       "      <td>...</td>\n",
       "      <td>...</td>\n",
       "      <td>...</td>\n",
       "    </tr>\n",
       "    <tr>\n",
       "      <th>133635</th>\n",
       "      <td>Claudia Hildegard Zaczkiewicz (Reidick-, -Reid...</td>\n",
       "      <td>P&amp;D &gt;&gt; Comunidade</td>\n",
       "      <td>26.0</td>\n",
       "      <td>170.0</td>\n",
       "      <td>57.0</td>\n",
       "      <td>West Germany</td>\n",
       "      <td>FRG</td>\n",
       "      <td>1988 Summer</td>\n",
       "      <td>1988</td>\n",
       "      <td>Summer</td>\n",
       "      <td>Seoul</td>\n",
       "      <td>Athletics</td>\n",
       "      <td>Athletics Women's 100 metres Hurdles</td>\n",
       "      <td>Bronze</td>\n",
       "    </tr>\n",
       "    <tr>\n",
       "      <th>134077</th>\n",
       "      <td>Nataliya Borisovna Zasulskaya</td>\n",
       "      <td>P&amp;D &gt;&gt; Comunidade</td>\n",
       "      <td>23.0</td>\n",
       "      <td>190.0</td>\n",
       "      <td>95.0</td>\n",
       "      <td>Unified Team</td>\n",
       "      <td>EUN</td>\n",
       "      <td>1992 Summer</td>\n",
       "      <td>1992</td>\n",
       "      <td>Summer</td>\n",
       "      <td>Barcelona</td>\n",
       "      <td>Basketball</td>\n",
       "      <td>Basketball Women's Basketball</td>\n",
       "      <td>Gold</td>\n",
       "    </tr>\n",
       "    <tr>\n",
       "      <th>134294</th>\n",
       "      <td>Martina Zellner (-Seidl)</td>\n",
       "      <td>P&amp;D &gt;&gt; Comunidade</td>\n",
       "      <td>23.0</td>\n",
       "      <td>169.0</td>\n",
       "      <td>62.0</td>\n",
       "      <td>Germany</td>\n",
       "      <td>GER</td>\n",
       "      <td>1998 Winter</td>\n",
       "      <td>1998</td>\n",
       "      <td>Winter</td>\n",
       "      <td>Nagano</td>\n",
       "      <td>Biathlon</td>\n",
       "      <td>Biathlon Women's 4 x 7.5 kilometres Relay</td>\n",
       "      <td>Gold</td>\n",
       "    </tr>\n",
       "    <tr>\n",
       "      <th>134531</th>\n",
       "      <td>Zhang Ping</td>\n",
       "      <td>P&amp;D &gt;&gt; Comunidade</td>\n",
       "      <td>22.0</td>\n",
       "      <td>187.0</td>\n",
       "      <td>73.0</td>\n",
       "      <td>China</td>\n",
       "      <td>CHN</td>\n",
       "      <td>2004 Summer</td>\n",
       "      <td>2004</td>\n",
       "      <td>Summer</td>\n",
       "      <td>Athina</td>\n",
       "      <td>Volleyball</td>\n",
       "      <td>Volleyball Women's Volleyball</td>\n",
       "      <td>Gold</td>\n",
       "    </tr>\n",
       "    <tr>\n",
       "      <th>134800</th>\n",
       "      <td>Zhou Lulu</td>\n",
       "      <td>P&amp;D &gt;&gt; Comunidade</td>\n",
       "      <td>24.0</td>\n",
       "      <td>175.0</td>\n",
       "      <td>133.0</td>\n",
       "      <td>China</td>\n",
       "      <td>CHN</td>\n",
       "      <td>2012 Summer</td>\n",
       "      <td>2012</td>\n",
       "      <td>Summer</td>\n",
       "      <td>London</td>\n",
       "      <td>Weightlifting</td>\n",
       "      <td>Weightlifting Women's Super-Heavyweight</td>\n",
       "      <td>Gold</td>\n",
       "    </tr>\n",
       "  </tbody>\n",
       "</table>\n",
       "<p>333 rows × 14 columns</p>\n",
       "</div>"
      ],
      "text/plain": [
       "                                                         Name  \\\n",
       "Athlete_ID                                                      \n",
       "1467                         Mara Magdalena Aicega Amicarelli   \n",
       "1546                                            Eirini Andili   \n",
       "1639                               Albina Khamitovna Akhatova   \n",
       "2210                                      Marina Alabau Neira   \n",
       "2464                                      Jo Qesem Ayela Aleh   \n",
       "...                                                       ...   \n",
       "133635      Claudia Hildegard Zaczkiewicz (Reidick-, -Reid...   \n",
       "134077                          Nataliya Borisovna Zasulskaya   \n",
       "134294                               Martina Zellner (-Seidl)   \n",
       "134531                                             Zhang Ping   \n",
       "134800                                              Zhou Lulu   \n",
       "\n",
       "                          Sex   Age  Height Weight          Team  NOC  \\\n",
       "Athlete_ID                                                              \n",
       "1467        P&D >> Comunidade  34.0   165.0   60.0     Argentina  ARG   \n",
       "1546        P&D >> Comunidade  17.0   167.0   45.0        Greece  GRE   \n",
       "1639        P&D >> Comunidade  29.0   160.0   55.0        Russia  RUS   \n",
       "2210        P&D >> Comunidade  26.0   164.0   55.0         Spain  ESP   \n",
       "2464        P&D >> Comunidade  30.0   171.0   58.0   New Zealand  NZL   \n",
       "...                       ...   ...     ...    ...           ...  ...   \n",
       "133635      P&D >> Comunidade  26.0   170.0   57.0  West Germany  FRG   \n",
       "134077      P&D >> Comunidade  23.0   190.0   95.0  Unified Team  EUN   \n",
       "134294      P&D >> Comunidade  23.0   169.0   62.0       Germany  GER   \n",
       "134531      P&D >> Comunidade  22.0   187.0   73.0         China  CHN   \n",
       "134800      P&D >> Comunidade  24.0   175.0  133.0         China  CHN   \n",
       "\n",
       "                  Games  Year  Season            City                Sport  \\\n",
       "Athlete_ID                                                                   \n",
       "1467        2008 Summer  2008  Summer         Beijing               Hockey   \n",
       "1546        2000 Summer  2000  Summer          Sydney  Rhythmic Gymnastics   \n",
       "1639        2006 Winter  2006  Winter          Torino             Biathlon   \n",
       "2210        2012 Summer  2012  Summer          London              Sailing   \n",
       "2464        2016 Summer  2016  Summer  Rio de Janeiro              Sailing   \n",
       "...                 ...   ...     ...             ...                  ...   \n",
       "133635      1988 Summer  1988  Summer           Seoul            Athletics   \n",
       "134077      1992 Summer  1992  Summer       Barcelona           Basketball   \n",
       "134294      1998 Winter  1998  Winter          Nagano             Biathlon   \n",
       "134531      2004 Summer  2004  Summer          Athina           Volleyball   \n",
       "134800      2012 Summer  2012  Summer          London        Weightlifting   \n",
       "\n",
       "                                                Event   Medal  \n",
       "Athlete_ID                                                     \n",
       "1467                            Hockey Women's Hockey  Bronze  \n",
       "1546                Rhythmic Gymnastics Women's Group  Bronze  \n",
       "1639          Biathlon Women's 4 x 6 kilometres Relay    Gold  \n",
       "2210                       Sailing Women's Windsurfer    Gold  \n",
       "2464                Sailing Women's Two Person Dinghy  Silver  \n",
       "...                                               ...     ...  \n",
       "133635           Athletics Women's 100 metres Hurdles  Bronze  \n",
       "134077                  Basketball Women's Basketball    Gold  \n",
       "134294      Biathlon Women's 4 x 7.5 kilometres Relay    Gold  \n",
       "134531                  Volleyball Women's Volleyball    Gold  \n",
       "134800        Weightlifting Women's Super-Heavyweight    Gold  \n",
       "\n",
       "[333 rows x 14 columns]"
      ]
     },
     "metadata": {},
     "execution_count": 13
    }
   ],
   "metadata": {}
  },
  {
   "cell_type": "markdown",
   "source": [
    "Veja o padrão: repete-se a palavra \"Women's\" em Event para esses atletas. Vamos confirmar nosso palpite de forma análoga ao que fizemos anteriormente:"
   ],
   "metadata": {}
  },
  {
   "cell_type": "code",
   "execution_count": 14,
   "source": [
    "#Contagem de quantos eventos cujos  atletas possuem o sexo P&D >> Comunidade\r\n",
    "pd.Series(df[df[\"Sex\"] == \"P&D >> Comunidade\"][\"Event\"]).count()\r\n"
   ],
   "outputs": [
    {
     "output_type": "execute_result",
     "data": {
      "text/plain": [
       "333"
      ]
     },
     "metadata": {},
     "execution_count": 14
    }
   ],
   "metadata": {}
  },
  {
   "cell_type": "code",
   "execution_count": 15,
   "source": [
    "#Contagem de quantos dos eventos cujos atletas posseum o sexo P&D >> Comunidade contêm a palavra \"Women's\"\r\n",
    "pd.Series(df[df[\"Sex\"] == \"P&D >> Comunidade\"][\"Event\"].str.contains(\"Women's\")).count()"
   ],
   "outputs": [
    {
     "output_type": "execute_result",
     "data": {
      "text/plain": [
       "333"
      ]
     },
     "metadata": {},
     "execution_count": 15
    }
   ],
   "metadata": {}
  },
  {
   "cell_type": "markdown",
   "source": [
    "Isso prova por A + B que P&D não é maior que Comunidade e que o sexo que estamos investigando, nesse caso, é **FEMALE**. Vamos aos ajustes?"
   ],
   "metadata": {}
  },
  {
   "cell_type": "code",
   "execution_count": 16,
   "source": [
    "# Troca \"P&D >> Comunidade\" por \"FEMALE\"\r\n",
    "df[\"Sex\"].replace(\"P&D >> Comunidade\", \"FEMALE\", inplace=True)"
   ],
   "outputs": [],
   "metadata": {}
  },
  {
   "cell_type": "code",
   "execution_count": 17,
   "source": [
    "print(pd.Series(df[\"Sex\"].unique()), end='\\n\\n')"
   ],
   "outputs": [
    {
     "output_type": "stream",
     "name": "stdout",
     "text": [
      "0      MALE\n",
      "1    FEMALE\n",
      "dtype: object\n",
      "\n"
     ]
    }
   ],
   "metadata": {}
  },
  {
   "cell_type": "code",
   "execution_count": 18,
   "source": [
    "df.head()"
   ],
   "outputs": [
    {
     "output_type": "execute_result",
     "data": {
      "text/html": [
       "<div>\n",
       "<style scoped>\n",
       "    .dataframe tbody tr th:only-of-type {\n",
       "        vertical-align: middle;\n",
       "    }\n",
       "\n",
       "    .dataframe tbody tr th {\n",
       "        vertical-align: top;\n",
       "    }\n",
       "\n",
       "    .dataframe thead th {\n",
       "        text-align: right;\n",
       "    }\n",
       "</style>\n",
       "<table border=\"1\" class=\"dataframe\">\n",
       "  <thead>\n",
       "    <tr style=\"text-align: right;\">\n",
       "      <th></th>\n",
       "      <th>Name</th>\n",
       "      <th>Sex</th>\n",
       "      <th>Age</th>\n",
       "      <th>Height</th>\n",
       "      <th>Weight</th>\n",
       "      <th>Team</th>\n",
       "      <th>NOC</th>\n",
       "      <th>Games</th>\n",
       "      <th>Year</th>\n",
       "      <th>Season</th>\n",
       "      <th>City</th>\n",
       "      <th>Sport</th>\n",
       "      <th>Event</th>\n",
       "      <th>Medal</th>\n",
       "    </tr>\n",
       "    <tr>\n",
       "      <th>Athlete_ID</th>\n",
       "      <th></th>\n",
       "      <th></th>\n",
       "      <th></th>\n",
       "      <th></th>\n",
       "      <th></th>\n",
       "      <th></th>\n",
       "      <th></th>\n",
       "      <th></th>\n",
       "      <th></th>\n",
       "      <th></th>\n",
       "      <th></th>\n",
       "      <th></th>\n",
       "      <th></th>\n",
       "      <th></th>\n",
       "    </tr>\n",
       "  </thead>\n",
       "  <tbody>\n",
       "    <tr>\n",
       "      <th>4</th>\n",
       "      <td>Edgar Lindenau Aabye</td>\n",
       "      <td>MALE</td>\n",
       "      <td>34.0</td>\n",
       "      <td>NaN</td>\n",
       "      <td>NaN</td>\n",
       "      <td>Denmark/Sweden</td>\n",
       "      <td>DEN</td>\n",
       "      <td>1900 Summer</td>\n",
       "      <td>1900</td>\n",
       "      <td>Summer</td>\n",
       "      <td>Paris</td>\n",
       "      <td>Tug-Of-War</td>\n",
       "      <td>Tug-Of-War Men's Tug-Of-War</td>\n",
       "      <td>Gold</td>\n",
       "    </tr>\n",
       "    <tr>\n",
       "      <th>6</th>\n",
       "      <td>Per Knut Aaland</td>\n",
       "      <td>MALE</td>\n",
       "      <td>31.0</td>\n",
       "      <td>188.0</td>\n",
       "      <td>75.0</td>\n",
       "      <td>United States</td>\n",
       "      <td>USA</td>\n",
       "      <td>1992 Winter</td>\n",
       "      <td>1992</td>\n",
       "      <td>Winter</td>\n",
       "      <td>Albertville</td>\n",
       "      <td>Cross Country Skiing</td>\n",
       "      <td>Cross Country Skiing Men's 10/15 kilometres Pu...</td>\n",
       "      <td>NaN</td>\n",
       "    </tr>\n",
       "    <tr>\n",
       "      <th>15</th>\n",
       "      <td>Arvo Ossian Aaltonen</td>\n",
       "      <td>MALE</td>\n",
       "      <td>30.0</td>\n",
       "      <td>NaN</td>\n",
       "      <td>NaN</td>\n",
       "      <td>Finland</td>\n",
       "      <td>FIN</td>\n",
       "      <td>1920 Summer</td>\n",
       "      <td>1920</td>\n",
       "      <td>Summer</td>\n",
       "      <td>Antwerpen</td>\n",
       "      <td>Swimming</td>\n",
       "      <td>Swimming Men's 200 metres Breaststroke</td>\n",
       "      <td>Bronze</td>\n",
       "    </tr>\n",
       "    <tr>\n",
       "      <th>15</th>\n",
       "      <td>Arvo Ossian Aaltonen</td>\n",
       "      <td>MALE</td>\n",
       "      <td>30.0</td>\n",
       "      <td>NaN</td>\n",
       "      <td>NaN</td>\n",
       "      <td>Finland</td>\n",
       "      <td>FIN</td>\n",
       "      <td>1920 Summer</td>\n",
       "      <td>1920</td>\n",
       "      <td>Summer</td>\n",
       "      <td>Antwerpen</td>\n",
       "      <td>Swimming</td>\n",
       "      <td>Swimming Men's 400 metres Breaststroke</td>\n",
       "      <td>Bronze</td>\n",
       "    </tr>\n",
       "    <tr>\n",
       "      <th>16</th>\n",
       "      <td>Juhamatti Tapio Aaltonen</td>\n",
       "      <td>MALE</td>\n",
       "      <td>28.0</td>\n",
       "      <td>184.0</td>\n",
       "      <td>85.0</td>\n",
       "      <td>Finland</td>\n",
       "      <td>FIN</td>\n",
       "      <td>2014 Winter</td>\n",
       "      <td>2014</td>\n",
       "      <td>Winter</td>\n",
       "      <td>Sochi</td>\n",
       "      <td>Ice Hockey</td>\n",
       "      <td>Ice Hockey Men's Ice Hockey</td>\n",
       "      <td>Bronze</td>\n",
       "    </tr>\n",
       "  </tbody>\n",
       "</table>\n",
       "</div>"
      ],
      "text/plain": [
       "                                Name   Sex   Age  Height Weight  \\\n",
       "Athlete_ID                                                        \n",
       "4               Edgar Lindenau Aabye  MALE  34.0     NaN    NaN   \n",
       "6                    Per Knut Aaland  MALE  31.0   188.0   75.0   \n",
       "15              Arvo Ossian Aaltonen  MALE  30.0     NaN    NaN   \n",
       "15              Arvo Ossian Aaltonen  MALE  30.0     NaN    NaN   \n",
       "16          Juhamatti Tapio Aaltonen  MALE  28.0   184.0   85.0   \n",
       "\n",
       "                      Team  NOC        Games  Year  Season         City  \\\n",
       "Athlete_ID                                                                \n",
       "4           Denmark/Sweden  DEN  1900 Summer  1900  Summer        Paris   \n",
       "6            United States  USA  1992 Winter  1992  Winter  Albertville   \n",
       "15                 Finland  FIN  1920 Summer  1920  Summer    Antwerpen   \n",
       "15                 Finland  FIN  1920 Summer  1920  Summer    Antwerpen   \n",
       "16                 Finland  FIN  2014 Winter  2014  Winter        Sochi   \n",
       "\n",
       "                           Sport  \\\n",
       "Athlete_ID                         \n",
       "4                     Tug-Of-War   \n",
       "6           Cross Country Skiing   \n",
       "15                      Swimming   \n",
       "15                      Swimming   \n",
       "16                    Ice Hockey   \n",
       "\n",
       "                                                        Event   Medal  \n",
       "Athlete_ID                                                             \n",
       "4                                 Tug-Of-War Men's Tug-Of-War    Gold  \n",
       "6           Cross Country Skiing Men's 10/15 kilometres Pu...     NaN  \n",
       "15                     Swimming Men's 200 metres Breaststroke  Bronze  \n",
       "15                     Swimming Men's 400 metres Breaststroke  Bronze  \n",
       "16                                Ice Hockey Men's Ice Hockey  Bronze  "
      ]
     },
     "metadata": {},
     "execution_count": 18
    }
   ],
   "metadata": {}
  },
  {
   "cell_type": "markdown",
   "source": [],
   "metadata": {}
  },
  {
   "cell_type": "markdown",
   "source": [],
   "metadata": {}
  },
  {
   "cell_type": "markdown",
   "source": [
    "## **2) MEDALHAS (MEDAL)**"
   ],
   "metadata": {}
  },
  {
   "cell_type": "code",
   "execution_count": 19,
   "source": [
    "print(pd.Series(df[\"Medal\"].unique()), end = \"\\n\\n\")"
   ],
   "outputs": [
    {
     "output_type": "stream",
     "name": "stdout",
     "text": [
      "0      Gold\n",
      "1       NaN\n",
      "2    Bronze\n",
      "3    Silver\n",
      "4    Nelson\n",
      "dtype: object\n",
      "\n"
     ]
    }
   ],
   "metadata": {}
  },
  {
   "cell_type": "markdown",
   "source": [
    "Geralmente, as medalhas são Gold, Silver ou Bronze. Nelson é um pouco estranho, não? Vamos tratar esse caso e os valores inválidos."
   ],
   "metadata": {}
  },
  {
   "cell_type": "code",
   "execution_count": 20,
   "source": [
    "#Vamos dar uma olhada no quadro geral de Medal\r\n",
    "df[\"Medal\"].describe()"
   ],
   "outputs": [
    {
     "output_type": "execute_result",
     "data": {
      "text/plain": [
       "count     39804\n",
       "unique        4\n",
       "top        Gold\n",
       "freq      13320\n",
       "Name: Medal, dtype: object"
      ]
     },
     "metadata": {},
     "execution_count": 20
    }
   ],
   "metadata": {}
  },
  {
   "cell_type": "code",
   "execution_count": 21,
   "source": [
    "#Vamos analisar a quantidade de cada medalhas em relação ao total\r\n",
    "df.groupby(\"Medal\").count()"
   ],
   "outputs": [
    {
     "output_type": "execute_result",
     "data": {
      "text/html": [
       "<div>\n",
       "<style scoped>\n",
       "    .dataframe tbody tr th:only-of-type {\n",
       "        vertical-align: middle;\n",
       "    }\n",
       "\n",
       "    .dataframe tbody tr th {\n",
       "        vertical-align: top;\n",
       "    }\n",
       "\n",
       "    .dataframe thead th {\n",
       "        text-align: right;\n",
       "    }\n",
       "</style>\n",
       "<table border=\"1\" class=\"dataframe\">\n",
       "  <thead>\n",
       "    <tr style=\"text-align: right;\">\n",
       "      <th></th>\n",
       "      <th>Name</th>\n",
       "      <th>Sex</th>\n",
       "      <th>Age</th>\n",
       "      <th>Height</th>\n",
       "      <th>Weight</th>\n",
       "      <th>Team</th>\n",
       "      <th>NOC</th>\n",
       "      <th>Games</th>\n",
       "      <th>Year</th>\n",
       "      <th>Season</th>\n",
       "      <th>City</th>\n",
       "      <th>Sport</th>\n",
       "      <th>Event</th>\n",
       "    </tr>\n",
       "    <tr>\n",
       "      <th>Medal</th>\n",
       "      <th></th>\n",
       "      <th></th>\n",
       "      <th></th>\n",
       "      <th></th>\n",
       "      <th></th>\n",
       "      <th></th>\n",
       "      <th></th>\n",
       "      <th></th>\n",
       "      <th></th>\n",
       "      <th></th>\n",
       "      <th></th>\n",
       "      <th></th>\n",
       "      <th></th>\n",
       "    </tr>\n",
       "  </thead>\n",
       "  <tbody>\n",
       "    <tr>\n",
       "      <th>Bronze</th>\n",
       "      <td>13255</td>\n",
       "      <td>13255</td>\n",
       "      <td>12966</td>\n",
       "      <td>10328</td>\n",
       "      <td>10203</td>\n",
       "      <td>13255</td>\n",
       "      <td>13255</td>\n",
       "      <td>13255</td>\n",
       "      <td>13255</td>\n",
       "      <td>13255</td>\n",
       "      <td>13255</td>\n",
       "      <td>13255</td>\n",
       "      <td>13255</td>\n",
       "    </tr>\n",
       "    <tr>\n",
       "      <th>Gold</th>\n",
       "      <td>13320</td>\n",
       "      <td>13320</td>\n",
       "      <td>13172</td>\n",
       "      <td>10491</td>\n",
       "      <td>10215</td>\n",
       "      <td>13320</td>\n",
       "      <td>13320</td>\n",
       "      <td>13320</td>\n",
       "      <td>13320</td>\n",
       "      <td>13320</td>\n",
       "      <td>13320</td>\n",
       "      <td>13320</td>\n",
       "      <td>13320</td>\n",
       "    </tr>\n",
       "    <tr>\n",
       "      <th>Nelson</th>\n",
       "      <td>166</td>\n",
       "      <td>166</td>\n",
       "      <td>166</td>\n",
       "      <td>153</td>\n",
       "      <td>151</td>\n",
       "      <td>166</td>\n",
       "      <td>166</td>\n",
       "      <td>166</td>\n",
       "      <td>166</td>\n",
       "      <td>166</td>\n",
       "      <td>166</td>\n",
       "      <td>166</td>\n",
       "      <td>166</td>\n",
       "    </tr>\n",
       "    <tr>\n",
       "      <th>Silver</th>\n",
       "      <td>13063</td>\n",
       "      <td>13063</td>\n",
       "      <td>12768</td>\n",
       "      <td>10118</td>\n",
       "      <td>9939</td>\n",
       "      <td>13063</td>\n",
       "      <td>13063</td>\n",
       "      <td>13063</td>\n",
       "      <td>13063</td>\n",
       "      <td>13063</td>\n",
       "      <td>13063</td>\n",
       "      <td>13063</td>\n",
       "      <td>13063</td>\n",
       "    </tr>\n",
       "  </tbody>\n",
       "</table>\n",
       "</div>"
      ],
      "text/plain": [
       "         Name    Sex    Age  Height  Weight   Team    NOC  Games   Year  \\\n",
       "Medal                                                                     \n",
       "Bronze  13255  13255  12966   10328   10203  13255  13255  13255  13255   \n",
       "Gold    13320  13320  13172   10491   10215  13320  13320  13320  13320   \n",
       "Nelson    166    166    166     153     151    166    166    166    166   \n",
       "Silver  13063  13063  12768   10118    9939  13063  13063  13063  13063   \n",
       "\n",
       "        Season   City  Sport  Event  \n",
       "Medal                                \n",
       "Bronze   13255  13255  13255  13255  \n",
       "Gold     13320  13320  13320  13320  \n",
       "Nelson     166    166    166    166  \n",
       "Silver   13063  13063  13063  13063  "
      ]
     },
     "metadata": {},
     "execution_count": 21
    }
   ],
   "metadata": {}
  },
  {
   "cell_type": "markdown",
   "source": [
    "Veja que Gold é a medalha que mais se repete.\r\n",
    "\r\n",
    "Nelson, por outro lado, é a que menos se repete e sua participação no grupo total de medalhas é ínfima (166 medalhas de 39804), representando menos de 0.5% das medalhas.\r\n",
    "\r\n",
    "Uma maneira de atacar esse problema é: Nelson representa medalhas reais, que foram atribuídas a atletas reais. É provável que Nelson seja uma medalha Gold, Silver ou Bronze, mas que, por algum erro, tenha sido digitada de forma incorreta. \r\n",
    "\r\n",
    "**Para alterar Nelson, é razoável considerarmos o valor que mais se repete (moda): Gold.**"
   ],
   "metadata": {}
  },
  {
   "cell_type": "code",
   "execution_count": 22,
   "source": [
    "#Troca Nelson por Gold\r\n",
    "\r\n",
    "df[\"Medal\"].replace(\"Nelson\", df[\"Medal\"].mode()[0], inplace = True)"
   ],
   "outputs": [],
   "metadata": {}
  },
  {
   "cell_type": "markdown",
   "source": [
    "Vamos, agora, dar uma olhada nos valores nulos dessa coluna."
   ],
   "metadata": {}
  },
  {
   "cell_type": "code",
   "execution_count": 23,
   "source": [
    "#Contagem dos valores nulos na coluna Medal\r\n",
    "\r\n",
    "df[\"Medal\"].isnull().sum()"
   ],
   "outputs": [
    {
     "output_type": "execute_result",
     "data": {
      "text/plain": [
       "5763"
      ]
     },
     "metadata": {},
     "execution_count": 23
    }
   ],
   "metadata": {}
  },
  {
   "cell_type": "markdown",
   "source": [
    "De forma semelhante, podemos substituir os valores nulos pela moda."
   ],
   "metadata": {}
  },
  {
   "cell_type": "code",
   "execution_count": 24,
   "source": [
    "#Substitui os valores nulos pela moda\r\n",
    "\r\n",
    "df[\"Medal\"].fillna(df[\"Medal\"].mode()[0], inplace = True)\r\n"
   ],
   "outputs": [],
   "metadata": {}
  },
  {
   "cell_type": "code",
   "execution_count": 25,
   "source": [
    "#Confere o sucesso da operação anterior\r\n",
    "\r\n",
    "df[\"Medal\"].isnull().sum()"
   ],
   "outputs": [
    {
     "output_type": "execute_result",
     "data": {
      "text/plain": [
       "0"
      ]
     },
     "metadata": {},
     "execution_count": 25
    }
   ],
   "metadata": {}
  },
  {
   "cell_type": "markdown",
   "source": [
    "## **3) ANO (YEAR)**"
   ],
   "metadata": {}
  },
  {
   "cell_type": "markdown",
   "source": [
    "Vamos dar uma olhada geral nos dados da coluna Year primeiro, ok?"
   ],
   "metadata": {}
  },
  {
   "cell_type": "code",
   "execution_count": 26,
   "source": [
    "df.describe().T"
   ],
   "outputs": [
    {
     "output_type": "execute_result",
     "data": {
      "text/html": [
       "<div>\n",
       "<style scoped>\n",
       "    .dataframe tbody tr th:only-of-type {\n",
       "        vertical-align: middle;\n",
       "    }\n",
       "\n",
       "    .dataframe tbody tr th {\n",
       "        vertical-align: top;\n",
       "    }\n",
       "\n",
       "    .dataframe thead th {\n",
       "        text-align: right;\n",
       "    }\n",
       "</style>\n",
       "<table border=\"1\" class=\"dataframe\">\n",
       "  <thead>\n",
       "    <tr style=\"text-align: right;\">\n",
       "      <th></th>\n",
       "      <th>count</th>\n",
       "      <th>mean</th>\n",
       "      <th>std</th>\n",
       "      <th>min</th>\n",
       "      <th>25%</th>\n",
       "      <th>50%</th>\n",
       "      <th>75%</th>\n",
       "      <th>max</th>\n",
       "    </tr>\n",
       "  </thead>\n",
       "  <tbody>\n",
       "    <tr>\n",
       "      <th>Age</th>\n",
       "      <td>44594.0</td>\n",
       "      <td>25.851348</td>\n",
       "      <td>5.966053</td>\n",
       "      <td>10.0</td>\n",
       "      <td>22.0</td>\n",
       "      <td>25.0</td>\n",
       "      <td>29.0</td>\n",
       "      <td>73.0</td>\n",
       "    </tr>\n",
       "    <tr>\n",
       "      <th>Height</th>\n",
       "      <td>35547.0</td>\n",
       "      <td>972.993867</td>\n",
       "      <td>34467.807030</td>\n",
       "      <td>132.0</td>\n",
       "      <td>170.0</td>\n",
       "      <td>178.0</td>\n",
       "      <td>185.0</td>\n",
       "      <td>1976779.0</td>\n",
       "    </tr>\n",
       "    <tr>\n",
       "      <th>Year</th>\n",
       "      <td>45567.0</td>\n",
       "      <td>1972.391094</td>\n",
       "      <td>94.200678</td>\n",
       "      <td>-2992.0</td>\n",
       "      <td>1952.0</td>\n",
       "      <td>1984.0</td>\n",
       "      <td>2002.0</td>\n",
       "      <td>2016.0</td>\n",
       "    </tr>\n",
       "  </tbody>\n",
       "</table>\n",
       "</div>"
      ],
      "text/plain": [
       "          count         mean           std     min     25%     50%     75%  \\\n",
       "Age     44594.0    25.851348      5.966053    10.0    22.0    25.0    29.0   \n",
       "Height  35547.0   972.993867  34467.807030   132.0   170.0   178.0   185.0   \n",
       "Year    45567.0  1972.391094     94.200678 -2992.0  1952.0  1984.0  2002.0   \n",
       "\n",
       "              max  \n",
       "Age          73.0  \n",
       "Height  1976779.0  \n",
       "Year       2016.0  "
      ]
     },
     "metadata": {},
     "execution_count": 26
    }
   ],
   "metadata": {}
  },
  {
   "cell_type": "markdown",
   "source": [
    "Para Year, destaca-se o valor mínimo negativo. **Não faz sentido um ano ser negativo**. Mas, antes de mais nada, vamos entender qual o papel deles no nosso dataset. \r\n",
    "\r\n",
    "Para isso, vamos montar um gráfico!"
   ],
   "metadata": {}
  },
  {
   "cell_type": "code",
   "execution_count": 27,
   "source": [
    "#Vamos plotar um gráfico que ilustre a situação dos valores negativos atribuídos ao ano\r\n",
    "plt.figure(figsize=(18,4))\r\n",
    "sns.boxplot(x = df[\"Year\"], palette = \"Set3\")\r\n",
    "plt.title(\"Boxplot da coluna YEAR\")\r\n",
    "plt.show()"
   ],
   "outputs": [
    {
     "output_type": "display_data",
     "data": {
      "image/png": "[encoded data removed]",
      "text/plain": [
       "<Figure size 1296x288 with 1 Axes>"
      ]
     },
     "metadata": {
      "needs_background": "light"
     }
    }
   ],
   "metadata": {}
  },
  {
   "cell_type": "markdown",
   "source": [
    "O gráfico acima nos mostra muito bem que esses valores negativos são **outliers** e, nesse caso, podemos ver que também distorcem os valores das idades.\r\n",
    " \r\n",
    "**Para resolver isso, vamos descartar esses valores.**"
   ],
   "metadata": {}
  },
  {
   "cell_type": "code",
   "execution_count": 28,
   "source": [
    "#Descartando os outliers\r\n",
    "df = df[df[\"Year\"] > 0]"
   ],
   "outputs": [],
   "metadata": {}
  },
  {
   "cell_type": "code",
   "execution_count": 29,
   "source": [
    "#Novo gráfico boxplot\r\n",
    "plt.figure(figsize=(18,4))\r\n",
    "sns.boxplot(x = df[\"Year\"], palette = \"Set3\")\r\n",
    "plt.title(\"Boxplot da coluna YEAR\")\r\n",
    "plt.show()"
   ],
   "outputs": [
    {
     "output_type": "display_data",
     "data": {
      "image/png": "[encoded data removed]",
      "text/plain": [
       "<Figure size 1296x288 with 1 Axes>"
      ]
     },
     "metadata": {
      "needs_background": "light"
     }
    }
   ],
   "metadata": {}
  },
  {
   "cell_type": "markdown",
   "source": [
    "Viu como o novo gráfico nos indica resultados bem mais coerentes com o nosso dataset? \r\n",
    "\r\n",
    "Aqueles outliers prejudicavam bastante a qualidade da nossa análise. Agora, ela pode ser feita de um jeito muito mais satisfatório."
   ],
   "metadata": {}
  },
  {
   "cell_type": "markdown",
   "source": [
    "## **4) IDADE (AGE)**"
   ],
   "metadata": {}
  },
  {
   "cell_type": "markdown",
   "source": [
    "Acabamos nosso tratamento de dados em Year. Vamos para Age. \r\n",
    "\r\n",
    "Do describe anterior, não pudemos identificar nenhum problema. Vamos ver se há valores nulos, então."
   ],
   "metadata": {}
  },
  {
   "cell_type": "code",
   "execution_count": 30,
   "source": [
    "#Verifica se há valores nulos na coluna Age\r\n",
    "\r\n",
    "df[\"Age\"].isnull().sum()"
   ],
   "outputs": [
    {
     "output_type": "execute_result",
     "data": {
      "text/plain": [
       "971"
      ]
     },
     "metadata": {},
     "execution_count": 30
    }
   ],
   "metadata": {}
  },
  {
   "cell_type": "markdown",
   "source": [
    "Vamos substituir os valores faltantes para Age. Mas pelo quê? \r\n",
    "\r\n",
    "Utilizar a **mediana** dos valores, nesse caso, é uma solução razoável. Vamos a ela!"
   ],
   "metadata": {}
  },
  {
   "cell_type": "code",
   "execution_count": 31,
   "source": [
    "#Substitui os valores nulos pela mediana \r\n",
    "\r\n",
    "df[\"Age\"] = df[\"Age\"].fillna(df[\"Age\"].median())\r\n"
   ],
   "outputs": [],
   "metadata": {}
  },
  {
   "cell_type": "code",
   "execution_count": 32,
   "source": [
    "#Confere o sucesso da operação anterior\r\n",
    "\r\n",
    "df[\"Age\"].isnull().sum()"
   ],
   "outputs": [
    {
     "output_type": "execute_result",
     "data": {
      "text/plain": [
       "0"
      ]
     },
     "metadata": {},
     "execution_count": 32
    }
   ],
   "metadata": {}
  },
  {
   "cell_type": "markdown",
   "source": [
    "Vamos tratar da coluna Height. \r\n",
    "\r\n",
    "Consideremos que o maior atleta do mundo tem 2,46m de altura. \r\n",
    "\r\n",
    "Veja, abaixo, que dentro desse intervalo, a altura maior é 2.23m. É razoável, portanto, que a tomemos como o limite das alturas dos nossos atletas, pois é o máximo valor menor ou igual a real altura máxima de um atleta.\r\n",
    "\r\n",
    "Qualquer valor acima disso, deverá ser reajustado corretamente."
   ],
   "metadata": {}
  },
  {
   "cell_type": "code",
   "execution_count": 33,
   "source": [
    "df[df[\"Height\"] <= 246][\"Height\"].max()\r\n"
   ],
   "outputs": [
    {
     "output_type": "execute_result",
     "data": {
      "text/plain": [
       "223.0"
      ]
     },
     "metadata": {},
     "execution_count": 33
    }
   ],
   "metadata": {}
  },
  {
   "cell_type": "code",
   "execution_count": 34,
   "source": [
    "#Contagem da quantidade de alturas maiores que a altura máxima 246cm\r\n",
    "df.groupby(df[\"Height\"] > 246).count()"
   ],
   "outputs": [
    {
     "output_type": "execute_result",
     "data": {
      "text/html": [
       "<div>\n",
       "<style scoped>\n",
       "    .dataframe tbody tr th:only-of-type {\n",
       "        vertical-align: middle;\n",
       "    }\n",
       "\n",
       "    .dataframe tbody tr th {\n",
       "        vertical-align: top;\n",
       "    }\n",
       "\n",
       "    .dataframe thead th {\n",
       "        text-align: right;\n",
       "    }\n",
       "</style>\n",
       "<table border=\"1\" class=\"dataframe\">\n",
       "  <thead>\n",
       "    <tr style=\"text-align: right;\">\n",
       "      <th></th>\n",
       "      <th>Name</th>\n",
       "      <th>Sex</th>\n",
       "      <th>Age</th>\n",
       "      <th>Height</th>\n",
       "      <th>Weight</th>\n",
       "      <th>Team</th>\n",
       "      <th>NOC</th>\n",
       "      <th>Games</th>\n",
       "      <th>Year</th>\n",
       "      <th>Season</th>\n",
       "      <th>City</th>\n",
       "      <th>Sport</th>\n",
       "      <th>Event</th>\n",
       "      <th>Medal</th>\n",
       "    </tr>\n",
       "    <tr>\n",
       "      <th>Height</th>\n",
       "      <th></th>\n",
       "      <th></th>\n",
       "      <th></th>\n",
       "      <th></th>\n",
       "      <th></th>\n",
       "      <th></th>\n",
       "      <th></th>\n",
       "      <th></th>\n",
       "      <th></th>\n",
       "      <th></th>\n",
       "      <th></th>\n",
       "      <th></th>\n",
       "      <th></th>\n",
       "      <th></th>\n",
       "    </tr>\n",
       "  </thead>\n",
       "  <tbody>\n",
       "    <tr>\n",
       "      <th>False</th>\n",
       "      <td>45513</td>\n",
       "      <td>45513</td>\n",
       "      <td>45513</td>\n",
       "      <td>35500</td>\n",
       "      <td>34879</td>\n",
       "      <td>45513</td>\n",
       "      <td>45513</td>\n",
       "      <td>45513</td>\n",
       "      <td>45513</td>\n",
       "      <td>45513</td>\n",
       "      <td>45513</td>\n",
       "      <td>45513</td>\n",
       "      <td>45513</td>\n",
       "      <td>45513</td>\n",
       "    </tr>\n",
       "    <tr>\n",
       "      <th>True</th>\n",
       "      <td>24</td>\n",
       "      <td>24</td>\n",
       "      <td>24</td>\n",
       "      <td>24</td>\n",
       "      <td>24</td>\n",
       "      <td>24</td>\n",
       "      <td>24</td>\n",
       "      <td>24</td>\n",
       "      <td>24</td>\n",
       "      <td>24</td>\n",
       "      <td>24</td>\n",
       "      <td>24</td>\n",
       "      <td>24</td>\n",
       "      <td>24</td>\n",
       "    </tr>\n",
       "  </tbody>\n",
       "</table>\n",
       "</div>"
      ],
      "text/plain": [
       "         Name    Sex    Age  Height  Weight   Team    NOC  Games   Year  \\\n",
       "Height                                                                    \n",
       "False   45513  45513  45513   35500   34879  45513  45513  45513  45513   \n",
       "True       24     24     24      24      24     24     24     24     24   \n",
       "\n",
       "        Season   City  Sport  Event  Medal  \n",
       "Height                                      \n",
       "False    45513  45513  45513  45513  45513  \n",
       "True        24     24     24     24     24  "
      ]
     },
     "metadata": {},
     "execution_count": 34
    }
   ],
   "metadata": {}
  },
  {
   "cell_type": "code",
   "execution_count": 35,
   "source": [
    "#Contagem da quantidade de alturas com dados nulos\r\n",
    "df[\"Height\"].isnull().sum()"
   ],
   "outputs": [
    {
     "output_type": "execute_result",
     "data": {
      "text/plain": [
       "10013"
      ]
     },
     "metadata": {},
     "execution_count": 35
    }
   ],
   "metadata": {}
  },
  {
   "cell_type": "markdown",
   "source": [
    "Vamos tratar os casos nulos e excedentes das nossas alturas!\r\n",
    "A técnica de substituir pela mediana também é boa nesse caso."
   ],
   "metadata": {}
  },
  {
   "cell_type": "code",
   "execution_count": 36,
   "source": [
    "#Substituindo os valores nulos pela mediana\r\n",
    "df[\"Height\"] = df[\"Height\"].fillna(df[\"Height\"].median())\r\n",
    "#Substituindo os valores maiores que a altura máxima pela mediana\r\n",
    "df.loc[df[\"Height\"] > 246, \"Height\"] = df[\"Height\"].median()"
   ],
   "outputs": [],
   "metadata": {}
  },
  {
   "cell_type": "code",
   "execution_count": 37,
   "source": [
    "#Checagem do sucesso do tratamento\r\n",
    "df[df[\"Height\"] > 246]"
   ],
   "outputs": [
    {
     "output_type": "execute_result",
     "data": {
      "text/html": [
       "<div>\n",
       "<style scoped>\n",
       "    .dataframe tbody tr th:only-of-type {\n",
       "        vertical-align: middle;\n",
       "    }\n",
       "\n",
       "    .dataframe tbody tr th {\n",
       "        vertical-align: top;\n",
       "    }\n",
       "\n",
       "    .dataframe thead th {\n",
       "        text-align: right;\n",
       "    }\n",
       "</style>\n",
       "<table border=\"1\" class=\"dataframe\">\n",
       "  <thead>\n",
       "    <tr style=\"text-align: right;\">\n",
       "      <th></th>\n",
       "      <th>Name</th>\n",
       "      <th>Sex</th>\n",
       "      <th>Age</th>\n",
       "      <th>Height</th>\n",
       "      <th>Weight</th>\n",
       "      <th>Team</th>\n",
       "      <th>NOC</th>\n",
       "      <th>Games</th>\n",
       "      <th>Year</th>\n",
       "      <th>Season</th>\n",
       "      <th>City</th>\n",
       "      <th>Sport</th>\n",
       "      <th>Event</th>\n",
       "      <th>Medal</th>\n",
       "    </tr>\n",
       "    <tr>\n",
       "      <th>Athlete_ID</th>\n",
       "      <th></th>\n",
       "      <th></th>\n",
       "      <th></th>\n",
       "      <th></th>\n",
       "      <th></th>\n",
       "      <th></th>\n",
       "      <th></th>\n",
       "      <th></th>\n",
       "      <th></th>\n",
       "      <th></th>\n",
       "      <th></th>\n",
       "      <th></th>\n",
       "      <th></th>\n",
       "      <th></th>\n",
       "    </tr>\n",
       "  </thead>\n",
       "  <tbody>\n",
       "  </tbody>\n",
       "</table>\n",
       "</div>"
      ],
      "text/plain": [
       "Empty DataFrame\n",
       "Columns: [Name, Sex, Age, Height, Weight, Team, NOC, Games, Year, Season, City, Sport, Event, Medal]\n",
       "Index: []"
      ]
     },
     "metadata": {},
     "execution_count": 37
    }
   ],
   "metadata": {}
  },
  {
   "cell_type": "markdown",
   "source": [
    "## **5) PESO (WEIGHT)**"
   ],
   "metadata": {}
  },
  {
   "cell_type": "markdown",
   "source": [
    "Agora, tratemos a coluna Weight. Como visto anteriormente, **precisamos transformá-la em float**.\r\n",
    "\r\n",
    "Mas antes disso, vejamos abaixo que, dentre os valores possíveis, há uma string: 'hsuahusahu'.\r\n",
    "\r\n",
    "**Primeiro, ela deve ser transformada em um número** e, após isso, podemos alterar o tipo da nosssa coluna."
   ],
   "metadata": {}
  },
  {
   "cell_type": "code",
   "execution_count": 38,
   "source": [
    "#Visualização inicial da coluna Weight - veja que é do tipo objeto\r\n",
    "\r\n",
    "df[\"Weight\"].describe()"
   ],
   "outputs": [
    {
     "output_type": "execute_result",
     "data": {
      "text/plain": [
       "count     34903\n",
       "unique      188\n",
       "top        70.0\n",
       "freq       1439\n",
       "Name: Weight, dtype: object"
      ]
     },
     "metadata": {},
     "execution_count": 38
    }
   ],
   "metadata": {}
  },
  {
   "cell_type": "code",
   "execution_count": 39,
   "source": [
    "#Valores únicos de Weight - veja que há um incompatível com o que esperamos\r\n",
    "\r\n",
    "df[\"Weight\"].unique()"
   ],
   "outputs": [
    {
     "output_type": "execute_result",
     "data": {
      "text/plain": [
       "array([nan, '75.0', '85.0', '64.0', '90.0', '87.0', '49.0', 'hsuahusahu',\n",
       "       '76.0', '83.0', '86.0', '82.0', '55.0', '67.0', '60.0', '79.0',\n",
       "       '96.0', '97.0', '70.0', '88.0', '56.0', '80.0', '59.0', '91.0',\n",
       "       '72.0', '62.0', '63.0', '130.0', '104.0', '73.0', '84.0', '125.0',\n",
       "       '50.0', '102.0', '48.0', '58.0', '78.0', '40.0', '68.0', '92.0',\n",
       "       '61.0', '95.0', '89.0', '65.0', '93.0', '77.0', '46.0', '81.0',\n",
       "       '52.0', '54.0', '57.0', '69.0', '99.0', '69.5', '51.0', '120.0',\n",
       "       '74.0', '110.0', '100.0', '66.0', '47.0', '116.0', '107.0', '53.0',\n",
       "       '45.0', '105.0', '109.0', '156.0', '71.0', '98.0', '160.0',\n",
       "       '106.0', '146.0', '44.0', '138.0', '141.0', '94.0', '118.0',\n",
       "       '101.0', '39.0', '32.0', '112.0', '115.0', '74.5', '121.0',\n",
       "       '135.0', '111.0', '43.0', '36.0', '67.5', '114.0', '132.0', '65.5',\n",
       "       '42.0', '59.5', '127.5', '108.0', '35.0', '117.0', '103.0', '58.5',\n",
       "       '214.0', '113.0', '146.5', '116.5', '140.0', '38.0', '101.5',\n",
       "       '154.0', '57.5', '136.0', '127.0', '102.5', '170.0', '126.0',\n",
       "       '77.3333333333333', '122.0', '55.5', '41.0', '123.0', '34.0',\n",
       "       '150.0', '109.5', '37.0', '70.5', '71.5', '30.0', '76.5', '64.5',\n",
       "       '33.0', '129.0', '137.0', '128.0', '73.5', '54.5', '56.5', '63.5',\n",
       "       '134.0', '147.0', '100.5', '78.5', '82.5', '61.5', '83.5', '77.5',\n",
       "       '53.5', '87.5', '124.0', '72.5', '88.5', '68.5', '81.5', '89.5',\n",
       "       '167.0', '91.5', '79.5', '66.5', '85.5', '108.5', '142.0', '86.5',\n",
       "       '106.5', '60.5', '135.5', '31.0', '148.0', '93.5', '97.5', '103.5',\n",
       "       '175.0', '90.5', '131.0', '145.0', '119.0', '155.0', '139.0',\n",
       "       '52.5', '104.5', '143.0', '105.5', '75.5', '84.5', '92.5', '182.0',\n",
       "       '62.5', '130.5', '28.0', '163.0', '133.0'], dtype=object)"
      ]
     },
     "metadata": {},
     "execution_count": 39
    }
   ],
   "metadata": {}
  },
  {
   "cell_type": "code",
   "execution_count": 40,
   "source": [
    "#Troca \"hsuahusahu\" pela moda\r\n",
    "\r\n",
    "df[\"Weight\"].replace(\"hsuahusahu\", df[\"Weight\"].mode()[0], inplace = True)"
   ],
   "outputs": [],
   "metadata": {}
  },
  {
   "cell_type": "code",
   "execution_count": 41,
   "source": [
    "#Checa o sucesso da operação anterior\r\n",
    "\r\n",
    "df[df[\"Weight\"] == \"hsuahusahu\"]"
   ],
   "outputs": [
    {
     "output_type": "execute_result",
     "data": {
      "text/html": [
       "<div>\n",
       "<style scoped>\n",
       "    .dataframe tbody tr th:only-of-type {\n",
       "        vertical-align: middle;\n",
       "    }\n",
       "\n",
       "    .dataframe tbody tr th {\n",
       "        vertical-align: top;\n",
       "    }\n",
       "\n",
       "    .dataframe thead th {\n",
       "        text-align: right;\n",
       "    }\n",
       "</style>\n",
       "<table border=\"1\" class=\"dataframe\">\n",
       "  <thead>\n",
       "    <tr style=\"text-align: right;\">\n",
       "      <th></th>\n",
       "      <th>Name</th>\n",
       "      <th>Sex</th>\n",
       "      <th>Age</th>\n",
       "      <th>Height</th>\n",
       "      <th>Weight</th>\n",
       "      <th>Team</th>\n",
       "      <th>NOC</th>\n",
       "      <th>Games</th>\n",
       "      <th>Year</th>\n",
       "      <th>Season</th>\n",
       "      <th>City</th>\n",
       "      <th>Sport</th>\n",
       "      <th>Event</th>\n",
       "      <th>Medal</th>\n",
       "    </tr>\n",
       "    <tr>\n",
       "      <th>Athlete_ID</th>\n",
       "      <th></th>\n",
       "      <th></th>\n",
       "      <th></th>\n",
       "      <th></th>\n",
       "      <th></th>\n",
       "      <th></th>\n",
       "      <th></th>\n",
       "      <th></th>\n",
       "      <th></th>\n",
       "      <th></th>\n",
       "      <th></th>\n",
       "      <th></th>\n",
       "      <th></th>\n",
       "      <th></th>\n",
       "    </tr>\n",
       "  </thead>\n",
       "  <tbody>\n",
       "  </tbody>\n",
       "</table>\n",
       "</div>"
      ],
      "text/plain": [
       "Empty DataFrame\n",
       "Columns: [Name, Sex, Age, Height, Weight, Team, NOC, Games, Year, Season, City, Sport, Event, Medal]\n",
       "Index: []"
      ]
     },
     "metadata": {},
     "execution_count": 41
    }
   ],
   "metadata": {}
  },
  {
   "cell_type": "code",
   "execution_count": 42,
   "source": [
    "#Transforma os dados de Weight em float\r\n",
    "\r\n",
    "df[\"Weight\"] = df[\"Weight\"].astype(float)"
   ],
   "outputs": [],
   "metadata": {}
  },
  {
   "cell_type": "code",
   "execution_count": 43,
   "source": [
    "#Checa o sucesso da operação anterior - o tipo de dado é, de fato, float\r\n",
    "\r\n",
    "df[\"Weight\"].describe()"
   ],
   "outputs": [
    {
     "output_type": "execute_result",
     "data": {
      "text/plain": [
       "count    34903.000000\n",
       "mean        73.431964\n",
       "std         14.876752\n",
       "min         28.000000\n",
       "25%         63.000000\n",
       "50%         72.000000\n",
       "75%         82.000000\n",
       "max        214.000000\n",
       "Name: Weight, dtype: float64"
      ]
     },
     "metadata": {},
     "execution_count": 43
    }
   ],
   "metadata": {}
  },
  {
   "cell_type": "code",
   "execution_count": 44,
   "source": [
    "#Quantidade de valores nulos em Weight\r\n",
    "\r\n",
    "df[\"Weight\"].isnull().sum()"
   ],
   "outputs": [
    {
     "output_type": "execute_result",
     "data": {
      "text/plain": [
       "10634"
      ]
     },
     "metadata": {},
     "execution_count": 44
    }
   ],
   "metadata": {}
  },
  {
   "cell_type": "code",
   "execution_count": 45,
   "source": [
    "#Substitui os valores nulos pela mediana\r\n",
    "\r\n",
    "df[\"Weight\"].fillna(df[\"Weight\"].median(), inplace = True)"
   ],
   "outputs": [],
   "metadata": {}
  },
  {
   "cell_type": "code",
   "execution_count": 46,
   "source": [
    "#Checa o sucesso da operação anterior\r\n",
    "\r\n",
    "df[\"Weight\"].isnull().sum()"
   ],
   "outputs": [
    {
     "output_type": "execute_result",
     "data": {
      "text/plain": [
       "0"
      ]
     },
     "metadata": {},
     "execution_count": 46
    }
   ],
   "metadata": {}
  },
  {
   "cell_type": "markdown",
   "source": [
    "## **6) CIDADE (CITY)**"
   ],
   "metadata": {}
  },
  {
   "cell_type": "code",
   "execution_count": 47,
   "source": [
    "#Verifica os valores únicos da coluna City\r\n",
    "df[\"City\"].unique()"
   ],
   "outputs": [
    {
     "output_type": "execute_result",
     "data": {
      "text/plain": [
       "array(['Paris', 'Albertville', 'Antwerpen', 'Sochi', 'London', 'Helsinki',\n",
       "       'Lillehammer', 'Salt Lake City', 'Torino', 'Beijing', 'Oslo',\n",
       "       'Squaw Valley', 'Stockholm', 'Melbourne', 'Rio de Janeiro',\n",
       "       'Sydney', 'Atlanta', 'Athina', 'Moskva', 'Los Angeles',\n",
       "       'Barcelona', 'Berlin', 'Seoul', 'Tokyo', 'Roma', 'Munich',\n",
       "       'Chamonix', 'St. Louis', 'Sankt Moritz', 'Nagano', 'Calgary',\n",
       "       'Grenoble', 'Montreal', 'Vancouver', 'Amsterdam', 'Mexico City',\n",
       "       'Sapporo', 'Lake Placid', 'Sarajevo', 'Garmisch-Partenkirchen',\n",
       "       \"Cortina d'Ampezzo\", 'Innsbruck', '######'], dtype=object)"
      ]
     },
     "metadata": {},
     "execution_count": 47
    }
   ],
   "metadata": {}
  },
  {
   "cell_type": "code",
   "execution_count": 48,
   "source": [
    "#Primeira visualização dos valores estranhos na coluna City\r\n",
    "\r\n",
    "df[df[\"City\"] == \"######\"] "
   ],
   "outputs": [
    {
     "output_type": "execute_result",
     "data": {
      "text/html": [
       "<div>\n",
       "<style scoped>\n",
       "    .dataframe tbody tr th:only-of-type {\n",
       "        vertical-align: middle;\n",
       "    }\n",
       "\n",
       "    .dataframe tbody tr th {\n",
       "        vertical-align: top;\n",
       "    }\n",
       "\n",
       "    .dataframe thead th {\n",
       "        text-align: right;\n",
       "    }\n",
       "</style>\n",
       "<table border=\"1\" class=\"dataframe\">\n",
       "  <thead>\n",
       "    <tr style=\"text-align: right;\">\n",
       "      <th></th>\n",
       "      <th>Name</th>\n",
       "      <th>Sex</th>\n",
       "      <th>Age</th>\n",
       "      <th>Height</th>\n",
       "      <th>Weight</th>\n",
       "      <th>Team</th>\n",
       "      <th>NOC</th>\n",
       "      <th>Games</th>\n",
       "      <th>Year</th>\n",
       "      <th>Season</th>\n",
       "      <th>City</th>\n",
       "      <th>Sport</th>\n",
       "      <th>Event</th>\n",
       "      <th>Medal</th>\n",
       "    </tr>\n",
       "    <tr>\n",
       "      <th>Athlete_ID</th>\n",
       "      <th></th>\n",
       "      <th></th>\n",
       "      <th></th>\n",
       "      <th></th>\n",
       "      <th></th>\n",
       "      <th></th>\n",
       "      <th></th>\n",
       "      <th></th>\n",
       "      <th></th>\n",
       "      <th></th>\n",
       "      <th></th>\n",
       "      <th></th>\n",
       "      <th></th>\n",
       "      <th></th>\n",
       "    </tr>\n",
       "  </thead>\n",
       "  <tbody>\n",
       "    <tr>\n",
       "      <th>5815</th>\n",
       "      <td>Gillian \"Jill\" Atkins</td>\n",
       "      <td>FEMALE</td>\n",
       "      <td>29.0</td>\n",
       "      <td>165.0</td>\n",
       "      <td>65.0</td>\n",
       "      <td>Great Britain</td>\n",
       "      <td>GBR</td>\n",
       "      <td>1992 Summer</td>\n",
       "      <td>1992</td>\n",
       "      <td>Summer</td>\n",
       "      <td>######</td>\n",
       "      <td>Hockey</td>\n",
       "      <td>Hockey Women's Hockey</td>\n",
       "      <td>Bronze</td>\n",
       "    </tr>\n",
       "    <tr>\n",
       "      <th>7903</th>\n",
       "      <td>Jane Louise Barkman (-Brown)</td>\n",
       "      <td>FEMALE</td>\n",
       "      <td>17.0</td>\n",
       "      <td>169.0</td>\n",
       "      <td>61.0</td>\n",
       "      <td>United States</td>\n",
       "      <td>USA</td>\n",
       "      <td>1968 Summer</td>\n",
       "      <td>1968</td>\n",
       "      <td>Summer</td>\n",
       "      <td>######</td>\n",
       "      <td>Swimming</td>\n",
       "      <td>Swimming Women's 4 x 100 metres Freestyle Relay</td>\n",
       "      <td>Gold</td>\n",
       "    </tr>\n",
       "    <tr>\n",
       "      <th>10360</th>\n",
       "      <td>Liubov Ivanivna Berezhna-Odynokova</td>\n",
       "      <td>FEMALE</td>\n",
       "      <td>20.0</td>\n",
       "      <td>167.0</td>\n",
       "      <td>61.0</td>\n",
       "      <td>Soviet Union</td>\n",
       "      <td>URS</td>\n",
       "      <td>1976 Summer</td>\n",
       "      <td>1976</td>\n",
       "      <td>Summer</td>\n",
       "      <td>######</td>\n",
       "      <td>Handball</td>\n",
       "      <td>Handball Women's Handball</td>\n",
       "      <td>Gold</td>\n",
       "    </tr>\n",
       "    <tr>\n",
       "      <th>10955</th>\n",
       "      <td>Annemieke Marileen Bes</td>\n",
       "      <td>FEMALE</td>\n",
       "      <td>30.0</td>\n",
       "      <td>177.0</td>\n",
       "      <td>70.0</td>\n",
       "      <td>Netherlands</td>\n",
       "      <td>NED</td>\n",
       "      <td>2008 Summer</td>\n",
       "      <td>2008</td>\n",
       "      <td>Summer</td>\n",
       "      <td>######</td>\n",
       "      <td>Sailing</td>\n",
       "      <td>Sailing Women's Three Person Keelboat</td>\n",
       "      <td>Silver</td>\n",
       "    </tr>\n",
       "    <tr>\n",
       "      <th>11671</th>\n",
       "      <td>Suzanne Brigit \"Sue\" Bird</td>\n",
       "      <td>FEMALE</td>\n",
       "      <td>35.0</td>\n",
       "      <td>175.0</td>\n",
       "      <td>66.0</td>\n",
       "      <td>United States</td>\n",
       "      <td>USA</td>\n",
       "      <td>2016 Summer</td>\n",
       "      <td>2016</td>\n",
       "      <td>Summer</td>\n",
       "      <td>######</td>\n",
       "      <td>Basketball</td>\n",
       "      <td>Basketball Women's Basketball</td>\n",
       "      <td>Gold</td>\n",
       "    </tr>\n",
       "    <tr>\n",
       "      <th>...</th>\n",
       "      <td>...</td>\n",
       "      <td>...</td>\n",
       "      <td>...</td>\n",
       "      <td>...</td>\n",
       "      <td>...</td>\n",
       "      <td>...</td>\n",
       "      <td>...</td>\n",
       "      <td>...</td>\n",
       "      <td>...</td>\n",
       "      <td>...</td>\n",
       "      <td>...</td>\n",
       "      <td>...</td>\n",
       "      <td>...</td>\n",
       "      <td>...</td>\n",
       "    </tr>\n",
       "    <tr>\n",
       "      <th>131311</th>\n",
       "      <td>Jenny Wolf (-Lotze)</td>\n",
       "      <td>FEMALE</td>\n",
       "      <td>31.0</td>\n",
       "      <td>172.0</td>\n",
       "      <td>75.0</td>\n",
       "      <td>Germany</td>\n",
       "      <td>GER</td>\n",
       "      <td>2010 Winter</td>\n",
       "      <td>2010</td>\n",
       "      <td>Winter</td>\n",
       "      <td>######</td>\n",
       "      <td>Speed Skating</td>\n",
       "      <td>Speed Skating Women's 500 metres</td>\n",
       "      <td>Silver</td>\n",
       "    </tr>\n",
       "    <tr>\n",
       "      <th>131657</th>\n",
       "      <td>Katarzyna Bronisawa Woniak</td>\n",
       "      <td>FEMALE</td>\n",
       "      <td>20.0</td>\n",
       "      <td>173.0</td>\n",
       "      <td>61.0</td>\n",
       "      <td>Poland</td>\n",
       "      <td>POL</td>\n",
       "      <td>2010 Winter</td>\n",
       "      <td>2010</td>\n",
       "      <td>Winter</td>\n",
       "      <td>######</td>\n",
       "      <td>Speed Skating</td>\n",
       "      <td>Speed Skating Women's Team Pursuit (6 laps)</td>\n",
       "      <td>Bronze</td>\n",
       "    </tr>\n",
       "    <tr>\n",
       "      <th>132068</th>\n",
       "      <td>Xu Jing</td>\n",
       "      <td>FEMALE</td>\n",
       "      <td>21.0</td>\n",
       "      <td>169.0</td>\n",
       "      <td>70.0</td>\n",
       "      <td>China</td>\n",
       "      <td>CHN</td>\n",
       "      <td>2012 Summer</td>\n",
       "      <td>2012</td>\n",
       "      <td>Summer</td>\n",
       "      <td>######</td>\n",
       "      <td>Archery</td>\n",
       "      <td>Archery Women's Team</td>\n",
       "      <td>Silver</td>\n",
       "    </tr>\n",
       "    <tr>\n",
       "      <th>133368</th>\n",
       "      <td>Yu Song</td>\n",
       "      <td>FEMALE</td>\n",
       "      <td>29.0</td>\n",
       "      <td>182.0</td>\n",
       "      <td>128.0</td>\n",
       "      <td>China</td>\n",
       "      <td>CHN</td>\n",
       "      <td>2016 Summer</td>\n",
       "      <td>2016</td>\n",
       "      <td>Summer</td>\n",
       "      <td>######</td>\n",
       "      <td>Judo</td>\n",
       "      <td>Judo Women's Heavyweight</td>\n",
       "      <td>Bronze</td>\n",
       "    </tr>\n",
       "    <tr>\n",
       "      <th>135381</th>\n",
       "      <td>Angela Zuckerman (-Davre)</td>\n",
       "      <td>FEMALE</td>\n",
       "      <td>26.0</td>\n",
       "      <td>175.0</td>\n",
       "      <td>65.0</td>\n",
       "      <td>United States</td>\n",
       "      <td>USA</td>\n",
       "      <td>1992 Winter</td>\n",
       "      <td>1992</td>\n",
       "      <td>Winter</td>\n",
       "      <td>######</td>\n",
       "      <td>Speed Skating</td>\n",
       "      <td>Speed Skating Women's 3,000 metres</td>\n",
       "      <td>Gold</td>\n",
       "    </tr>\n",
       "  </tbody>\n",
       "</table>\n",
       "<p>134 rows × 14 columns</p>\n",
       "</div>"
      ],
      "text/plain": [
       "                                          Name     Sex   Age  Height  Weight  \\\n",
       "Athlete_ID                                                                     \n",
       "5815                     Gillian \"Jill\" Atkins  FEMALE  29.0   165.0    65.0   \n",
       "7903              Jane Louise Barkman (-Brown)  FEMALE  17.0   169.0    61.0   \n",
       "10360       Liubov Ivanivna Berezhna-Odynokova  FEMALE  20.0   167.0    61.0   \n",
       "10955                   Annemieke Marileen Bes  FEMALE  30.0   177.0    70.0   \n",
       "11671                Suzanne Brigit \"Sue\" Bird  FEMALE  35.0   175.0    66.0   \n",
       "...                                        ...     ...   ...     ...     ...   \n",
       "131311                     Jenny Wolf (-Lotze)  FEMALE  31.0   172.0    75.0   \n",
       "131657              Katarzyna Bronisawa Woniak  FEMALE  20.0   173.0    61.0   \n",
       "132068                                 Xu Jing  FEMALE  21.0   169.0    70.0   \n",
       "133368                                 Yu Song  FEMALE  29.0   182.0   128.0   \n",
       "135381               Angela Zuckerman (-Davre)  FEMALE  26.0   175.0    65.0   \n",
       "\n",
       "                     Team  NOC        Games  Year  Season    City  \\\n",
       "Athlete_ID                                                          \n",
       "5815        Great Britain  GBR  1992 Summer  1992  Summer  ######   \n",
       "7903        United States  USA  1968 Summer  1968  Summer  ######   \n",
       "10360        Soviet Union  URS  1976 Summer  1976  Summer  ######   \n",
       "10955         Netherlands  NED  2008 Summer  2008  Summer  ######   \n",
       "11671       United States  USA  2016 Summer  2016  Summer  ######   \n",
       "...                   ...  ...          ...   ...     ...     ...   \n",
       "131311            Germany  GER  2010 Winter  2010  Winter  ######   \n",
       "131657             Poland  POL  2010 Winter  2010  Winter  ######   \n",
       "132068              China  CHN  2012 Summer  2012  Summer  ######   \n",
       "133368              China  CHN  2016 Summer  2016  Summer  ######   \n",
       "135381      United States  USA  1992 Winter  1992  Winter  ######   \n",
       "\n",
       "                    Sport                                            Event  \\\n",
       "Athlete_ID                                                                   \n",
       "5815               Hockey                            Hockey Women's Hockey   \n",
       "7903             Swimming  Swimming Women's 4 x 100 metres Freestyle Relay   \n",
       "10360            Handball                        Handball Women's Handball   \n",
       "10955             Sailing            Sailing Women's Three Person Keelboat   \n",
       "11671          Basketball                    Basketball Women's Basketball   \n",
       "...                   ...                                              ...   \n",
       "131311      Speed Skating                 Speed Skating Women's 500 metres   \n",
       "131657      Speed Skating      Speed Skating Women's Team Pursuit (6 laps)   \n",
       "132068            Archery                             Archery Women's Team   \n",
       "133368               Judo                         Judo Women's Heavyweight   \n",
       "135381      Speed Skating               Speed Skating Women's 3,000 metres   \n",
       "\n",
       "             Medal  \n",
       "Athlete_ID          \n",
       "5815        Bronze  \n",
       "7903          Gold  \n",
       "10360         Gold  \n",
       "10955       Silver  \n",
       "11671         Gold  \n",
       "...            ...  \n",
       "131311      Silver  \n",
       "131657      Bronze  \n",
       "132068      Silver  \n",
       "133368      Bronze  \n",
       "135381        Gold  \n",
       "\n",
       "[134 rows x 14 columns]"
      ]
     },
     "metadata": {},
     "execution_count": 48
    }
   ],
   "metadata": {}
  },
  {
   "cell_type": "markdown",
   "source": [
    "Dentre os valores de City, temos \"#####\", que é estranho ao conteúdo do nosso dataset. \r\n",
    "\r\n",
    "A partir da tabela acima, podemos ver que não é possível estabelecer nenhuma relação entre os valores desconhecidos e as demais colunas. Ou seja, não é possível inferir o nome de cada cidade, ainda que saibamos as demais informações de cada atleta.\r\n",
    "\r\n",
    "Como, nesse caso, o valor desconhecido representa menos de 0.3% da quantidade total dos dados, podemos afirmar que seu descarte não afetará negativamente uma futura análise.\r\n",
    "\r\n",
    "Então, vamos **dropar** esses valores!"
   ],
   "metadata": {}
  },
  {
   "cell_type": "code",
   "execution_count": 49,
   "source": [
    "#Dropando os valores inválidos\r\n",
    "\r\n",
    "df.drop(df.loc[df[\"City\"] == \"######\"].index, inplace = True)"
   ],
   "outputs": [],
   "metadata": {}
  },
  {
   "cell_type": "code",
   "execution_count": 50,
   "source": [
    "#Checa o sucesso da operação anterior\r\n",
    "\r\n",
    "df[df[\"City\"] == \"######\"]"
   ],
   "outputs": [
    {
     "output_type": "execute_result",
     "data": {
      "text/html": [
       "<div>\n",
       "<style scoped>\n",
       "    .dataframe tbody tr th:only-of-type {\n",
       "        vertical-align: middle;\n",
       "    }\n",
       "\n",
       "    .dataframe tbody tr th {\n",
       "        vertical-align: top;\n",
       "    }\n",
       "\n",
       "    .dataframe thead th {\n",
       "        text-align: right;\n",
       "    }\n",
       "</style>\n",
       "<table border=\"1\" class=\"dataframe\">\n",
       "  <thead>\n",
       "    <tr style=\"text-align: right;\">\n",
       "      <th></th>\n",
       "      <th>Name</th>\n",
       "      <th>Sex</th>\n",
       "      <th>Age</th>\n",
       "      <th>Height</th>\n",
       "      <th>Weight</th>\n",
       "      <th>Team</th>\n",
       "      <th>NOC</th>\n",
       "      <th>Games</th>\n",
       "      <th>Year</th>\n",
       "      <th>Season</th>\n",
       "      <th>City</th>\n",
       "      <th>Sport</th>\n",
       "      <th>Event</th>\n",
       "      <th>Medal</th>\n",
       "    </tr>\n",
       "    <tr>\n",
       "      <th>Athlete_ID</th>\n",
       "      <th></th>\n",
       "      <th></th>\n",
       "      <th></th>\n",
       "      <th></th>\n",
       "      <th></th>\n",
       "      <th></th>\n",
       "      <th></th>\n",
       "      <th></th>\n",
       "      <th></th>\n",
       "      <th></th>\n",
       "      <th></th>\n",
       "      <th></th>\n",
       "      <th></th>\n",
       "      <th></th>\n",
       "    </tr>\n",
       "  </thead>\n",
       "  <tbody>\n",
       "  </tbody>\n",
       "</table>\n",
       "</div>"
      ],
      "text/plain": [
       "Empty DataFrame\n",
       "Columns: [Name, Sex, Age, Height, Weight, Team, NOC, Games, Year, Season, City, Sport, Event, Medal]\n",
       "Index: []"
      ]
     },
     "metadata": {},
     "execution_count": 50
    }
   ],
   "metadata": {}
  },
  {
   "cell_type": "markdown",
   "source": [
    "## **7) ESTAÇÃO DO ANO (SEASON)**"
   ],
   "metadata": {}
  },
  {
   "cell_type": "code",
   "execution_count": 51,
   "source": [
    "#Verifica os valores únicos de Season\r\n",
    "df[\"Season\"].unique()"
   ],
   "outputs": [
    {
     "output_type": "execute_result",
     "data": {
      "text/plain": [
       "array(['Summer', 'Winter', '#ForaBolsonaro', 'Ele nunca', 'Ele não'],\n",
       "      dtype=object)"
      ]
     },
     "metadata": {},
     "execution_count": 51
    }
   ],
   "metadata": {}
  },
  {
   "cell_type": "code",
   "execution_count": 52,
   "source": [
    "#Troca Ele nunca pela respectiva Season\r\n",
    "df.loc[(df[\"Games\"].str.contains(\"Summer\")) & (df[\"Season\"] == \"Ele nunca\"), \"Season\"] = \"Summer\"\r\n",
    "df.loc[(df[\"Games\"].str.contains(\"Winter\")) & (df[\"Season\"] == \"Ele nunca\"), \"Season\"] = \"Winter\""
   ],
   "outputs": [],
   "metadata": {}
  },
  {
   "cell_type": "code",
   "execution_count": 53,
   "source": [
    "#Troca Ele não pela respectiva Season\r\n",
    "df.loc[(df[\"Games\"].str.contains(\"Summer\")) & (df[\"Season\"] == \"Ele não\"), \"Season\"] = \"Summer\"\r\n",
    "df.loc[(df[\"Games\"].str.contains(\"Winter\")) & (df[\"Season\"] == \"Ele não\"), \"Season\"] = \"Winter\""
   ],
   "outputs": [],
   "metadata": {}
  },
  {
   "cell_type": "code",
   "execution_count": 54,
   "source": [
    "df[df[\"Season\"] == \"#ForaBolsonaro\"]"
   ],
   "outputs": [
    {
     "output_type": "execute_result",
     "data": {
      "text/html": [
       "<div>\n",
       "<style scoped>\n",
       "    .dataframe tbody tr th:only-of-type {\n",
       "        vertical-align: middle;\n",
       "    }\n",
       "\n",
       "    .dataframe tbody tr th {\n",
       "        vertical-align: top;\n",
       "    }\n",
       "\n",
       "    .dataframe thead th {\n",
       "        text-align: right;\n",
       "    }\n",
       "</style>\n",
       "<table border=\"1\" class=\"dataframe\">\n",
       "  <thead>\n",
       "    <tr style=\"text-align: right;\">\n",
       "      <th></th>\n",
       "      <th>Name</th>\n",
       "      <th>Sex</th>\n",
       "      <th>Age</th>\n",
       "      <th>Height</th>\n",
       "      <th>Weight</th>\n",
       "      <th>Team</th>\n",
       "      <th>NOC</th>\n",
       "      <th>Games</th>\n",
       "      <th>Year</th>\n",
       "      <th>Season</th>\n",
       "      <th>City</th>\n",
       "      <th>Sport</th>\n",
       "      <th>Event</th>\n",
       "      <th>Medal</th>\n",
       "    </tr>\n",
       "    <tr>\n",
       "      <th>Athlete_ID</th>\n",
       "      <th></th>\n",
       "      <th></th>\n",
       "      <th></th>\n",
       "      <th></th>\n",
       "      <th></th>\n",
       "      <th></th>\n",
       "      <th></th>\n",
       "      <th></th>\n",
       "      <th></th>\n",
       "      <th></th>\n",
       "      <th></th>\n",
       "      <th></th>\n",
       "      <th></th>\n",
       "      <th></th>\n",
       "    </tr>\n",
       "  </thead>\n",
       "  <tbody>\n",
       "    <tr>\n",
       "      <th>4359</th>\n",
       "      <td>va Angyal</td>\n",
       "      <td>FEMALE</td>\n",
       "      <td>21.0</td>\n",
       "      <td>163.0</td>\n",
       "      <td>63.0</td>\n",
       "      <td>#ForaBolsonaro</td>\n",
       "      <td>HUN</td>\n",
       "      <td>1976 Summer</td>\n",
       "      <td>1976</td>\n",
       "      <td>#ForaBolsonaro</td>\n",
       "      <td>Montreal</td>\n",
       "      <td>Handball</td>\n",
       "      <td>Handball Women's Handball</td>\n",
       "      <td>Bronze</td>\n",
       "    </tr>\n",
       "    <tr>\n",
       "      <th>6299</th>\n",
       "      <td>Yelena Yuryevna Azarova</td>\n",
       "      <td>FEMALE</td>\n",
       "      <td>31.0</td>\n",
       "      <td>165.0</td>\n",
       "      <td>64.0</td>\n",
       "      <td>#ForaBolsonaro</td>\n",
       "      <td>RUS</td>\n",
       "      <td>2004 Summer</td>\n",
       "      <td>2004</td>\n",
       "      <td>#ForaBolsonaro</td>\n",
       "      <td>Athina</td>\n",
       "      <td>Synchronized Swimming</td>\n",
       "      <td>Synchronized Swimming Women's Team</td>\n",
       "      <td>Gold</td>\n",
       "    </tr>\n",
       "    <tr>\n",
       "      <th>9250</th>\n",
       "      <td>Gudrun Beckmann</td>\n",
       "      <td>FEMALE</td>\n",
       "      <td>17.0</td>\n",
       "      <td>174.0</td>\n",
       "      <td>62.0</td>\n",
       "      <td>#ForaBolsonaro</td>\n",
       "      <td>FRG</td>\n",
       "      <td>1972 Summer</td>\n",
       "      <td>1972</td>\n",
       "      <td>#ForaBolsonaro</td>\n",
       "      <td>Munich</td>\n",
       "      <td>Swimming</td>\n",
       "      <td>Swimming Women's 4 x 100 metres Freestyle Relay</td>\n",
       "      <td>Bronze</td>\n",
       "    </tr>\n",
       "    <tr>\n",
       "      <th>11047</th>\n",
       "      <td>Janice \"Jan\" Betker</td>\n",
       "      <td>FEMALE</td>\n",
       "      <td>37.0</td>\n",
       "      <td>167.0</td>\n",
       "      <td>64.0</td>\n",
       "      <td>#ForaBolsonaro</td>\n",
       "      <td>CAN</td>\n",
       "      <td>1998 Winter</td>\n",
       "      <td>1998</td>\n",
       "      <td>#ForaBolsonaro</td>\n",
       "      <td>Nagano</td>\n",
       "      <td>Curling</td>\n",
       "      <td>Curling Women's Curling</td>\n",
       "      <td>Gold</td>\n",
       "    </tr>\n",
       "    <tr>\n",
       "      <th>12054</th>\n",
       "      <td>Bonnie Kathleen Blair (-Cruikshank)</td>\n",
       "      <td>FEMALE</td>\n",
       "      <td>29.0</td>\n",
       "      <td>165.0</td>\n",
       "      <td>59.0</td>\n",
       "      <td>#ForaBolsonaro</td>\n",
       "      <td>USA</td>\n",
       "      <td>1994 Winter</td>\n",
       "      <td>1994</td>\n",
       "      <td>#ForaBolsonaro</td>\n",
       "      <td>Lillehammer</td>\n",
       "      <td>Speed Skating</td>\n",
       "      <td>Speed Skating Women's 500 metres</td>\n",
       "      <td>Gold</td>\n",
       "    </tr>\n",
       "    <tr>\n",
       "      <th>...</th>\n",
       "      <td>...</td>\n",
       "      <td>...</td>\n",
       "      <td>...</td>\n",
       "      <td>...</td>\n",
       "      <td>...</td>\n",
       "      <td>...</td>\n",
       "      <td>...</td>\n",
       "      <td>...</td>\n",
       "      <td>...</td>\n",
       "      <td>...</td>\n",
       "      <td>...</td>\n",
       "      <td>...</td>\n",
       "      <td>...</td>\n",
       "      <td>...</td>\n",
       "    </tr>\n",
       "    <tr>\n",
       "      <th>130096</th>\n",
       "      <td>Pauline \"Polly\" Whittier (-Iselin)</td>\n",
       "      <td>FEMALE</td>\n",
       "      <td>23.0</td>\n",
       "      <td>178.0</td>\n",
       "      <td>72.0</td>\n",
       "      <td>#ForaBolsonaro</td>\n",
       "      <td>USA</td>\n",
       "      <td>1900 Summer</td>\n",
       "      <td>1900</td>\n",
       "      <td>#ForaBolsonaro</td>\n",
       "      <td>Paris</td>\n",
       "      <td>Golf</td>\n",
       "      <td>Golf Women's Individual</td>\n",
       "      <td>Silver</td>\n",
       "    </tr>\n",
       "    <tr>\n",
       "      <th>130759</th>\n",
       "      <td>Helen Newington Wills (-Moody, -Roark)</td>\n",
       "      <td>FEMALE</td>\n",
       "      <td>18.0</td>\n",
       "      <td>178.0</td>\n",
       "      <td>72.0</td>\n",
       "      <td>#ForaBolsonaro</td>\n",
       "      <td>USA</td>\n",
       "      <td>1924 Summer</td>\n",
       "      <td>1924</td>\n",
       "      <td>#ForaBolsonaro</td>\n",
       "      <td>Paris</td>\n",
       "      <td>Tennis</td>\n",
       "      <td>Tennis Women's Singles</td>\n",
       "      <td>Gold</td>\n",
       "    </tr>\n",
       "    <tr>\n",
       "      <th>131184</th>\n",
       "      <td>Jeanette Josephina Maria \"Nettie\" Witziers-Timmer</td>\n",
       "      <td>FEMALE</td>\n",
       "      <td>25.0</td>\n",
       "      <td>178.0</td>\n",
       "      <td>72.0</td>\n",
       "      <td>#ForaBolsonaro</td>\n",
       "      <td>NED</td>\n",
       "      <td>1948 Summer</td>\n",
       "      <td>1948</td>\n",
       "      <td>#ForaBolsonaro</td>\n",
       "      <td>London</td>\n",
       "      <td>Athletics</td>\n",
       "      <td>Athletics Women's 4 x 100 metres Relay</td>\n",
       "      <td>Gold</td>\n",
       "    </tr>\n",
       "    <tr>\n",
       "      <th>132574</th>\n",
       "      <td>Yang Yun</td>\n",
       "      <td>FEMALE</td>\n",
       "      <td>15.0</td>\n",
       "      <td>158.0</td>\n",
       "      <td>40.0</td>\n",
       "      <td>#ForaBolsonaro</td>\n",
       "      <td>CHN</td>\n",
       "      <td>2000 Summer</td>\n",
       "      <td>2000</td>\n",
       "      <td>#ForaBolsonaro</td>\n",
       "      <td>Sydney</td>\n",
       "      <td>Gymnastics</td>\n",
       "      <td>Gymnastics Women's Uneven Bars</td>\n",
       "      <td>Bronze</td>\n",
       "    </tr>\n",
       "    <tr>\n",
       "      <th>134488</th>\n",
       "      <td>Zhang Juanjuan</td>\n",
       "      <td>FEMALE</td>\n",
       "      <td>27.0</td>\n",
       "      <td>169.0</td>\n",
       "      <td>63.0</td>\n",
       "      <td>#ForaBolsonaro</td>\n",
       "      <td>CHN</td>\n",
       "      <td>2008 Summer</td>\n",
       "      <td>2008</td>\n",
       "      <td>#ForaBolsonaro</td>\n",
       "      <td>Beijing</td>\n",
       "      <td>Archery</td>\n",
       "      <td>Archery Women's Team</td>\n",
       "      <td>Silver</td>\n",
       "    </tr>\n",
       "  </tbody>\n",
       "</table>\n",
       "<p>69 rows × 14 columns</p>\n",
       "</div>"
      ],
      "text/plain": [
       "                                                         Name     Sex   Age  \\\n",
       "Athlete_ID                                                                    \n",
       "4359                                                va Angyal  FEMALE  21.0   \n",
       "6299                                  Yelena Yuryevna Azarova  FEMALE  31.0   \n",
       "9250                                          Gudrun Beckmann  FEMALE  17.0   \n",
       "11047                                     Janice \"Jan\" Betker  FEMALE  37.0   \n",
       "12054                     Bonnie Kathleen Blair (-Cruikshank)  FEMALE  29.0   \n",
       "...                                                       ...     ...   ...   \n",
       "130096                     Pauline \"Polly\" Whittier (-Iselin)  FEMALE  23.0   \n",
       "130759                 Helen Newington Wills (-Moody, -Roark)  FEMALE  18.0   \n",
       "131184      Jeanette Josephina Maria \"Nettie\" Witziers-Timmer  FEMALE  25.0   \n",
       "132574                                               Yang Yun  FEMALE  15.0   \n",
       "134488                                         Zhang Juanjuan  FEMALE  27.0   \n",
       "\n",
       "            Height  Weight            Team  NOC        Games  Year  \\\n",
       "Athlete_ID                                                           \n",
       "4359         163.0    63.0  #ForaBolsonaro  HUN  1976 Summer  1976   \n",
       "6299         165.0    64.0  #ForaBolsonaro  RUS  2004 Summer  2004   \n",
       "9250         174.0    62.0  #ForaBolsonaro  FRG  1972 Summer  1972   \n",
       "11047        167.0    64.0  #ForaBolsonaro  CAN  1998 Winter  1998   \n",
       "12054        165.0    59.0  #ForaBolsonaro  USA  1994 Winter  1994   \n",
       "...            ...     ...             ...  ...          ...   ...   \n",
       "130096       178.0    72.0  #ForaBolsonaro  USA  1900 Summer  1900   \n",
       "130759       178.0    72.0  #ForaBolsonaro  USA  1924 Summer  1924   \n",
       "131184       178.0    72.0  #ForaBolsonaro  NED  1948 Summer  1948   \n",
       "132574       158.0    40.0  #ForaBolsonaro  CHN  2000 Summer  2000   \n",
       "134488       169.0    63.0  #ForaBolsonaro  CHN  2008 Summer  2008   \n",
       "\n",
       "                    Season         City                  Sport  \\\n",
       "Athlete_ID                                                       \n",
       "4359        #ForaBolsonaro     Montreal               Handball   \n",
       "6299        #ForaBolsonaro       Athina  Synchronized Swimming   \n",
       "9250        #ForaBolsonaro       Munich               Swimming   \n",
       "11047       #ForaBolsonaro       Nagano                Curling   \n",
       "12054       #ForaBolsonaro  Lillehammer          Speed Skating   \n",
       "...                    ...          ...                    ...   \n",
       "130096      #ForaBolsonaro        Paris                   Golf   \n",
       "130759      #ForaBolsonaro        Paris                 Tennis   \n",
       "131184      #ForaBolsonaro       London              Athletics   \n",
       "132574      #ForaBolsonaro       Sydney             Gymnastics   \n",
       "134488      #ForaBolsonaro      Beijing                Archery   \n",
       "\n",
       "                                                      Event   Medal  \n",
       "Athlete_ID                                                           \n",
       "4359                              Handball Women's Handball  Bronze  \n",
       "6299                     Synchronized Swimming Women's Team    Gold  \n",
       "9250        Swimming Women's 4 x 100 metres Freestyle Relay  Bronze  \n",
       "11047                               Curling Women's Curling    Gold  \n",
       "12054                      Speed Skating Women's 500 metres    Gold  \n",
       "...                                                     ...     ...  \n",
       "130096                              Golf Women's Individual  Silver  \n",
       "130759                               Tennis Women's Singles    Gold  \n",
       "131184               Athletics Women's 4 x 100 metres Relay    Gold  \n",
       "132574                       Gymnastics Women's Uneven Bars  Bronze  \n",
       "134488                                 Archery Women's Team  Silver  \n",
       "\n",
       "[69 rows x 14 columns]"
      ]
     },
     "metadata": {},
     "execution_count": 54
    }
   ],
   "metadata": {}
  },
  {
   "cell_type": "code",
   "execution_count": 55,
   "source": [
    "df[df[\"Team\"] == \"#ForaBolsonaro\"]"
   ],
   "outputs": [
    {
     "output_type": "execute_result",
     "data": {
      "text/html": [
       "<div>\n",
       "<style scoped>\n",
       "    .dataframe tbody tr th:only-of-type {\n",
       "        vertical-align: middle;\n",
       "    }\n",
       "\n",
       "    .dataframe tbody tr th {\n",
       "        vertical-align: top;\n",
       "    }\n",
       "\n",
       "    .dataframe thead th {\n",
       "        text-align: right;\n",
       "    }\n",
       "</style>\n",
       "<table border=\"1\" class=\"dataframe\">\n",
       "  <thead>\n",
       "    <tr style=\"text-align: right;\">\n",
       "      <th></th>\n",
       "      <th>Name</th>\n",
       "      <th>Sex</th>\n",
       "      <th>Age</th>\n",
       "      <th>Height</th>\n",
       "      <th>Weight</th>\n",
       "      <th>Team</th>\n",
       "      <th>NOC</th>\n",
       "      <th>Games</th>\n",
       "      <th>Year</th>\n",
       "      <th>Season</th>\n",
       "      <th>City</th>\n",
       "      <th>Sport</th>\n",
       "      <th>Event</th>\n",
       "      <th>Medal</th>\n",
       "    </tr>\n",
       "    <tr>\n",
       "      <th>Athlete_ID</th>\n",
       "      <th></th>\n",
       "      <th></th>\n",
       "      <th></th>\n",
       "      <th></th>\n",
       "      <th></th>\n",
       "      <th></th>\n",
       "      <th></th>\n",
       "      <th></th>\n",
       "      <th></th>\n",
       "      <th></th>\n",
       "      <th></th>\n",
       "      <th></th>\n",
       "      <th></th>\n",
       "      <th></th>\n",
       "    </tr>\n",
       "  </thead>\n",
       "  <tbody>\n",
       "    <tr>\n",
       "      <th>4359</th>\n",
       "      <td>va Angyal</td>\n",
       "      <td>FEMALE</td>\n",
       "      <td>21.0</td>\n",
       "      <td>163.0</td>\n",
       "      <td>63.0</td>\n",
       "      <td>#ForaBolsonaro</td>\n",
       "      <td>HUN</td>\n",
       "      <td>1976 Summer</td>\n",
       "      <td>1976</td>\n",
       "      <td>#ForaBolsonaro</td>\n",
       "      <td>Montreal</td>\n",
       "      <td>Handball</td>\n",
       "      <td>Handball Women's Handball</td>\n",
       "      <td>Bronze</td>\n",
       "    </tr>\n",
       "    <tr>\n",
       "      <th>6299</th>\n",
       "      <td>Yelena Yuryevna Azarova</td>\n",
       "      <td>FEMALE</td>\n",
       "      <td>31.0</td>\n",
       "      <td>165.0</td>\n",
       "      <td>64.0</td>\n",
       "      <td>#ForaBolsonaro</td>\n",
       "      <td>RUS</td>\n",
       "      <td>2004 Summer</td>\n",
       "      <td>2004</td>\n",
       "      <td>#ForaBolsonaro</td>\n",
       "      <td>Athina</td>\n",
       "      <td>Synchronized Swimming</td>\n",
       "      <td>Synchronized Swimming Women's Team</td>\n",
       "      <td>Gold</td>\n",
       "    </tr>\n",
       "    <tr>\n",
       "      <th>9250</th>\n",
       "      <td>Gudrun Beckmann</td>\n",
       "      <td>FEMALE</td>\n",
       "      <td>17.0</td>\n",
       "      <td>174.0</td>\n",
       "      <td>62.0</td>\n",
       "      <td>#ForaBolsonaro</td>\n",
       "      <td>FRG</td>\n",
       "      <td>1972 Summer</td>\n",
       "      <td>1972</td>\n",
       "      <td>#ForaBolsonaro</td>\n",
       "      <td>Munich</td>\n",
       "      <td>Swimming</td>\n",
       "      <td>Swimming Women's 4 x 100 metres Freestyle Relay</td>\n",
       "      <td>Bronze</td>\n",
       "    </tr>\n",
       "    <tr>\n",
       "      <th>11047</th>\n",
       "      <td>Janice \"Jan\" Betker</td>\n",
       "      <td>FEMALE</td>\n",
       "      <td>37.0</td>\n",
       "      <td>167.0</td>\n",
       "      <td>64.0</td>\n",
       "      <td>#ForaBolsonaro</td>\n",
       "      <td>CAN</td>\n",
       "      <td>1998 Winter</td>\n",
       "      <td>1998</td>\n",
       "      <td>#ForaBolsonaro</td>\n",
       "      <td>Nagano</td>\n",
       "      <td>Curling</td>\n",
       "      <td>Curling Women's Curling</td>\n",
       "      <td>Gold</td>\n",
       "    </tr>\n",
       "    <tr>\n",
       "      <th>12054</th>\n",
       "      <td>Bonnie Kathleen Blair (-Cruikshank)</td>\n",
       "      <td>FEMALE</td>\n",
       "      <td>29.0</td>\n",
       "      <td>165.0</td>\n",
       "      <td>59.0</td>\n",
       "      <td>#ForaBolsonaro</td>\n",
       "      <td>USA</td>\n",
       "      <td>1994 Winter</td>\n",
       "      <td>1994</td>\n",
       "      <td>#ForaBolsonaro</td>\n",
       "      <td>Lillehammer</td>\n",
       "      <td>Speed Skating</td>\n",
       "      <td>Speed Skating Women's 500 metres</td>\n",
       "      <td>Gold</td>\n",
       "    </tr>\n",
       "    <tr>\n",
       "      <th>...</th>\n",
       "      <td>...</td>\n",
       "      <td>...</td>\n",
       "      <td>...</td>\n",
       "      <td>...</td>\n",
       "      <td>...</td>\n",
       "      <td>...</td>\n",
       "      <td>...</td>\n",
       "      <td>...</td>\n",
       "      <td>...</td>\n",
       "      <td>...</td>\n",
       "      <td>...</td>\n",
       "      <td>...</td>\n",
       "      <td>...</td>\n",
       "      <td>...</td>\n",
       "    </tr>\n",
       "    <tr>\n",
       "      <th>130096</th>\n",
       "      <td>Pauline \"Polly\" Whittier (-Iselin)</td>\n",
       "      <td>FEMALE</td>\n",
       "      <td>23.0</td>\n",
       "      <td>178.0</td>\n",
       "      <td>72.0</td>\n",
       "      <td>#ForaBolsonaro</td>\n",
       "      <td>USA</td>\n",
       "      <td>1900 Summer</td>\n",
       "      <td>1900</td>\n",
       "      <td>#ForaBolsonaro</td>\n",
       "      <td>Paris</td>\n",
       "      <td>Golf</td>\n",
       "      <td>Golf Women's Individual</td>\n",
       "      <td>Silver</td>\n",
       "    </tr>\n",
       "    <tr>\n",
       "      <th>130759</th>\n",
       "      <td>Helen Newington Wills (-Moody, -Roark)</td>\n",
       "      <td>FEMALE</td>\n",
       "      <td>18.0</td>\n",
       "      <td>178.0</td>\n",
       "      <td>72.0</td>\n",
       "      <td>#ForaBolsonaro</td>\n",
       "      <td>USA</td>\n",
       "      <td>1924 Summer</td>\n",
       "      <td>1924</td>\n",
       "      <td>#ForaBolsonaro</td>\n",
       "      <td>Paris</td>\n",
       "      <td>Tennis</td>\n",
       "      <td>Tennis Women's Singles</td>\n",
       "      <td>Gold</td>\n",
       "    </tr>\n",
       "    <tr>\n",
       "      <th>131184</th>\n",
       "      <td>Jeanette Josephina Maria \"Nettie\" Witziers-Timmer</td>\n",
       "      <td>FEMALE</td>\n",
       "      <td>25.0</td>\n",
       "      <td>178.0</td>\n",
       "      <td>72.0</td>\n",
       "      <td>#ForaBolsonaro</td>\n",
       "      <td>NED</td>\n",
       "      <td>1948 Summer</td>\n",
       "      <td>1948</td>\n",
       "      <td>#ForaBolsonaro</td>\n",
       "      <td>London</td>\n",
       "      <td>Athletics</td>\n",
       "      <td>Athletics Women's 4 x 100 metres Relay</td>\n",
       "      <td>Gold</td>\n",
       "    </tr>\n",
       "    <tr>\n",
       "      <th>132574</th>\n",
       "      <td>Yang Yun</td>\n",
       "      <td>FEMALE</td>\n",
       "      <td>15.0</td>\n",
       "      <td>158.0</td>\n",
       "      <td>40.0</td>\n",
       "      <td>#ForaBolsonaro</td>\n",
       "      <td>CHN</td>\n",
       "      <td>2000 Summer</td>\n",
       "      <td>2000</td>\n",
       "      <td>#ForaBolsonaro</td>\n",
       "      <td>Sydney</td>\n",
       "      <td>Gymnastics</td>\n",
       "      <td>Gymnastics Women's Uneven Bars</td>\n",
       "      <td>Bronze</td>\n",
       "    </tr>\n",
       "    <tr>\n",
       "      <th>134488</th>\n",
       "      <td>Zhang Juanjuan</td>\n",
       "      <td>FEMALE</td>\n",
       "      <td>27.0</td>\n",
       "      <td>169.0</td>\n",
       "      <td>63.0</td>\n",
       "      <td>#ForaBolsonaro</td>\n",
       "      <td>CHN</td>\n",
       "      <td>2008 Summer</td>\n",
       "      <td>2008</td>\n",
       "      <td>#ForaBolsonaro</td>\n",
       "      <td>Beijing</td>\n",
       "      <td>Archery</td>\n",
       "      <td>Archery Women's Team</td>\n",
       "      <td>Silver</td>\n",
       "    </tr>\n",
       "  </tbody>\n",
       "</table>\n",
       "<p>69 rows × 14 columns</p>\n",
       "</div>"
      ],
      "text/plain": [
       "                                                         Name     Sex   Age  \\\n",
       "Athlete_ID                                                                    \n",
       "4359                                                va Angyal  FEMALE  21.0   \n",
       "6299                                  Yelena Yuryevna Azarova  FEMALE  31.0   \n",
       "9250                                          Gudrun Beckmann  FEMALE  17.0   \n",
       "11047                                     Janice \"Jan\" Betker  FEMALE  37.0   \n",
       "12054                     Bonnie Kathleen Blair (-Cruikshank)  FEMALE  29.0   \n",
       "...                                                       ...     ...   ...   \n",
       "130096                     Pauline \"Polly\" Whittier (-Iselin)  FEMALE  23.0   \n",
       "130759                 Helen Newington Wills (-Moody, -Roark)  FEMALE  18.0   \n",
       "131184      Jeanette Josephina Maria \"Nettie\" Witziers-Timmer  FEMALE  25.0   \n",
       "132574                                               Yang Yun  FEMALE  15.0   \n",
       "134488                                         Zhang Juanjuan  FEMALE  27.0   \n",
       "\n",
       "            Height  Weight            Team  NOC        Games  Year  \\\n",
       "Athlete_ID                                                           \n",
       "4359         163.0    63.0  #ForaBolsonaro  HUN  1976 Summer  1976   \n",
       "6299         165.0    64.0  #ForaBolsonaro  RUS  2004 Summer  2004   \n",
       "9250         174.0    62.0  #ForaBolsonaro  FRG  1972 Summer  1972   \n",
       "11047        167.0    64.0  #ForaBolsonaro  CAN  1998 Winter  1998   \n",
       "12054        165.0    59.0  #ForaBolsonaro  USA  1994 Winter  1994   \n",
       "...            ...     ...             ...  ...          ...   ...   \n",
       "130096       178.0    72.0  #ForaBolsonaro  USA  1900 Summer  1900   \n",
       "130759       178.0    72.0  #ForaBolsonaro  USA  1924 Summer  1924   \n",
       "131184       178.0    72.0  #ForaBolsonaro  NED  1948 Summer  1948   \n",
       "132574       158.0    40.0  #ForaBolsonaro  CHN  2000 Summer  2000   \n",
       "134488       169.0    63.0  #ForaBolsonaro  CHN  2008 Summer  2008   \n",
       "\n",
       "                    Season         City                  Sport  \\\n",
       "Athlete_ID                                                       \n",
       "4359        #ForaBolsonaro     Montreal               Handball   \n",
       "6299        #ForaBolsonaro       Athina  Synchronized Swimming   \n",
       "9250        #ForaBolsonaro       Munich               Swimming   \n",
       "11047       #ForaBolsonaro       Nagano                Curling   \n",
       "12054       #ForaBolsonaro  Lillehammer          Speed Skating   \n",
       "...                    ...          ...                    ...   \n",
       "130096      #ForaBolsonaro        Paris                   Golf   \n",
       "130759      #ForaBolsonaro        Paris                 Tennis   \n",
       "131184      #ForaBolsonaro       London              Athletics   \n",
       "132574      #ForaBolsonaro       Sydney             Gymnastics   \n",
       "134488      #ForaBolsonaro      Beijing                Archery   \n",
       "\n",
       "                                                      Event   Medal  \n",
       "Athlete_ID                                                           \n",
       "4359                              Handball Women's Handball  Bronze  \n",
       "6299                     Synchronized Swimming Women's Team    Gold  \n",
       "9250        Swimming Women's 4 x 100 metres Freestyle Relay  Bronze  \n",
       "11047                               Curling Women's Curling    Gold  \n",
       "12054                      Speed Skating Women's 500 metres    Gold  \n",
       "...                                                     ...     ...  \n",
       "130096                              Golf Women's Individual  Silver  \n",
       "130759                               Tennis Women's Singles    Gold  \n",
       "131184               Athletics Women's 4 x 100 metres Relay    Gold  \n",
       "132574                       Gymnastics Women's Uneven Bars  Bronze  \n",
       "134488                                 Archery Women's Team  Silver  \n",
       "\n",
       "[69 rows x 14 columns]"
      ]
     },
     "metadata": {},
     "execution_count": 55
    }
   ],
   "metadata": {}
  },
  {
   "cell_type": "markdown",
   "source": [
    "Percebemos que todas as colunas Season com #ForaBolsonaro estão relacionadas a colunas Team com o mesmo valor.\r\n",
    "\r\n",
    "Ainda que possamos inferir os valores corretos para cada Season a partir de Games, não conseguimos inferir, por outro lado, o valor da coluna Team.\r\n",
    "\r\n",
    "Nesse caso, para que nosso dataset continue coerente e, da mesma forma, nossa análise também, uma alternativa é dropar os #ForaBolsonaro."
   ],
   "metadata": {}
  },
  {
   "cell_type": "code",
   "execution_count": 56,
   "source": [
    "#Dropando os #ForaBolsonaro\r\n",
    "\r\n",
    "df = df[df[\"Season\"] != \"#ForaBolsonaro\"]"
   ],
   "outputs": [],
   "metadata": {}
  },
  {
   "cell_type": "code",
   "execution_count": 57,
   "source": [
    "#Conferindo o sucesso da operação anterior\r\n",
    "\r\n",
    "df[\"Season\"].unique()"
   ],
   "outputs": [
    {
     "output_type": "execute_result",
     "data": {
      "text/plain": [
       "array(['Summer', 'Winter'], dtype=object)"
      ]
     },
     "metadata": {},
     "execution_count": 57
    }
   ],
   "metadata": {}
  },
  {
   "cell_type": "markdown",
   "source": [
    "## **8) O CASO DAS DUPLICATAS**"
   ],
   "metadata": {}
  },
  {
   "cell_type": "code",
   "execution_count": 58,
   "source": [
    "#Checa a existência de valores duplicados\r\n",
    "df[df.duplicated(keep=False)]"
   ],
   "outputs": [
    {
     "output_type": "execute_result",
     "data": {
      "text/html": [
       "<div>\n",
       "<style scoped>\n",
       "    .dataframe tbody tr th:only-of-type {\n",
       "        vertical-align: middle;\n",
       "    }\n",
       "\n",
       "    .dataframe tbody tr th {\n",
       "        vertical-align: top;\n",
       "    }\n",
       "\n",
       "    .dataframe thead th {\n",
       "        text-align: right;\n",
       "    }\n",
       "</style>\n",
       "<table border=\"1\" class=\"dataframe\">\n",
       "  <thead>\n",
       "    <tr style=\"text-align: right;\">\n",
       "      <th></th>\n",
       "      <th>Name</th>\n",
       "      <th>Sex</th>\n",
       "      <th>Age</th>\n",
       "      <th>Height</th>\n",
       "      <th>Weight</th>\n",
       "      <th>Team</th>\n",
       "      <th>NOC</th>\n",
       "      <th>Games</th>\n",
       "      <th>Year</th>\n",
       "      <th>Season</th>\n",
       "      <th>City</th>\n",
       "      <th>Sport</th>\n",
       "      <th>Event</th>\n",
       "      <th>Medal</th>\n",
       "    </tr>\n",
       "    <tr>\n",
       "      <th>Athlete_ID</th>\n",
       "      <th></th>\n",
       "      <th></th>\n",
       "      <th></th>\n",
       "      <th></th>\n",
       "      <th></th>\n",
       "      <th></th>\n",
       "      <th></th>\n",
       "      <th></th>\n",
       "      <th></th>\n",
       "      <th></th>\n",
       "      <th></th>\n",
       "      <th></th>\n",
       "      <th></th>\n",
       "      <th></th>\n",
       "    </tr>\n",
       "  </thead>\n",
       "  <tbody>\n",
       "    <tr>\n",
       "      <th>12115</th>\n",
       "      <td>Gaston Frdric Blanchy</td>\n",
       "      <td>MALE</td>\n",
       "      <td>31.0</td>\n",
       "      <td>178.0</td>\n",
       "      <td>72.0</td>\n",
       "      <td>Olle</td>\n",
       "      <td>FRA</td>\n",
       "      <td>1900 Summer</td>\n",
       "      <td>1900</td>\n",
       "      <td>Summer</td>\n",
       "      <td>Paris</td>\n",
       "      <td>Sailing</td>\n",
       "      <td>Sailing Mixed 2-3 Ton</td>\n",
       "      <td>Gold</td>\n",
       "    </tr>\n",
       "    <tr>\n",
       "      <th>12115</th>\n",
       "      <td>Gaston Frdric Blanchy</td>\n",
       "      <td>MALE</td>\n",
       "      <td>31.0</td>\n",
       "      <td>178.0</td>\n",
       "      <td>72.0</td>\n",
       "      <td>Olle</td>\n",
       "      <td>FRA</td>\n",
       "      <td>1900 Summer</td>\n",
       "      <td>1900</td>\n",
       "      <td>Summer</td>\n",
       "      <td>Paris</td>\n",
       "      <td>Sailing</td>\n",
       "      <td>Sailing Mixed 2-3 Ton</td>\n",
       "      <td>Gold</td>\n",
       "    </tr>\n",
       "    <tr>\n",
       "      <th>19094</th>\n",
       "      <td>Jean Baptiste Albert Joseph Cau</td>\n",
       "      <td>MALE</td>\n",
       "      <td>25.0</td>\n",
       "      <td>178.0</td>\n",
       "      <td>72.0</td>\n",
       "      <td>Cercle de l'Aviron Roubaix-4</td>\n",
       "      <td>FRA</td>\n",
       "      <td>1900 Summer</td>\n",
       "      <td>1900</td>\n",
       "      <td>Summer</td>\n",
       "      <td>Paris</td>\n",
       "      <td>Rowing</td>\n",
       "      <td>Rowing Men's Coxed Fours</td>\n",
       "      <td>Gold</td>\n",
       "    </tr>\n",
       "    <tr>\n",
       "      <th>19094</th>\n",
       "      <td>Jean Baptiste Albert Joseph Cau</td>\n",
       "      <td>MALE</td>\n",
       "      <td>25.0</td>\n",
       "      <td>178.0</td>\n",
       "      <td>72.0</td>\n",
       "      <td>Cercle de l'Aviron Roubaix-4</td>\n",
       "      <td>FRA</td>\n",
       "      <td>1900 Summer</td>\n",
       "      <td>1900</td>\n",
       "      <td>Summer</td>\n",
       "      <td>Paris</td>\n",
       "      <td>Rowing</td>\n",
       "      <td>Rowing Men's Coxed Fours</td>\n",
       "      <td>Gold</td>\n",
       "    </tr>\n",
       "    <tr>\n",
       "      <th>19874</th>\n",
       "      <td>Jean-Baptiste tienne August Charcot</td>\n",
       "      <td>MALE</td>\n",
       "      <td>23.0</td>\n",
       "      <td>178.0</td>\n",
       "      <td>72.0</td>\n",
       "      <td>Quand-Mme-2</td>\n",
       "      <td>FRA</td>\n",
       "      <td>1900 Summer</td>\n",
       "      <td>1900</td>\n",
       "      <td>Summer</td>\n",
       "      <td>Paris</td>\n",
       "      <td>Sailing</td>\n",
       "      <td>Sailing Mixed 0-0.5 Ton</td>\n",
       "      <td>Silver</td>\n",
       "    </tr>\n",
       "    <tr>\n",
       "      <th>19874</th>\n",
       "      <td>Jean-Baptiste tienne August Charcot</td>\n",
       "      <td>MALE</td>\n",
       "      <td>23.0</td>\n",
       "      <td>178.0</td>\n",
       "      <td>72.0</td>\n",
       "      <td>Quand-Mme-2</td>\n",
       "      <td>FRA</td>\n",
       "      <td>1900 Summer</td>\n",
       "      <td>1900</td>\n",
       "      <td>Summer</td>\n",
       "      <td>Paris</td>\n",
       "      <td>Sailing</td>\n",
       "      <td>Sailing Mixed 0-0.5 Ton</td>\n",
       "      <td>Silver</td>\n",
       "    </tr>\n",
       "    <tr>\n",
       "      <th>29661</th>\n",
       "      <td>Jacques Doucet</td>\n",
       "      <td>MALE</td>\n",
       "      <td>25.0</td>\n",
       "      <td>178.0</td>\n",
       "      <td>72.0</td>\n",
       "      <td>Favorite-1</td>\n",
       "      <td>FRA</td>\n",
       "      <td>1900 Summer</td>\n",
       "      <td>1900</td>\n",
       "      <td>Summer</td>\n",
       "      <td>Paris</td>\n",
       "      <td>Sailing</td>\n",
       "      <td>Sailing Mixed 2-3 Ton</td>\n",
       "      <td>Silver</td>\n",
       "    </tr>\n",
       "    <tr>\n",
       "      <th>29661</th>\n",
       "      <td>Jacques Doucet</td>\n",
       "      <td>MALE</td>\n",
       "      <td>25.0</td>\n",
       "      <td>178.0</td>\n",
       "      <td>72.0</td>\n",
       "      <td>Favorite-1</td>\n",
       "      <td>FRA</td>\n",
       "      <td>1900 Summer</td>\n",
       "      <td>1900</td>\n",
       "      <td>Summer</td>\n",
       "      <td>Paris</td>\n",
       "      <td>Sailing</td>\n",
       "      <td>Sailing Mixed 2-3 Ton</td>\n",
       "      <td>Silver</td>\n",
       "    </tr>\n",
       "    <tr>\n",
       "      <th>33564</th>\n",
       "      <td>William Edgar Exshaw</td>\n",
       "      <td>MALE</td>\n",
       "      <td>34.0</td>\n",
       "      <td>178.0</td>\n",
       "      <td>72.0</td>\n",
       "      <td>Olle</td>\n",
       "      <td>GBR</td>\n",
       "      <td>1900 Summer</td>\n",
       "      <td>1900</td>\n",
       "      <td>Summer</td>\n",
       "      <td>Paris</td>\n",
       "      <td>Sailing</td>\n",
       "      <td>Sailing Mixed 2-3 Ton</td>\n",
       "      <td>Gold</td>\n",
       "    </tr>\n",
       "    <tr>\n",
       "      <th>33564</th>\n",
       "      <td>William Edgar Exshaw</td>\n",
       "      <td>MALE</td>\n",
       "      <td>34.0</td>\n",
       "      <td>178.0</td>\n",
       "      <td>72.0</td>\n",
       "      <td>Olle</td>\n",
       "      <td>GBR</td>\n",
       "      <td>1900 Summer</td>\n",
       "      <td>1900</td>\n",
       "      <td>Summer</td>\n",
       "      <td>Paris</td>\n",
       "      <td>Sailing</td>\n",
       "      <td>Sailing Mixed 2-3 Ton</td>\n",
       "      <td>Gold</td>\n",
       "    </tr>\n",
       "    <tr>\n",
       "      <th>40973</th>\n",
       "      <td>Victor Auguste Godinet</td>\n",
       "      <td>MALE</td>\n",
       "      <td>47.0</td>\n",
       "      <td>178.0</td>\n",
       "      <td>72.0</td>\n",
       "      <td>Favorite-1</td>\n",
       "      <td>FRA</td>\n",
       "      <td>1900 Summer</td>\n",
       "      <td>1900</td>\n",
       "      <td>Summer</td>\n",
       "      <td>Paris</td>\n",
       "      <td>Sailing</td>\n",
       "      <td>Sailing Mixed 2-3 Ton</td>\n",
       "      <td>Silver</td>\n",
       "    </tr>\n",
       "    <tr>\n",
       "      <th>40973</th>\n",
       "      <td>Victor Auguste Godinet</td>\n",
       "      <td>MALE</td>\n",
       "      <td>47.0</td>\n",
       "      <td>178.0</td>\n",
       "      <td>72.0</td>\n",
       "      <td>Favorite-1</td>\n",
       "      <td>FRA</td>\n",
       "      <td>1900 Summer</td>\n",
       "      <td>1900</td>\n",
       "      <td>Summer</td>\n",
       "      <td>Paris</td>\n",
       "      <td>Sailing</td>\n",
       "      <td>Sailing Mixed 2-3 Ton</td>\n",
       "      <td>Silver</td>\n",
       "    </tr>\n",
       "    <tr>\n",
       "      <th>67525</th>\n",
       "      <td>Jacques le Lavasseur</td>\n",
       "      <td>MALE</td>\n",
       "      <td>25.0</td>\n",
       "      <td>178.0</td>\n",
       "      <td>72.0</td>\n",
       "      <td>Olle</td>\n",
       "      <td>FRA</td>\n",
       "      <td>1900 Summer</td>\n",
       "      <td>1900</td>\n",
       "      <td>Summer</td>\n",
       "      <td>Paris</td>\n",
       "      <td>Sailing</td>\n",
       "      <td>Sailing Mixed 2-3 Ton</td>\n",
       "      <td>Gold</td>\n",
       "    </tr>\n",
       "    <tr>\n",
       "      <th>67525</th>\n",
       "      <td>Jacques le Lavasseur</td>\n",
       "      <td>MALE</td>\n",
       "      <td>25.0</td>\n",
       "      <td>178.0</td>\n",
       "      <td>72.0</td>\n",
       "      <td>Olle</td>\n",
       "      <td>FRA</td>\n",
       "      <td>1900 Summer</td>\n",
       "      <td>1900</td>\n",
       "      <td>Summer</td>\n",
       "      <td>Paris</td>\n",
       "      <td>Sailing</td>\n",
       "      <td>Sailing Mixed 2-3 Ton</td>\n",
       "      <td>Gold</td>\n",
       "    </tr>\n",
       "    <tr>\n",
       "      <th>70374</th>\n",
       "      <td>Robert Linzeler</td>\n",
       "      <td>MALE</td>\n",
       "      <td>28.0</td>\n",
       "      <td>178.0</td>\n",
       "      <td>72.0</td>\n",
       "      <td>Quand-Mme-2</td>\n",
       "      <td>FRA</td>\n",
       "      <td>1900 Summer</td>\n",
       "      <td>1900</td>\n",
       "      <td>Summer</td>\n",
       "      <td>Paris</td>\n",
       "      <td>Sailing</td>\n",
       "      <td>Sailing Mixed 0-0.5 Ton</td>\n",
       "      <td>Silver</td>\n",
       "    </tr>\n",
       "    <tr>\n",
       "      <th>70374</th>\n",
       "      <td>Robert Linzeler</td>\n",
       "      <td>MALE</td>\n",
       "      <td>28.0</td>\n",
       "      <td>178.0</td>\n",
       "      <td>72.0</td>\n",
       "      <td>Quand-Mme-2</td>\n",
       "      <td>FRA</td>\n",
       "      <td>1900 Summer</td>\n",
       "      <td>1900</td>\n",
       "      <td>Summer</td>\n",
       "      <td>Paris</td>\n",
       "      <td>Sailing</td>\n",
       "      <td>Sailing Mixed 0-0.5 Ton</td>\n",
       "      <td>Silver</td>\n",
       "    </tr>\n",
       "    <tr>\n",
       "      <th>77710</th>\n",
       "      <td>Robert Tait McKenzie</td>\n",
       "      <td>MALE</td>\n",
       "      <td>65.0</td>\n",
       "      <td>178.0</td>\n",
       "      <td>72.0</td>\n",
       "      <td>Canada</td>\n",
       "      <td>CAN</td>\n",
       "      <td>1932 Summer</td>\n",
       "      <td>1932</td>\n",
       "      <td>Summer</td>\n",
       "      <td>Los Angeles</td>\n",
       "      <td>Art Competitions</td>\n",
       "      <td>Art Competitions Mixed Sculpturing, Unknown Event</td>\n",
       "      <td>Gold</td>\n",
       "    </tr>\n",
       "    <tr>\n",
       "      <th>77710</th>\n",
       "      <td>Robert Tait McKenzie</td>\n",
       "      <td>MALE</td>\n",
       "      <td>65.0</td>\n",
       "      <td>178.0</td>\n",
       "      <td>72.0</td>\n",
       "      <td>Canada</td>\n",
       "      <td>CAN</td>\n",
       "      <td>1932 Summer</td>\n",
       "      <td>1932</td>\n",
       "      <td>Summer</td>\n",
       "      <td>Los Angeles</td>\n",
       "      <td>Art Competitions</td>\n",
       "      <td>Art Competitions Mixed Sculpturing, Unknown Event</td>\n",
       "      <td>Gold</td>\n",
       "    </tr>\n",
       "    <tr>\n",
       "      <th>77710</th>\n",
       "      <td>Robert Tait McKenzie</td>\n",
       "      <td>MALE</td>\n",
       "      <td>65.0</td>\n",
       "      <td>178.0</td>\n",
       "      <td>72.0</td>\n",
       "      <td>Canada</td>\n",
       "      <td>CAN</td>\n",
       "      <td>1932 Summer</td>\n",
       "      <td>1932</td>\n",
       "      <td>Summer</td>\n",
       "      <td>Los Angeles</td>\n",
       "      <td>Art Competitions</td>\n",
       "      <td>Art Competitions Mixed Sculpturing, Unknown Event</td>\n",
       "      <td>Gold</td>\n",
       "    </tr>\n",
       "    <tr>\n",
       "      <th>79304</th>\n",
       "      <td>Mathias Joseph Ferdinand Jules Henri Mialaret</td>\n",
       "      <td>MALE</td>\n",
       "      <td>44.0</td>\n",
       "      <td>178.0</td>\n",
       "      <td>72.0</td>\n",
       "      <td>Favorite-1</td>\n",
       "      <td>FRA</td>\n",
       "      <td>1900 Summer</td>\n",
       "      <td>1900</td>\n",
       "      <td>Summer</td>\n",
       "      <td>Paris</td>\n",
       "      <td>Sailing</td>\n",
       "      <td>Sailing Mixed 2-3 Ton</td>\n",
       "      <td>Silver</td>\n",
       "    </tr>\n",
       "    <tr>\n",
       "      <th>79304</th>\n",
       "      <td>Mathias Joseph Ferdinand Jules Henri Mialaret</td>\n",
       "      <td>MALE</td>\n",
       "      <td>44.0</td>\n",
       "      <td>178.0</td>\n",
       "      <td>72.0</td>\n",
       "      <td>Favorite-1</td>\n",
       "      <td>FRA</td>\n",
       "      <td>1900 Summer</td>\n",
       "      <td>1900</td>\n",
       "      <td>Summer</td>\n",
       "      <td>Paris</td>\n",
       "      <td>Sailing</td>\n",
       "      <td>Sailing Mixed 2-3 Ton</td>\n",
       "      <td>Silver</td>\n",
       "    </tr>\n",
       "    <tr>\n",
       "      <th>116681</th>\n",
       "      <td>Henri Lon Victor Susse</td>\n",
       "      <td>MALE</td>\n",
       "      <td>55.0</td>\n",
       "      <td>178.0</td>\n",
       "      <td>72.0</td>\n",
       "      <td>Favorite-1</td>\n",
       "      <td>FRA</td>\n",
       "      <td>1900 Summer</td>\n",
       "      <td>1900</td>\n",
       "      <td>Summer</td>\n",
       "      <td>Paris</td>\n",
       "      <td>Sailing</td>\n",
       "      <td>Sailing Mixed 2-3 Ton</td>\n",
       "      <td>Silver</td>\n",
       "    </tr>\n",
       "    <tr>\n",
       "      <th>116681</th>\n",
       "      <td>Henri Lon Victor Susse</td>\n",
       "      <td>MALE</td>\n",
       "      <td>55.0</td>\n",
       "      <td>178.0</td>\n",
       "      <td>72.0</td>\n",
       "      <td>Favorite-1</td>\n",
       "      <td>FRA</td>\n",
       "      <td>1900 Summer</td>\n",
       "      <td>1900</td>\n",
       "      <td>Summer</td>\n",
       "      <td>Paris</td>\n",
       "      <td>Sailing</td>\n",
       "      <td>Sailing Mixed 2-3 Ton</td>\n",
       "      <td>Silver</td>\n",
       "    </tr>\n",
       "    <tr>\n",
       "      <th>119448</th>\n",
       "      <td>Texier I</td>\n",
       "      <td>MALE</td>\n",
       "      <td>25.0</td>\n",
       "      <td>178.0</td>\n",
       "      <td>72.0</td>\n",
       "      <td>Quand-Mme-2</td>\n",
       "      <td>FRA</td>\n",
       "      <td>1900 Summer</td>\n",
       "      <td>1900</td>\n",
       "      <td>Summer</td>\n",
       "      <td>Paris</td>\n",
       "      <td>Sailing</td>\n",
       "      <td>Sailing Mixed 0-0.5 Ton</td>\n",
       "      <td>Silver</td>\n",
       "    </tr>\n",
       "    <tr>\n",
       "      <th>119448</th>\n",
       "      <td>Texier I</td>\n",
       "      <td>MALE</td>\n",
       "      <td>25.0</td>\n",
       "      <td>178.0</td>\n",
       "      <td>72.0</td>\n",
       "      <td>Quand-Mme-2</td>\n",
       "      <td>FRA</td>\n",
       "      <td>1900 Summer</td>\n",
       "      <td>1900</td>\n",
       "      <td>Summer</td>\n",
       "      <td>Paris</td>\n",
       "      <td>Sailing</td>\n",
       "      <td>Sailing Mixed 0-0.5 Ton</td>\n",
       "      <td>Silver</td>\n",
       "    </tr>\n",
       "    <tr>\n",
       "      <th>119449</th>\n",
       "      <td>Texier II</td>\n",
       "      <td>MALE</td>\n",
       "      <td>25.0</td>\n",
       "      <td>178.0</td>\n",
       "      <td>72.0</td>\n",
       "      <td>Quand-Mme-2</td>\n",
       "      <td>FRA</td>\n",
       "      <td>1900 Summer</td>\n",
       "      <td>1900</td>\n",
       "      <td>Summer</td>\n",
       "      <td>Paris</td>\n",
       "      <td>Sailing</td>\n",
       "      <td>Sailing Mixed 0-0.5 Ton</td>\n",
       "      <td>Silver</td>\n",
       "    </tr>\n",
       "    <tr>\n",
       "      <th>119449</th>\n",
       "      <td>Texier II</td>\n",
       "      <td>MALE</td>\n",
       "      <td>25.0</td>\n",
       "      <td>178.0</td>\n",
       "      <td>72.0</td>\n",
       "      <td>Quand-Mme-2</td>\n",
       "      <td>FRA</td>\n",
       "      <td>1900 Summer</td>\n",
       "      <td>1900</td>\n",
       "      <td>Summer</td>\n",
       "      <td>Paris</td>\n",
       "      <td>Sailing</td>\n",
       "      <td>Sailing Mixed 0-0.5 Ton</td>\n",
       "      <td>Silver</td>\n",
       "    </tr>\n",
       "  </tbody>\n",
       "</table>\n",
       "</div>"
      ],
      "text/plain": [
       "                                                     Name   Sex   Age  Height  \\\n",
       "Athlete_ID                                                                      \n",
       "12115                               Gaston Frdric Blanchy  MALE  31.0   178.0   \n",
       "12115                               Gaston Frdric Blanchy  MALE  31.0   178.0   \n",
       "19094                     Jean Baptiste Albert Joseph Cau  MALE  25.0   178.0   \n",
       "19094                     Jean Baptiste Albert Joseph Cau  MALE  25.0   178.0   \n",
       "19874                 Jean-Baptiste tienne August Charcot  MALE  23.0   178.0   \n",
       "19874                 Jean-Baptiste tienne August Charcot  MALE  23.0   178.0   \n",
       "29661                                      Jacques Doucet  MALE  25.0   178.0   \n",
       "29661                                      Jacques Doucet  MALE  25.0   178.0   \n",
       "33564                                William Edgar Exshaw  MALE  34.0   178.0   \n",
       "33564                                William Edgar Exshaw  MALE  34.0   178.0   \n",
       "40973                              Victor Auguste Godinet  MALE  47.0   178.0   \n",
       "40973                              Victor Auguste Godinet  MALE  47.0   178.0   \n",
       "67525                                Jacques le Lavasseur  MALE  25.0   178.0   \n",
       "67525                                Jacques le Lavasseur  MALE  25.0   178.0   \n",
       "70374                                     Robert Linzeler  MALE  28.0   178.0   \n",
       "70374                                     Robert Linzeler  MALE  28.0   178.0   \n",
       "77710                                Robert Tait McKenzie  MALE  65.0   178.0   \n",
       "77710                                Robert Tait McKenzie  MALE  65.0   178.0   \n",
       "77710                                Robert Tait McKenzie  MALE  65.0   178.0   \n",
       "79304       Mathias Joseph Ferdinand Jules Henri Mialaret  MALE  44.0   178.0   \n",
       "79304       Mathias Joseph Ferdinand Jules Henri Mialaret  MALE  44.0   178.0   \n",
       "116681                             Henri Lon Victor Susse  MALE  55.0   178.0   \n",
       "116681                             Henri Lon Victor Susse  MALE  55.0   178.0   \n",
       "119448                                           Texier I  MALE  25.0   178.0   \n",
       "119448                                           Texier I  MALE  25.0   178.0   \n",
       "119449                                          Texier II  MALE  25.0   178.0   \n",
       "119449                                          Texier II  MALE  25.0   178.0   \n",
       "\n",
       "            Weight                          Team  NOC        Games  Year  \\\n",
       "Athlete_ID                                                                 \n",
       "12115         72.0                          Olle  FRA  1900 Summer  1900   \n",
       "12115         72.0                          Olle  FRA  1900 Summer  1900   \n",
       "19094         72.0  Cercle de l'Aviron Roubaix-4  FRA  1900 Summer  1900   \n",
       "19094         72.0  Cercle de l'Aviron Roubaix-4  FRA  1900 Summer  1900   \n",
       "19874         72.0                   Quand-Mme-2  FRA  1900 Summer  1900   \n",
       "19874         72.0                   Quand-Mme-2  FRA  1900 Summer  1900   \n",
       "29661         72.0                    Favorite-1  FRA  1900 Summer  1900   \n",
       "29661         72.0                    Favorite-1  FRA  1900 Summer  1900   \n",
       "33564         72.0                          Olle  GBR  1900 Summer  1900   \n",
       "33564         72.0                          Olle  GBR  1900 Summer  1900   \n",
       "40973         72.0                    Favorite-1  FRA  1900 Summer  1900   \n",
       "40973         72.0                    Favorite-1  FRA  1900 Summer  1900   \n",
       "67525         72.0                          Olle  FRA  1900 Summer  1900   \n",
       "67525         72.0                          Olle  FRA  1900 Summer  1900   \n",
       "70374         72.0                   Quand-Mme-2  FRA  1900 Summer  1900   \n",
       "70374         72.0                   Quand-Mme-2  FRA  1900 Summer  1900   \n",
       "77710         72.0                        Canada  CAN  1932 Summer  1932   \n",
       "77710         72.0                        Canada  CAN  1932 Summer  1932   \n",
       "77710         72.0                        Canada  CAN  1932 Summer  1932   \n",
       "79304         72.0                    Favorite-1  FRA  1900 Summer  1900   \n",
       "79304         72.0                    Favorite-1  FRA  1900 Summer  1900   \n",
       "116681        72.0                    Favorite-1  FRA  1900 Summer  1900   \n",
       "116681        72.0                    Favorite-1  FRA  1900 Summer  1900   \n",
       "119448        72.0                   Quand-Mme-2  FRA  1900 Summer  1900   \n",
       "119448        72.0                   Quand-Mme-2  FRA  1900 Summer  1900   \n",
       "119449        72.0                   Quand-Mme-2  FRA  1900 Summer  1900   \n",
       "119449        72.0                   Quand-Mme-2  FRA  1900 Summer  1900   \n",
       "\n",
       "            Season         City             Sport  \\\n",
       "Athlete_ID                                          \n",
       "12115       Summer        Paris           Sailing   \n",
       "12115       Summer        Paris           Sailing   \n",
       "19094       Summer        Paris            Rowing   \n",
       "19094       Summer        Paris            Rowing   \n",
       "19874       Summer        Paris           Sailing   \n",
       "19874       Summer        Paris           Sailing   \n",
       "29661       Summer        Paris           Sailing   \n",
       "29661       Summer        Paris           Sailing   \n",
       "33564       Summer        Paris           Sailing   \n",
       "33564       Summer        Paris           Sailing   \n",
       "40973       Summer        Paris           Sailing   \n",
       "40973       Summer        Paris           Sailing   \n",
       "67525       Summer        Paris           Sailing   \n",
       "67525       Summer        Paris           Sailing   \n",
       "70374       Summer        Paris           Sailing   \n",
       "70374       Summer        Paris           Sailing   \n",
       "77710       Summer  Los Angeles  Art Competitions   \n",
       "77710       Summer  Los Angeles  Art Competitions   \n",
       "77710       Summer  Los Angeles  Art Competitions   \n",
       "79304       Summer        Paris           Sailing   \n",
       "79304       Summer        Paris           Sailing   \n",
       "116681      Summer        Paris           Sailing   \n",
       "116681      Summer        Paris           Sailing   \n",
       "119448      Summer        Paris           Sailing   \n",
       "119448      Summer        Paris           Sailing   \n",
       "119449      Summer        Paris           Sailing   \n",
       "119449      Summer        Paris           Sailing   \n",
       "\n",
       "                                                        Event   Medal  \n",
       "Athlete_ID                                                             \n",
       "12115                                   Sailing Mixed 2-3 Ton    Gold  \n",
       "12115                                   Sailing Mixed 2-3 Ton    Gold  \n",
       "19094                                Rowing Men's Coxed Fours    Gold  \n",
       "19094                                Rowing Men's Coxed Fours    Gold  \n",
       "19874                                 Sailing Mixed 0-0.5 Ton  Silver  \n",
       "19874                                 Sailing Mixed 0-0.5 Ton  Silver  \n",
       "29661                                   Sailing Mixed 2-3 Ton  Silver  \n",
       "29661                                   Sailing Mixed 2-3 Ton  Silver  \n",
       "33564                                   Sailing Mixed 2-3 Ton    Gold  \n",
       "33564                                   Sailing Mixed 2-3 Ton    Gold  \n",
       "40973                                   Sailing Mixed 2-3 Ton  Silver  \n",
       "40973                                   Sailing Mixed 2-3 Ton  Silver  \n",
       "67525                                   Sailing Mixed 2-3 Ton    Gold  \n",
       "67525                                   Sailing Mixed 2-3 Ton    Gold  \n",
       "70374                                 Sailing Mixed 0-0.5 Ton  Silver  \n",
       "70374                                 Sailing Mixed 0-0.5 Ton  Silver  \n",
       "77710       Art Competitions Mixed Sculpturing, Unknown Event    Gold  \n",
       "77710       Art Competitions Mixed Sculpturing, Unknown Event    Gold  \n",
       "77710       Art Competitions Mixed Sculpturing, Unknown Event    Gold  \n",
       "79304                                   Sailing Mixed 2-3 Ton  Silver  \n",
       "79304                                   Sailing Mixed 2-3 Ton  Silver  \n",
       "116681                                  Sailing Mixed 2-3 Ton  Silver  \n",
       "116681                                  Sailing Mixed 2-3 Ton  Silver  \n",
       "119448                                Sailing Mixed 0-0.5 Ton  Silver  \n",
       "119448                                Sailing Mixed 0-0.5 Ton  Silver  \n",
       "119449                                Sailing Mixed 0-0.5 Ton  Silver  \n",
       "119449                                Sailing Mixed 0-0.5 Ton  Silver  "
      ]
     },
     "metadata": {},
     "execution_count": 58
    }
   ],
   "metadata": {}
  },
  {
   "cell_type": "markdown",
   "source": [
    "Note que as linhas duplicadas são idênticas, não havendo nenhum caso de duplicação parcial.\r\n",
    "\r\n",
    "Basta, portanto, que eliminemos as duplicatas, mantendo apenas uma delas em nosso dataset."
   ],
   "metadata": {}
  },
  {
   "cell_type": "code",
   "execution_count": 59,
   "source": [
    "#Dropando as duplicatas\r\n",
    "\r\n",
    "df.drop_duplicates(keep = \"first\", inplace = True)\t"
   ],
   "outputs": [],
   "metadata": {}
  },
  {
   "cell_type": "code",
   "execution_count": 60,
   "source": [
    "#Confere o sucesso da operação anterior\r\n",
    "\r\n",
    "df[df.duplicated(keep = False)]"
   ],
   "outputs": [
    {
     "output_type": "execute_result",
     "data": {
      "text/html": [
       "<div>\n",
       "<style scoped>\n",
       "    .dataframe tbody tr th:only-of-type {\n",
       "        vertical-align: middle;\n",
       "    }\n",
       "\n",
       "    .dataframe tbody tr th {\n",
       "        vertical-align: top;\n",
       "    }\n",
       "\n",
       "    .dataframe thead th {\n",
       "        text-align: right;\n",
       "    }\n",
       "</style>\n",
       "<table border=\"1\" class=\"dataframe\">\n",
       "  <thead>\n",
       "    <tr style=\"text-align: right;\">\n",
       "      <th></th>\n",
       "      <th>Name</th>\n",
       "      <th>Sex</th>\n",
       "      <th>Age</th>\n",
       "      <th>Height</th>\n",
       "      <th>Weight</th>\n",
       "      <th>Team</th>\n",
       "      <th>NOC</th>\n",
       "      <th>Games</th>\n",
       "      <th>Year</th>\n",
       "      <th>Season</th>\n",
       "      <th>City</th>\n",
       "      <th>Sport</th>\n",
       "      <th>Event</th>\n",
       "      <th>Medal</th>\n",
       "    </tr>\n",
       "    <tr>\n",
       "      <th>Athlete_ID</th>\n",
       "      <th></th>\n",
       "      <th></th>\n",
       "      <th></th>\n",
       "      <th></th>\n",
       "      <th></th>\n",
       "      <th></th>\n",
       "      <th></th>\n",
       "      <th></th>\n",
       "      <th></th>\n",
       "      <th></th>\n",
       "      <th></th>\n",
       "      <th></th>\n",
       "      <th></th>\n",
       "      <th></th>\n",
       "    </tr>\n",
       "  </thead>\n",
       "  <tbody>\n",
       "  </tbody>\n",
       "</table>\n",
       "</div>"
      ],
      "text/plain": [
       "Empty DataFrame\n",
       "Columns: [Name, Sex, Age, Height, Weight, Team, NOC, Games, Year, Season, City, Sport, Event, Medal]\n",
       "Index: []"
      ]
     },
     "metadata": {},
     "execution_count": 60
    }
   ],
   "metadata": {}
  },
  {
   "cell_type": "markdown",
   "source": [
    "## **GRÁFICOS**"
   ],
   "metadata": {}
  },
  {
   "cell_type": "markdown",
   "source": [
    "Feita a limpeza dos dados, vamos analisar nosso dataset.\r\n",
    "\r\n",
    "Um primeiro passo é construir um mapa de calor para entender melhor qual a relação entre os dados que temos em mãos."
   ],
   "metadata": {}
  },
  {
   "cell_type": "code",
   "execution_count": 118,
   "source": [
    "#Criação do heatmap\r\n",
    "\r\n",
    "plt.figure(figsize=(10,5))\r\n",
    "corrs = df.corr()\r\n",
    "mask = np.zeros_like(corrs)\r\n",
    "mask[np.triu_indices_from(mask)] = True\r\n",
    "sns.heatmap(corrs, annot=True, vmin=-1, vmax=1, mask = mask, cmap='Spectral_r')\r\n",
    "plt.title('Correlation Matrix',  fontsize = 20, color = 'black')\r\n",
    "plt.show()"
   ],
   "outputs": [
    {
     "output_type": "display_data",
     "data": {
      "image/png": "[encoded data removed]",
      "text/plain": [
       "<Figure size 720x360 with 2 Axes>"
      ]
     },
     "metadata": {
      "needs_background": "light"
     }
    }
   ],
   "metadata": {}
  },
  {
   "cell_type": "markdown",
   "source": [
    "A matriz de correlação acima informa que as colunas com maior correlação são as de peso (Weight) e de altura (Height). \r\n",
    "\r\n",
    "Em seguida, temos peso e idade (Age). \r\n",
    "\r\n",
    "Isso ocorre por razões bastante óbvias e, por conta disso, não vamos nos debruçar sobre esses dados.\r\n",
    "\r\n",
    "Vamos buscar, então, por relações entre os demais dados do dataset. Para isso, seguiremos a seguinte lógica:\r\n",
    "\r\n",
    "1. Fazer uma análise geral das Olímpiadas quanto a alguns critérios (e tirar conclusões disso);\r\n",
    "2. Fazer uma análise segundo o critério Sexo;\r\n",
    "3. Fazer uma análise dos atletas mais medalhistas e outra segundo o critério Esporte."
   ],
   "metadata": {}
  },
  {
   "cell_type": "markdown",
   "source": [
    "### **ANÁLISE GERAL (INVERNO x VERÃO)**"
   ],
   "metadata": {}
  },
  {
   "cell_type": "code",
   "execution_count": 62,
   "source": [
    "plt.subplots(figsize = (20,10))\r\n",
    "my_palette = {'Gold': 'gold','Silver': 'silver', 'Bronze': '#cd7f32' }\r\n",
    "sns.countplot(x= \"Year\", hue= 'Medal', data= df , palette= my_palette);\r\n",
    "plt.xlabel('Years', fontsize = 15, color = 'black')\r\n",
    "plt.ylabel('Count', fontsize = 15, color = 'black')\r\n",
    "plt.title('Number of medals per year', fontsize = 20, color = 'black')\r\n",
    "plt.plot()"
   ],
   "outputs": [
    {
     "output_type": "execute_result",
     "data": {
      "text/plain": [
       "[]"
      ]
     },
     "metadata": {},
     "execution_count": 62
    },
    {
     "output_type": "display_data",
     "data": {
      "image/png": "[encoded data removed]",
      "text/plain": [
       "<Figure size 1440x720 with 1 Axes>"
      ]
     },
     "metadata": {
      "needs_background": "light"
     }
    }
   ],
   "metadata": {}
  },
  {
   "cell_type": "markdown",
   "source": [
    "Uma análise do gráfico acima permite concluir que, no geral, a quantidade de medalhistas aumenta com o passar dos anos. Isso pode ser explicado razoavelmente por uma maior participação de atletas e um aumento de eventos nas Olímpiadas.\r\n",
    "\r\n",
    "Também podemos ver que a quantidade de medalhistas de ouro sempre é maior que a dos demais. Quanto à distribuição das medalhas, dentre suas categorias, basta essa análise.\r\n",
    "\r\n",
    "Por fim, é notório que há alguns casos que saltam aos olhos. Por exempo, a diferença gritante entre a quantidade de medalhas entre os Jogos de 1992 e 1994, 2008 e 2010 ou 2012 e 2014. Isso pode estar relacionado à estação em que ocorrem as Olímpiadas. \r\n",
    "\r\n",
    "Muito provavelmente, nas de Inverno, poucos atletas e comitês participem, enquanto, nas de Verão, há um salto expressivo de participantes e maior variedade de eventos. Dessa forma, temos menos medalhas a serem entregues no Inverno e mais no Verão.\r\n",
    "\r\n",
    "Vamos analisar essas diferenças mais para frente e atestar se essa hipótese está correta!"
   ],
   "metadata": {}
  },
  {
   "cell_type": "code",
   "execution_count": 117,
   "source": [
    "season = df[\"Season\"].value_counts()\r\n",
    "plt.subplots(figsize = (20,5))\r\n",
    "my_palette = {\"Summer\": \"#F3872F\", \"Winter\": \"#50A3C6\"}\r\n",
    "sns.barplot(x=season.index, y=season, palette = my_palette)\r\n",
    "plt.xlabel('Season', fontsize = 15, color = 'black')\r\n",
    "plt.ylabel('Athletes count', fontsize = 15, color = 'black')\r\n",
    "plt.title('Athletes participation along the seasons', fontsize = 20, color = 'black')\r\n",
    "plt.plot()"
   ],
   "outputs": [
    {
     "output_type": "execute_result",
     "data": {
      "text/plain": [
       "[]"
      ]
     },
     "metadata": {},
     "execution_count": 117
    },
    {
     "output_type": "display_data",
     "data": {
      "image/png": "[encoded data removed]",
      "text/plain": [
       "<Figure size 1440x360 with 1 Axes>"
      ]
     },
     "metadata": {
      "needs_background": "light"
     }
    }
   ],
   "metadata": {}
  },
  {
   "cell_type": "markdown",
   "source": [
    "O gráfico acima apresenta o que já era esperado: no Inverno, a participação nos Jogos é bem menor que no Verão. \r\n",
    "\r\n",
    "É nítido que essa diferença ocorre por conta da questão climática, o que reflete também na quantidade de modalidades disputadas."
   ],
   "metadata": {}
  },
  {
   "cell_type": "code",
   "execution_count": 67,
   "source": [
    "newData = df.groupby(\"Year\").agg({\"Name\": pd.Series.nunique}).reset_index()\r\n",
    "\r\n",
    "plt.subplots(figsize = (20,5))\r\n",
    "sns.pointplot(data = newData, x= \"Year\", y = \"Name\",  color= \"blue\");\r\n",
    "plt.xlabel('Year', fontsize = 15, color = 'black')\r\n",
    "plt.ylabel('Athletes count', fontsize = 15, color = 'black')\r\n",
    "plt.title('Athletes evolution along the years', fontsize = 20, color = 'black')\r\n",
    "plt.plot()"
   ],
   "outputs": [
    {
     "output_type": "execute_result",
     "data": {
      "text/plain": [
       "[]"
      ]
     },
     "metadata": {},
     "execution_count": 67
    },
    {
     "output_type": "display_data",
     "data": {
      "image/png": "[encoded data removed]",
      "text/plain": [
       "<Figure size 1440x360 with 1 Axes>"
      ]
     },
     "metadata": {
      "needs_background": "light"
     }
    }
   ],
   "metadata": {}
  },
  {
   "cell_type": "markdown",
   "source": [
    "O gráfico acima informa a evolução da participação de atletas ao longo dos anos.\r\n",
    "\r\n",
    "Em um primeiro momento, pode-se constatar que, no geral, conforme o passar dos anos, essa quantidade aumenta, como esperávamos. É esperado, então, que o mesmo gráfico, em relação aos Comitês participantes, seja bastante parecido com esse.\r\n",
    "\r\n",
    "Outro ponto de destaque são os anos dos Jogos de Inverno. Mais uma vez, percebemos que são justamente eles que têm a menor participação de atletas.\r\n",
    "\r\n",
    "Novamente, há casos especiais que podem ser explicados por fatores históricos, o que justificaria sua não inserção no padrão visto.\r\n",
    "\r\n",
    "Os anos iniciais do século XX corresponde ao período de consolidação do formato das Olímpiadas como temos atualmente, o que explica a baixa participação de atletas, com alguns altos e baixos.\r\n",
    "\r\n",
    "O trecho decrescente nos anos 20 e 30 correspondem às Olímpiadas que ocorrem em meio a Grande Depressão e a Crise de 29, o que afetou profundamente os ânimos das pessoas e a economia de todos os países. Por conta disso, houve baixa adesão aos Jogos.\r\n",
    "\r\n",
    "Após 12 anos de interrupção (devido à Segunda Guerra Mundial), os Jogos Olímpicos voltam em 1948, porém, em um cenário bastante afetado pelos acontecimentos anteriores. Novamente, vemos uma queda na participação.\r\n",
    "\r\n",
    "Em 1956, temos o início da Guerra Fria e a ocorrência de conflitos políticos internacionais (alguns armados até). Atribui-se a essa época os primeiros boicotes às Olímpiadas. \r\n",
    "\r\n",
    "Esses exemplos bastam para concluir que a história das Olímpiadas é feita de altos e baixos, sendo que a ocorrência dos Jogos é bastante influenciada pelo contexto de seu tempo e da sociedade contemporânea à ela. Isso, somado à questão das estações do ano, explica alguns momentos de baixa ou alta participação, em contraste ao padrão de crescente participação que se nota no comportamento da curva."
   ],
   "metadata": {}
  },
  {
   "cell_type": "code",
   "execution_count": 68,
   "source": [
    "newData = df.groupby(\"Year\").agg({\"NOC\": pd.Series.nunique}).reset_index()\r\n",
    "\r\n",
    "plt.subplots(figsize = (20,5))\r\n",
    "sns.pointplot(data = newData, x= \"Year\", y = \"NOC\",  color= \"blue\");\r\n",
    "plt.xlabel('Year', fontsize = 15, color = 'black')\r\n",
    "plt.ylabel('Countries count', fontsize = 15, color = 'black')\r\n",
    "plt.title('Countries participation along the years', fontsize = 20, color = 'black')\r\n",
    "plt.plot()"
   ],
   "outputs": [
    {
     "output_type": "execute_result",
     "data": {
      "text/plain": [
       "[]"
      ]
     },
     "metadata": {},
     "execution_count": 68
    },
    {
     "output_type": "display_data",
     "data": {
      "image/png": "[encoded data removed]",
      "text/plain": [
       "<Figure size 1440x360 with 1 Axes>"
      ]
     },
     "metadata": {
      "needs_background": "light"
     }
    }
   ],
   "metadata": {}
  },
  {
   "cell_type": "markdown",
   "source": [
    "O gráfico acima está em conssonância com o anterior e apresenta o comportamento que imaginávamos para ele.\r\n",
    "\r\n",
    "Alguns pontos se destacam nessa curva em relação à anterior e vamos falar de um bem importante.\r\n",
    "\r\n",
    "Em 1984, temos, de fato, um crescimento singular da quantidade de países participantes. Em meio à Guerra Fria, isso pode ser explicado por uma série de manobras políticas realizadas pelos EUA para garantir o sucesso da edição, a qual foi boicotada pela União Soviética e outros países. A tentativa da URSS claramente deu errado, visto que mais países participaram dessa edição, sendo que, inclusive, essa é a primeira participação da China no evento em toda a história."
   ],
   "metadata": {}
  },
  {
   "cell_type": "code",
   "execution_count": 78,
   "source": [
    "countries = list(df['NOC'].unique())\r\n",
    "medal_counts = []\r\n",
    "for i in countries:\r\n",
    "    x = df[df['NOC'] == i]\r\n",
    "    medalCount = len(x)\r\n",
    "    medal_counts.append(medalCount)\r\n",
    "\r\n",
    "newData = pd.DataFrame({'countries': countries,'medal_counts':medal_counts})\r\n",
    "new_index = (newData['medal_counts'].sort_values(ascending=False)).index.values\r\n",
    "sorted_data = newData.reindex(new_index)\r\n",
    "sorted_data = sorted_data.head(10)\r\n",
    "\r\n",
    "plt.figure(figsize = (20,5))\r\n",
    "sns.barplot(y = sorted_data['countries'], x = sorted_data['medal_counts'], palette= \"bright\")\r\n",
    "plt.xlabel('Countries', fontsize = 15, color = 'black')\r\n",
    "plt.ylabel('Count', fontsize = 15, color = 'black')\r\n",
    "plt.title('Olympic Medals by Country - Top 10', fontsize = 20, color = 'black')\r\n",
    "plt.show()"
   ],
   "outputs": [
    {
     "output_type": "display_data",
     "data": {
      "image/png": "[encoded data removed]",
      "text/plain": [
       "<Figure size 1440x360 with 1 Axes>"
      ]
     },
     "metadata": {
      "needs_background": "light"
     }
    }
   ],
   "metadata": {}
  },
  {
   "cell_type": "markdown",
   "source": [
    "O gráfico de barras acima nos indica a distribuição de medalhas olímpicas por país, em um Top 10, considerando todo o período de tempo do nosso dataset.\r\n",
    "\r\n",
    "O primeiro e o segundo lugar ficam com os Estados Unidos e a União Soviética, respectivamente e como era esperado. O resultado não poderia ser outro considerando que os dados se referem principalmente aos Jogos durante o século XX, marcado pela competição, inclusive esportiva, entre esses países.\r\n",
    "\r\n",
    "Em seguida, o Top 10 é completado apenas por países desenvolvidos (Canadá e europeus). A ausência de países latinos e africanos é algo que chama bastante a atenção nesse caso. "
   ],
   "metadata": {}
  },
  {
   "cell_type": "code",
   "execution_count": 102,
   "source": [
    "countries = list(df['NOC'].unique())\r\n",
    "medal_counts = []\r\n",
    "for i in countries:\r\n",
    "    x = df[df['NOC'] == i]\r\n",
    "    medalCount = len(x)\r\n",
    "    medal_counts.append(medalCount)\r\n",
    "\r\n",
    "newData = pd.DataFrame({'countries': countries,'medal_counts':medal_counts})\r\n",
    "new_index = (newData['medal_counts'].sort_values(ascending=False)).index.values\r\n",
    "sorted_data = newData.reindex(new_index)\r\n",
    "sorted_data = sorted_data[26:57]\r\n",
    "\r\n",
    "plt.figure(figsize = (20,5))\r\n",
    "sns.barplot(y = sorted_data['countries'], x = sorted_data['medal_counts'], palette= \"bright\")\r\n",
    "plt.xlabel('Countries', fontsize = 15, color = 'black')\r\n",
    "plt.ylabel('Count', fontsize = 15, color = 'black')\r\n",
    "plt.title('Olympic Medals by Country -26th to 56th', fontsize = 20, color = 'black')\r\n",
    "plt.show()"
   ],
   "outputs": [
    {
     "output_type": "display_data",
     "data": {
      "image/png": "[encoded data removed]",
      "text/plain": [
       "<Figure size 1440x360 with 1 Axes>"
      ]
     },
     "metadata": {
      "needs_background": "light"
     }
    }
   ],
   "metadata": {}
  },
  {
   "cell_type": "markdown",
   "source": [
    "Alterando o intervalo da lista de países, podemos obter o gráfico acima.\r\n",
    "\r\n",
    "Perceba que o Brasil está na 26ª posição apenas. Somente a partir dessa posição, encontramos países latinos, como Cuba, Argentina e Jamaica. \r\n",
    "Países africanos, como a África do Sul, o Quênia e a Nigéria, estão perto da quadragésima posição."
   ],
   "metadata": {}
  },
  {
   "cell_type": "code",
   "execution_count": 104,
   "source": [
    "countries = list(df['NOC'].unique())\r\n",
    "medal_counts = []\r\n",
    "for i in countries:\r\n",
    "    x = df[df['NOC'] == i]\r\n",
    "    medalCount = len(x[x[\"Medal\"] == \"Gold\"])\r\n",
    "    medal_counts.append(medalCount)\r\n",
    "\r\n",
    "newData = pd.DataFrame({'countries': countries,'medal_counts':medal_counts})\r\n",
    "new_index = (newData['medal_counts'].sort_values(ascending=False)).index.values\r\n",
    "sorted_data = newData.reindex(new_index)\r\n",
    "sorted_data = sorted_data.head(10)\r\n",
    "\r\n",
    "plt.figure(figsize = (20,5))\r\n",
    "sns.barplot(y = sorted_data['countries'], x = sorted_data['medal_counts'], palette= \"bright\")\r\n",
    "plt.xlabel('Countries', fontsize = 15, color = 'black')\r\n",
    "plt.ylabel('Count', fontsize = 15, color = 'black')\r\n",
    "plt.title('Gold Olympic Medals by Country - Top 10', fontsize = 20, color = 'black')\r\n",
    "plt.show()"
   ],
   "outputs": [
    {
     "output_type": "display_data",
     "data": {
      "image/png": "[encoded data removed]",
      "text/plain": [
       "<Figure size 1440x360 with 1 Axes>"
      ]
     },
     "metadata": {
      "needs_background": "light"
     }
    }
   ],
   "metadata": {}
  },
  {
   "cell_type": "markdown",
   "source": [
    "O gráfico acima nos indica distribuição de medalhas de ouro entre os comitês olímpicos. O cenário não surpreende. Mais uma vez, é liderado pelos países desenvolvidos.\r\n",
    "\r\n",
    "Diante de tudo o que vimos até agora, especialmente os últimos gráficos, é possível afirmar que há uma disparidade profunda entre a participação e a conquista dos países mais desenvolvidos e os que são periféricos, em qualquer quesito positivo, como medalhas obtidas, por exemplo.\r\n",
    "\r\n",
    "É esperado que vejamos essa tendência de distribuição desigual se repetir para outras análises também.\r\n",
    "\r\n",
    "Mas será que essa diferença de posições, por exemplo, pode ser explicada? \r\n",
    "\r\n",
    "Por que países mais desenvolvidos têm mais medalhas (geral e ouro) e os países periféricos possuem menos?"
   ],
   "metadata": {}
  },
  {
   "cell_type": "markdown",
   "source": [
    "### **SEXO**"
   ],
   "metadata": {}
  },
  {
   "cell_type": "code",
   "execution_count": 86,
   "source": [
    "plt.subplots(figsize = (20,5))\r\n",
    "my_palette = {'Gold': 'gold','Silver': 'silver', 'Bronze': '#cd7f32' }\r\n",
    "sns.countplot(x= \"Sex\", hue= 'Medal', data= df , palette= my_palette);\r\n",
    "plt.xlabel('Sex', fontsize = 15, color = 'black')\r\n",
    "plt.ylabel('Count', fontsize = 15, color = 'black')\r\n",
    "plt.title('Number of medals per sex', fontsize = 20, color = 'black')\r\n",
    "plt.plot()"
   ],
   "outputs": [
    {
     "output_type": "execute_result",
     "data": {
      "text/plain": [
       "[]"
      ]
     },
     "metadata": {},
     "execution_count": 86
    },
    {
     "output_type": "display_data",
     "data": {
      "image/png": "[encoded data removed]",
      "text/plain": [
       "<Figure size 1440x360 with 1 Axes>"
      ]
     },
     "metadata": {
      "needs_background": "light"
     }
    }
   ],
   "metadata": {}
  },
  {
   "cell_type": "markdown",
   "source": [
    "O gráfico acima nos apresenta a distribuição de medalhas segundo critérios de sexo.\r\n",
    "\r\n",
    "A diferença entre medalhas dadas aos homens e as dadas às mulheres e bastante significativa. Enquanto os homens somam mais de 12 mil medalhas de ouro apenas, as mulheres não atingem sequer 6 mil medalhas da mesma categoria.\r\n",
    "\r\n",
    "É claro que essa disparidade pode ser explicada por várias questões sociais. Por exemplo, nem sempre as mulheres puderam participar dos Jogos Olímpicos. É óbvio, então, que elas tenham menos medalhistas, já que não tiveram a mesma oportunidade de participação.\r\n",
    "\r\n",
    "Vamos entender um pouco da participação das mulheres nos Jogos ao longo do tempo?"
   ],
   "metadata": {}
  },
  {
   "cell_type": "code",
   "execution_count": 70,
   "source": [
    "years = list(df[\"Year\"].unique())\r\n",
    "M = []\r\n",
    "F = []\r\n",
    "\r\n",
    "for i in years:\r\n",
    "    x = df[df[\"Year\"] == i]\r\n",
    "    male = len(x[x[\"Sex\"] == \"MALE\"])\r\n",
    "    M.append(male)\r\n",
    "    female = len(x[x[\"Sex\"] == \"FEMALE\"])\r\n",
    "    F.append(female)\r\n",
    "\r\n",
    "\r\n",
    "plt.subplots(figsize = (20,5))\r\n",
    "sns.pointplot(x= years, y = M,  color= \"blue\");\r\n",
    "sns.pointplot(x= years, y = F,  color= \"red\");\r\n",
    "plt.xlabel('Year', fontsize = 15, color = 'black')\r\n",
    "plt.ylabel('Count', fontsize = 15, color = 'black')\r\n",
    "plt.title('Participation in Olympics by sex along the years', fontsize = 20, color = 'black')\r\n",
    "plt.plot()"
   ],
   "outputs": [
    {
     "output_type": "execute_result",
     "data": {
      "text/plain": [
       "[]"
      ]
     },
     "metadata": {},
     "execution_count": 70
    },
    {
     "output_type": "display_data",
     "data": {
      "image/png": "[encoded data removed]",
      "text/plain": [
       "<Figure size 1440x360 with 1 Axes>"
      ]
     },
     "metadata": {
      "needs_background": "light"
     }
    }
   ],
   "metadata": {}
  },
  {
   "cell_type": "markdown",
   "source": [
    "Como esperávamos, nos anos iniciais, a participação das mulheres rodeia zero. Inclusive, em 1896, a primeira edição dos Jogos Modernos, não houve atletas mulheres!\r\n",
    "\r\n",
    "Com o tempo, esse número aumenta gradativamente. Isso, com certeza, se deve às mudanças sociais decorrentes da luta das mulheres em todo o mundo.\r\n",
    "\r\n",
    "Vemos também que, assim como os homens, as mulheres também participam menos durante os Jogos de Inverno.\r\n",
    "\r\n",
    "A maior participação das mulheres foi em 2016, representando quase 50% do total de atletas, sendo essa, portanto, também a edição com mais igualdade entre os sexos. "
   ],
   "metadata": {}
  },
  {
   "cell_type": "code",
   "execution_count": 71,
   "source": [
    "year2016 = df[df[\"Year\"] == 2016]\r\n",
    "fig, ax = plt.subplots(figsize = (7,7))\r\n",
    "ax.grid(False)\r\n",
    "plt.title('Sex participation according to 2016', color = 'black', fontsize = 20)\r\n",
    "plt.pie(year2016['Sex'].value_counts(), wedgeprops={'alpha':0.5}, autopct='%1.1f%%', labels = [\"Male\", \"Female\"], textprops={'fontsize': 15})\r\n",
    "fig.set_facecolor('wheat')\r\n",
    "plt.show()"
   ],
   "outputs": [
    {
     "output_type": "display_data",
     "data": {
      "image/png": "[encoded data removed]",
      "text/plain": [
       "<Figure size 504x504 with 1 Axes>"
      ]
     },
     "metadata": {}
    }
   ],
   "metadata": {}
  },
  {
   "cell_type": "markdown",
   "source": [
    "O gráfico de pizza acima indica que a participação das mulheres chegou bem perto da metade em relação ao total de atletas. Isso confirma a hipótese anterior, quando comparado ao gráfico de evolução, que a edição com a maior participação das mulheres foi a mais recente do nosso dataset, o que também é coerente com a evolução da história mundial.\r\n",
    "\r\n",
    "No entanto, os atletas homens dominam ainda as Olímpiadas em termos de participação."
   ],
   "metadata": {}
  },
  {
   "cell_type": "code",
   "execution_count": 101,
   "source": [
    "countries = list(df[\"NOC\"].unique())\r\n",
    "F = []\r\n",
    "\r\n",
    "for i in countries:\r\n",
    "    x = df[df[\"NOC\"] == i]\r\n",
    "    female = len(x[x[\"Sex\"] == \"FEMALE\"])\r\n",
    "    F.append(female)\r\n",
    "\r\n",
    "newData = pd.DataFrame({'countries': countries,'female athletes':F})\r\n",
    "new_index = (newData['female athletes'].sort_values(ascending=False)).index.values\r\n",
    "sorted_data = newData.reindex(new_index).head(10)\r\n",
    "\r\n",
    "plt.subplots( figsize = (20,5))\r\n",
    "sns.barplot( x= sorted_data['countries'], y = sorted_data['female athletes'], palette = \"bright\")\r\n",
    "plt.xlabel('Countries', fontsize = 15, color = 'black')\r\n",
    "plt.ylabel('Female Athletes Count', fontsize = 15, color = 'black')\r\n",
    "plt.title('Female Athletes by Countries - Top 10', fontsize = 20, color = 'black')\r\n",
    "plt.plot()"
   ],
   "outputs": [
    {
     "output_type": "execute_result",
     "data": {
      "text/plain": [
       "[]"
      ]
     },
     "metadata": {},
     "execution_count": 101
    },
    {
     "output_type": "display_data",
     "data": {
      "image/png": "[encoded data removed]",
      "text/plain": [
       "<Figure size 1440x360 with 1 Axes>"
      ]
     },
     "metadata": {
      "needs_background": "light"
     }
    }
   ],
   "metadata": {}
  },
  {
   "cell_type": "markdown",
   "source": [
    "O gráfico acima apresenta o Top 10 dos países com mais atletas medalhistas mulheres. Vamos finalizar nossa análise segundo o critério de Sexo com esse gráfico.\r\n",
    "\r\n",
    "Mais uma vez, o cenário é dominado pelos países desenvolvidos, sendo que EUA, Alemanha e URSS dominam o pódio.\r\n",
    "\r\n",
    "Como estamos tratando todo o período Moderno das Olímpiadas, é de se esperar que hajam duas categorias diferentes: uma para a URSS (que já não mais existe) e outra para a Rússia (RUS); ou até mesmo uma para a Alemanha Oriental (GDR) e outra para a Alemanha (GER), do tempo presente.\r\n",
    "\r\n",
    "Destaque para países como China e Países Baixos, que aparecem nesse gráfico, ainda que não tenham tido posição de destaque no gráfico de países mais medalhistas, por exemplo. Apesar disso, alguns conhecidos desse gráfico reaparecem aqui, como Canadá, Grã-Bretanha, Áustria, EUA e Alemanha."
   ],
   "metadata": {}
  },
  {
   "cell_type": "code",
   "execution_count": 103,
   "source": [
    "countries = list(df[\"NOC\"].unique())\r\n",
    "F = []\r\n",
    "\r\n",
    "for i in countries:\r\n",
    "    x = df[df[\"NOC\"] == i]\r\n",
    "    female = len(x[x[\"Sex\"] == \"FEMALE\"])\r\n",
    "    F.append(female)\r\n",
    "\r\n",
    "newData = pd.DataFrame({'countries': countries,'female athletes':F})\r\n",
    "new_index = (newData['female athletes'].sort_values(ascending=False)).index.values\r\n",
    "sorted_data = newData.reindex(new_index)\r\n",
    "sorted_data = sorted_data[19:50]\r\n",
    "\r\n",
    "plt.subplots( figsize = (20,5))\r\n",
    "sns.barplot( x= sorted_data['countries'], y = sorted_data['female athletes'], palette = \"bright\")\r\n",
    "plt.xlabel('Countries', fontsize = 15, color = 'black')\r\n",
    "plt.ylabel('Female Athletes Count', fontsize = 15, color = 'black')\r\n",
    "plt.title('Female Athletes by Countries - 19th to 49th', fontsize = 20, color = 'black')\r\n",
    "plt.plot()"
   ],
   "outputs": [
    {
     "output_type": "execute_result",
     "data": {
      "text/plain": [
       "[]"
      ]
     },
     "metadata": {},
     "execution_count": 103
    },
    {
     "output_type": "display_data",
     "data": {
      "image/png": "[encoded data removed]",
      "text/plain": [
       "<Figure size 1440x360 with 1 Axes>"
      ]
     },
     "metadata": {
      "needs_background": "light"
     }
    }
   ],
   "metadata": {}
  },
  {
   "cell_type": "markdown",
   "source": [
    "Dessa vez, o Brasil aparece na 19ª posição. \r\n",
    "\r\n",
    "No entanto, países latinos tornam-se destaque apenas a partir da posição brasileira. Países africanos em posições semelhantes às do gráfico de medalhas por país (41ª com a África do Sul).\r\n",
    "\r\n",
    "Será que a diferença existente entre países desenvolvidos e periféricos também se reflete nas questões de sexo? Por que mulheres europeias e norte-americanas têm maior participação nos espotes do que as latinas e africanas, por exemplo?"
   ],
   "metadata": {}
  },
  {
   "cell_type": "markdown",
   "source": [
    "### **ATLETAS MAIS MEDALHISTAS E ESPORTES**"
   ],
   "metadata": {}
  },
  {
   "cell_type": "code",
   "execution_count": 109,
   "source": [
    "athletes = list(df[\"Name\"].unique())\r\n",
    "medal_counts = []\r\n",
    "for i in athletes:\r\n",
    "    x = df[df[\"Name\"] == i]\r\n",
    "    medalCount = len(x)\r\n",
    "    medal_counts.append(medalCount)\r\n",
    "\r\n",
    "newData = pd.DataFrame({'athletes': athletes,'medal_counts':medal_counts})\r\n",
    "new_index = (newData['medal_counts'].sort_values(ascending=False)).index.values\r\n",
    "sorted_data = newData.reindex(new_index)\r\n",
    "sorted_data = sorted_data.head(10)\r\n",
    "\r\n",
    "plt.figure(figsize = (20,5))\r\n",
    "sns.barplot(y = sorted_data['athletes'], x = sorted_data['medal_counts'], palette= \"Dark2\")\r\n",
    "plt.xlabel('Athletes', fontsize = 15, color = 'black')\r\n",
    "plt.ylabel('Count', fontsize = 15, color = 'black')\r\n",
    "plt.title('Olympic Medals by Athlete - Top 10', fontsize = 20, color = 'black')\r\n",
    "plt.show()"
   ],
   "outputs": [
    {
     "output_type": "display_data",
     "data": {
      "image/png": "[encoded data removed]",
      "text/plain": [
       "<Figure size 1440x360 with 1 Axes>"
      ]
     },
     "metadata": {
      "needs_background": "light"
     }
    }
   ],
   "metadata": {}
  },
  {
   "cell_type": "markdown",
   "source": [
    "No gráfico acima, temos o Top 10 dos atletas mais medalhistas da história das Olímpiadas.\r\n",
    "\r\n",
    "Destaque para o primeiro lugar: o lendário Michael Phelps, da Natação, representando os EUA. Em seguida, temos 3 atletas soviéticos liderando o nosso Top 10. Novamente, esse resultado não poderia ser diferente, devido às questões já levantadas anteriormente a respeito das disputas entre os dois países.\r\n",
    "\r\n",
    "Passamos a Ole Einar, norueguês; Takashi Ono, japonês; e Edoardo Mangiarotti, italiano. \r\n",
    "\r\n",
    "Os demais são estadunidenses. Temos, no total, 4 atletas dos EUA contra 3 da URSS. Vemos, que o conflito acirrado entre ambos marca nosso Top 10 mais uma vez, deixando espaço aberto apenas para atletas de países desenvolvidos (como esperado novamente)."
   ],
   "metadata": {}
  },
  {
   "cell_type": "code",
   "execution_count": 107,
   "source": [
    "sports = list(df[\"Sport\"].unique())\r\n",
    "medal_counts = []\r\n",
    "gold_counts=[]\r\n",
    "for i in sports:\r\n",
    "    x = df[df[\"Sport\"] == i]\r\n",
    "    medalCount = len(x)\r\n",
    "    medal_counts.append(medalCount)\r\n",
    "    gold = len(x[x[\"Medal\"] == \"Gold\"])\r\n",
    "    gold_counts.append(gold)\r\n",
    "\r\n",
    "\r\n",
    "newData = pd.DataFrame({'Sport': sports,'Total Medals Count':medal_counts})\r\n",
    "new_index = (newData['Total Medals Count'].sort_values(ascending=False)).index.values\r\n",
    "sorted_data = newData.reindex(new_index)\r\n",
    "sorted_data = sorted_data.head(10)\r\n",
    "\r\n",
    "newData1 = pd.DataFrame({'Sport': sports,'Gold Count':gold_counts})\r\n",
    "new_index1 = (newData1['Gold Count'].sort_values(ascending=False)).index.values\r\n",
    "sorted_data1 = newData1.reindex(new_index1)\r\n",
    "sorted_data1 = sorted_data1.head(10)\r\n",
    "\r\n",
    "fig, axes = plt.subplots(2, 1, figsize = (20,10))\r\n",
    "sns.barplot(ax = axes[0],x = sorted_data['Sport'], y = sorted_data['Total Medals Count'], palette= \"Dark2\")\r\n",
    "sns.barplot(ax = axes[1],x = sorted_data1['Sport'], y = sorted_data1['Gold Count'], palette= \"Set1\")\r\n",
    "\r\n",
    "fig.suptitle('Olympic Medals by Sport - Top 10', fontsize = 20, color = 'black')\r\n",
    "plt.show()"
   ],
   "outputs": [
    {
     "output_type": "display_data",
     "data": {
      "image/png": "[encoded data removed]",
      "text/plain": [
       "<Figure size 1440x720 with 2 Axes>"
      ]
     },
     "metadata": {
      "needs_background": "light"
     }
    }
   ],
   "metadata": {}
  },
  {
   "cell_type": "markdown",
   "source": [
    "Temos dois gráficos acima. O superior indica o Top 10 Esportes Medalhistas e o inferior o Top 10 Esportes Medalhistas de Ouro.\r\n",
    "\r\n",
    "Atletismo e Natação ocupam, respectivamente, a primeira e a segunda posições de ambos. Isso pode ocorrer, talvez, por conta dos dois esportes terem uma quantidade de provas bastante significativa, superando, no geral, a dos demais, como futebol, por exemplo, considerando que, dessa forma, competem mais atletas também.\r\n",
    "\r\n",
    "Em seguida, temos Ginástica e Remo, que trocam a terceira e a quarta posições nos gráficos. O mesmo ocorre com as demais. Apenas Esgrima, além de Atletismo e Natação, mantem sua posição nos dois rankings.\r\n",
    "\r\n",
    "É importante notar que todos os dois Top 10 possuem os mesmos países, mas alguns com posições trocadas. Além disso, ao comparar os dois gráficos, percebemos que as medalhas de ouro por si só representam uma parcela bastante expressiva do total de medalhas conquistadas para cada esporte. É razoável, então, pensar que esses esportes ganham mais ouro, no geral, do que medalhas de prata e de bronze.\r\n",
    "\r\n",
    "Um último pensamento bem interessante é que esportes mais tradicionais e populares, como Basquete, Vôlei, etc., não aparecem em nenhum dos rankings. O único que aparece é Futebol, mas, ainda assim, em uma posição menor do que se esperaria para esse esporte, dada a sua fama e popularidade."
   ],
   "metadata": {}
  },
  {
   "cell_type": "code",
   "execution_count": 108,
   "source": [
    "sports = list(df[\"Sport\"].unique())\r\n",
    "average_Age = []\r\n",
    "\r\n",
    "for i in sports:\r\n",
    "    x = df[df[\"Sport\"] == i]\r\n",
    "    average_age = sum(x[\"Age\"])/len(x[\"Age\"])\r\n",
    "    average_Age.append(average_age)\r\n",
    "\r\n",
    "newData = pd.DataFrame({'sports': sports,'average age':average_Age})\r\n",
    "new_index = (newData['average age'].sort_values(ascending=False)).index.values\r\n",
    "sorted_data = newData.reindex(new_index)\r\n",
    "\r\n",
    "plt.figure(figsize = (20,5))\r\n",
    "sns.barplot(x = sorted_data['sports'], y = sorted_data['average age'], palette= \"Set3\")\r\n",
    "plt.xlabel('Sports', fontsize = 15, color = 'black')\r\n",
    "plt.xticks(rotation=90)\r\n",
    "plt.ylabel('Age', fontsize = 15, color = 'black')\r\n",
    "plt.title('Average Age by Sport', fontsize = 20, color = 'black')\r\n",
    "plt.show()"
   ],
   "outputs": [
    {
     "output_type": "display_data",
     "data": {
      "image/png": "[encoded data removed]",
      "text/plain": [
       "<Figure size 1440x360 with 1 Axes>"
      ]
     },
     "metadata": {
      "needs_background": "light"
     }
    }
   ],
   "metadata": {}
  },
  {
   "cell_type": "markdown",
   "source": [
    "O gráfico acima nos informa a idade média para cada esporte. Podemos extrair disso resultantos um tanto quanto curiosos.\r\n",
    "\r\n",
    "Os esportes com atletas mais velhos são o Roque, Competições Artísticas, Hipismo e Polo, por exemplo. Antes de mais nada, é importante ressaltar que o Roque foi considerado uma modalidade olímpica apenas na edição de 1904 (e nunca mais apareceu nos Jogos!). Hoje, é entendido como uma variação do Críquete, que também aparece no gráfico como um esporte de atletas mais velhos.\r\n",
    "\r\n",
    "- Entre 40 e 50 anos, temos apenas Competições Artísticas e Roque;\r\n",
    "- Entre 30 e 40 anos, ainda encontramos apenas esportes um pouco fora do gosto popular, como Hipismo, Alpinismo e Tiro;\r\n",
    "- Entre 20 e 30 anos, temos uma mistura de esportes pouco e muito tradicionais, conhecidos do grande público. Nessa faixa, encontramos desde Jogo de Palma e - Bobsleigh até Tênis, Handebol, Beisebol, Vôlei, Basquete, Natação, Skate, Atletismo e Judô;\r\n",
    "- Entre 10 e 20 anos, temos apenas Ginástica Rítmica. Sendo esse esporte, então, o mais jovem dentre os disputados nas Olímpiadas."
   ],
   "metadata": {}
  }
 ],
 "metadata": {
  "orig_nbformat": 4,
  "language_info": {
   "name": "python",
   "version": "3.9.6",
   "mimetype": "text/x-python",
   "codemirror_mode": {
    "name": "ipython",
    "version": 3
   },
   "pygments_lexer": "ipython3",
   "nbconvert_exporter": "python",
   "file_extension": ".py"
  },
  "kernelspec": {
   "name": "python3",
   "display_name": "Python 3.9.6 64-bit"
  },
  "interpreter": {
   "hash": "f9a665eed82786d1db64405b5cfd0f8037f4571b806793cb1072a84e044fc7ff"
  }
 },
 "nbformat": 4,
 "nbformat_minor": 2
}